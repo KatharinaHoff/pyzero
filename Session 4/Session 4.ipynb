{
 "cells": [
  {
   "cell_type": "markdown",
   "metadata": {},
   "source": [
    "# Python from Zero: The absolute Beginner's course\n",
    "\n",
    "## Session 4 / 4 - 24.02.2022 9:00 - 13:00\n",
    "<br>\n",
    "<font size=\"3\">\n",
    "    <i>by Fabian Wilde, Katharina Hoff, Matthis Ebel & Mario Stanke<br></i><br>\n",
    "<b>Contact:</b> matthis.ebel@uni-greifswald.de\n",
    "<br>\n",
    "</font>\n",
    "<br>"
   ]
  },
  {
   "cell_type": "markdown",
   "metadata": {},
   "source": [
    "# The library Pandas\n",
    "\n",
    "<br>\n",
    "<font size=\"3\">\n",
    "Neither NumPy arrays, nor any of the native Python data structures (e.g. lists, dicts, ...) are suitable to handle the data that is typically generated in scientific experiments or by surveys. These are typically tables where one column contains one data type, but different columns may have different data types. The solution in Python is to use Pandas (https://pandas.pydata.org/). Pandas is also most popular for time series data.\n",
    "<br><br>\n",
    "If we want to use Pandas, we have to import it:\n",
    "</font>"
   ]
  },
  {
   "cell_type": "code",
   "execution_count": 3,
   "metadata": {},
   "outputs": [],
   "source": [
    "import pandas as pd"
   ]
  },
  {
   "cell_type": "markdown",
   "metadata": {},
   "source": [
    "<font size=\"3\">\n",
    "With Pandas, we can easily import a csv file that had previously been exported from LibreOffice Calc (or similar Office software):\n",
    "</font>"
   ]
  },
  {
   "cell_type": "code",
   "execution_count": 4,
   "metadata": {},
   "outputs": [
    {
     "data": {
      "text/html": [
       "<div>\n",
       "<style scoped>\n",
       "    .dataframe tbody tr th:only-of-type {\n",
       "        vertical-align: middle;\n",
       "    }\n",
       "\n",
       "    .dataframe tbody tr th {\n",
       "        vertical-align: top;\n",
       "    }\n",
       "\n",
       "    .dataframe thead th {\n",
       "        text-align: right;\n",
       "    }\n",
       "</style>\n",
       "<table border=\"1\" class=\"dataframe\">\n",
       "  <thead>\n",
       "    <tr style=\"text-align: right;\">\n",
       "      <th></th>\n",
       "      <th>variety</th>\n",
       "      <th>yield</th>\n",
       "    </tr>\n",
       "  </thead>\n",
       "  <tbody>\n",
       "    <tr>\n",
       "      <th>0</th>\n",
       "      <td>A</td>\n",
       "      <td>25.12</td>\n",
       "    </tr>\n",
       "    <tr>\n",
       "      <th>1</th>\n",
       "      <td>A</td>\n",
       "      <td>17.25</td>\n",
       "    </tr>\n",
       "    <tr>\n",
       "      <th>2</th>\n",
       "      <td>A</td>\n",
       "      <td>26.42</td>\n",
       "    </tr>\n",
       "    <tr>\n",
       "      <th>3</th>\n",
       "      <td>A</td>\n",
       "      <td>16.08</td>\n",
       "    </tr>\n",
       "    <tr>\n",
       "      <th>4</th>\n",
       "      <td>A</td>\n",
       "      <td>22.15</td>\n",
       "    </tr>\n",
       "    <tr>\n",
       "      <th>5</th>\n",
       "      <td>A</td>\n",
       "      <td>15.92</td>\n",
       "    </tr>\n",
       "    <tr>\n",
       "      <th>6</th>\n",
       "      <td>B</td>\n",
       "      <td>40.25</td>\n",
       "    </tr>\n",
       "    <tr>\n",
       "      <th>7</th>\n",
       "      <td>B</td>\n",
       "      <td>35.25</td>\n",
       "    </tr>\n",
       "    <tr>\n",
       "      <th>8</th>\n",
       "      <td>B</td>\n",
       "      <td>31.98</td>\n",
       "    </tr>\n",
       "    <tr>\n",
       "      <th>9</th>\n",
       "      <td>B</td>\n",
       "      <td>36.52</td>\n",
       "    </tr>\n",
       "    <tr>\n",
       "      <th>10</th>\n",
       "      <td>B</td>\n",
       "      <td>43.32</td>\n",
       "    </tr>\n",
       "    <tr>\n",
       "      <th>11</th>\n",
       "      <td>B</td>\n",
       "      <td>37.10</td>\n",
       "    </tr>\n",
       "    <tr>\n",
       "      <th>12</th>\n",
       "      <td>C</td>\n",
       "      <td>18.30</td>\n",
       "    </tr>\n",
       "    <tr>\n",
       "      <th>13</th>\n",
       "      <td>C</td>\n",
       "      <td>22.60</td>\n",
       "    </tr>\n",
       "    <tr>\n",
       "      <th>14</th>\n",
       "      <td>C</td>\n",
       "      <td>25.90</td>\n",
       "    </tr>\n",
       "    <tr>\n",
       "      <th>15</th>\n",
       "      <td>C</td>\n",
       "      <td>15.05</td>\n",
       "    </tr>\n",
       "    <tr>\n",
       "      <th>16</th>\n",
       "      <td>C</td>\n",
       "      <td>11.42</td>\n",
       "    </tr>\n",
       "    <tr>\n",
       "      <th>17</th>\n",
       "      <td>C</td>\n",
       "      <td>23.68</td>\n",
       "    </tr>\n",
       "    <tr>\n",
       "      <th>18</th>\n",
       "      <td>D</td>\n",
       "      <td>28.55</td>\n",
       "    </tr>\n",
       "    <tr>\n",
       "      <th>19</th>\n",
       "      <td>D</td>\n",
       "      <td>28.05</td>\n",
       "    </tr>\n",
       "    <tr>\n",
       "      <th>20</th>\n",
       "      <td>D</td>\n",
       "      <td>33.20</td>\n",
       "    </tr>\n",
       "    <tr>\n",
       "      <th>21</th>\n",
       "      <td>D</td>\n",
       "      <td>31.68</td>\n",
       "    </tr>\n",
       "    <tr>\n",
       "      <th>22</th>\n",
       "      <td>D</td>\n",
       "      <td>30.32</td>\n",
       "    </tr>\n",
       "    <tr>\n",
       "      <th>23</th>\n",
       "      <td>D</td>\n",
       "      <td>27.58</td>\n",
       "    </tr>\n",
       "  </tbody>\n",
       "</table>\n",
       "</div>"
      ],
      "text/plain": [
       "   variety  yield\n",
       "0        A  25.12\n",
       "1        A  17.25\n",
       "2        A  26.42\n",
       "3        A  16.08\n",
       "4        A  22.15\n",
       "5        A  15.92\n",
       "6        B  40.25\n",
       "7        B  35.25\n",
       "8        B  31.98\n",
       "9        B  36.52\n",
       "10       B  43.32\n",
       "11       B  37.10\n",
       "12       C  18.30\n",
       "13       C  22.60\n",
       "14       C  25.90\n",
       "15       C  15.05\n",
       "16       C  11.42\n",
       "17       C  23.68\n",
       "18       D  28.55\n",
       "19       D  28.05\n",
       "20       D  33.20\n",
       "21       D  31.68\n",
       "22       D  30.32\n",
       "23       D  27.58"
      ]
     },
     "execution_count": 4,
     "metadata": {},
     "output_type": "execute_result"
    }
   ],
   "source": [
    "melon = pd.read_csv('data/melon.csv', sep='\\t')\n",
    "melon"
   ]
  },
  {
   "cell_type": "markdown",
   "metadata": {},
   "source": [
    "<font size=\"3\">We can play with accessing parts of the melon data set:</font>"
   ]
  },
  {
   "cell_type": "code",
   "execution_count": 7,
   "metadata": {},
   "outputs": [
    {
     "name": "stdout",
     "output_type": "stream",
     "text": [
      "access lines 1 and 2, all columns:\n",
      "  variety  yield\n",
      "1       A  17.25\n",
      "2       A  26.42\n",
      "access a particular single value as scalar:\n",
      "17.25\n",
      "access a column by name (only first couple of lines):\n",
      "0    A\n",
      "1    A\n",
      "2    A\n",
      "3    A\n",
      "4    A\n",
      "Name: variety, dtype: object\n",
      "find parts of dataframe where yield >37:\n",
      "   variety  yield\n",
      "18       D  28.55\n",
      "19       D  28.05\n",
      "20       D  33.20\n",
      "21       D  31.68\n",
      "22       D  30.32\n",
      "23       D  27.58\n",
      "variety    6\n",
      "yield      6\n",
      "dtype: int64\n",
      "             yield\n",
      "variety           \n",
      "A        20.490000\n",
      "B        37.403333\n",
      "C        19.491667\n",
      "D        29.896667\n"
     ]
    }
   ],
   "source": [
    "print(\"access lines 1 and 2, all columns:\")\n",
    "# line index is 0-based\n",
    "print(melon.iloc[1:3,:])\n",
    "\n",
    "print(\"access a particular single value as scalar:\")\n",
    "print(melon.iloc[1,1])\n",
    "\n",
    "print(\"access a column by name (only first couple of lines):\")\n",
    "print(melon[\"variety\"].head())\n",
    "\n",
    "# like in Numpy we can also use comparisons in Pandas when elements are addressed\n",
    "print(\"find parts of dataframe where yield >37:\")\n",
    "#print(melon['yield'] > 37)\n",
    "print(melon[melon['variety'] == 'D'])\n",
    "\n",
    "# count the number of occurrences of this variety\n",
    "print(melon[melon[\"variety\"] == \"C\"].count())\n",
    "\n",
    "# group-by functionality facilitates analyses\n",
    "print(melon.groupby(\"variety\").mean())"
   ]
  },
  {
   "cell_type": "markdown",
   "metadata": {},
   "source": [
    "<font size=\"3\">Table-like data in Pandas is stored in DataFrame objects, as we can see, when we check the datatype of our melon dataset:</font>"
   ]
  },
  {
   "cell_type": "code",
   "execution_count": 7,
   "metadata": {},
   "outputs": [
    {
     "name": "stdout",
     "output_type": "stream",
     "text": [
      "<class 'pandas.core.frame.DataFrame'>\n"
     ]
    }
   ],
   "source": [
    "print(type(melon))"
   ]
  },
  {
   "cell_type": "markdown",
   "metadata": {},
   "source": [
    "<font size=\"3\">A DataFrame can also be created manually from one or more lists or numpy arrays:</font>"
   ]
  },
  {
   "cell_type": "code",
   "execution_count": 10,
   "metadata": {
    "scrolled": true
   },
   "outputs": [
    {
     "data": {
      "text/html": [
       "<div>\n",
       "<style scoped>\n",
       "    .dataframe tbody tr th:only-of-type {\n",
       "        vertical-align: middle;\n",
       "    }\n",
       "\n",
       "    .dataframe tbody tr th {\n",
       "        vertical-align: top;\n",
       "    }\n",
       "\n",
       "    .dataframe thead th {\n",
       "        text-align: right;\n",
       "    }\n",
       "</style>\n",
       "<table border=\"1\" class=\"dataframe\">\n",
       "  <thead>\n",
       "    <tr style=\"text-align: right;\">\n",
       "      <th></th>\n",
       "      <th>numbers</th>\n",
       "    </tr>\n",
       "  </thead>\n",
       "  <tbody>\n",
       "    <tr>\n",
       "      <th>a</th>\n",
       "      <td>123</td>\n",
       "    </tr>\n",
       "    <tr>\n",
       "      <th>b</th>\n",
       "      <td>23</td>\n",
       "    </tr>\n",
       "    <tr>\n",
       "      <th>c</th>\n",
       "      <td>54</td>\n",
       "    </tr>\n",
       "    <tr>\n",
       "      <th>d</th>\n",
       "      <td>15</td>\n",
       "    </tr>\n",
       "    <tr>\n",
       "      <th>e</th>\n",
       "      <td>89</td>\n",
       "    </tr>\n",
       "  </tbody>\n",
       "</table>\n",
       "</div>"
      ],
      "text/plain": [
       "   numbers\n",
       "a      123\n",
       "b       23\n",
       "c       54\n",
       "d       15\n",
       "e       89"
      ]
     },
     "execution_count": 10,
     "metadata": {},
     "output_type": "execute_result"
    }
   ],
   "source": [
    "# You can define a name for each column with the parameter columns\n",
    "# The special thing about Pandas is now that one column can also be defined as index or can\n",
    "# be explicitly defined. Indexation is a key feature of big databases to speed-up queries.b\n",
    "df = pd.DataFrame([123,23,54,15,89], columns=[\"numbers\"], index=[\"a\",\"b\",\"c\",\"d\",\"e\"])\n",
    "df"
   ]
  },
  {
   "cell_type": "markdown",
   "metadata": {},
   "source": [
    "<font size=\"3\">A Pandas DataFrame object also has useful attributes like index and columns:</font>"
   ]
  },
  {
   "cell_type": "code",
   "execution_count": 12,
   "metadata": {},
   "outputs": [
    {
     "name": "stdout",
     "output_type": "stream",
     "text": [
      "Index(['a', 'b', 'c', 'd', 'e'], dtype='object')\n",
      "Index(['numbers'], dtype='object')\n",
      "numbers    int64\n",
      "dtype: object\n"
     ]
    }
   ],
   "source": [
    "print(df.index)\n",
    "print(df.columns)\n",
    "print(df.dtypes)"
   ]
  },
  {
   "cell_type": "markdown",
   "metadata": {},
   "source": [
    "<font size=\"3\">Once defined, a DataFrame can be enlarged as well by other columns even if the columns contain a different data type:</font>"
   ]
  },
  {
   "cell_type": "code",
   "execution_count": 16,
   "metadata": {
    "scrolled": true
   },
   "outputs": [
    {
     "data": {
      "text/html": [
       "<div>\n",
       "<style scoped>\n",
       "    .dataframe tbody tr th:only-of-type {\n",
       "        vertical-align: middle;\n",
       "    }\n",
       "\n",
       "    .dataframe tbody tr th {\n",
       "        vertical-align: top;\n",
       "    }\n",
       "\n",
       "    .dataframe thead th {\n",
       "        text-align: right;\n",
       "    }\n",
       "</style>\n",
       "<table border=\"1\" class=\"dataframe\">\n",
       "  <thead>\n",
       "    <tr style=\"text-align: right;\">\n",
       "      <th></th>\n",
       "      <th>numbers</th>\n",
       "      <th>floats</th>\n",
       "      <th>names</th>\n",
       "    </tr>\n",
       "  </thead>\n",
       "  <tbody>\n",
       "    <tr>\n",
       "      <th>a</th>\n",
       "      <td>123</td>\n",
       "      <td>1.23</td>\n",
       "      <td>Marco</td>\n",
       "    </tr>\n",
       "    <tr>\n",
       "      <th>b</th>\n",
       "      <td>23</td>\n",
       "      <td>5.67</td>\n",
       "      <td>Alex</td>\n",
       "    </tr>\n",
       "    <tr>\n",
       "      <th>c</th>\n",
       "      <td>54</td>\n",
       "      <td>4.31</td>\n",
       "      <td>John</td>\n",
       "    </tr>\n",
       "    <tr>\n",
       "      <th>d</th>\n",
       "      <td>15</td>\n",
       "      <td>6.89</td>\n",
       "      <td>Michael</td>\n",
       "    </tr>\n",
       "    <tr>\n",
       "      <th>e</th>\n",
       "      <td>89</td>\n",
       "      <td>5.34</td>\n",
       "      <td>Alistair</td>\n",
       "    </tr>\n",
       "  </tbody>\n",
       "</table>\n",
       "</div>"
      ],
      "text/plain": [
       "   numbers  floats     names\n",
       "a      123    1.23     Marco\n",
       "b       23    5.67      Alex\n",
       "c       54    4.31      John\n",
       "d       15    6.89   Michael\n",
       "e       89    5.34  Alistair"
      ]
     },
     "execution_count": 16,
     "metadata": {},
     "output_type": "execute_result"
    }
   ],
   "source": [
    "df['floats'] = [1.23, 5.67, 4.31, 6.89, 5.34]\n",
    "df['names'] = ['Marco', 'Alex', 'John', 'Michael', 'Alistair']\n",
    "df"
   ]
  },
  {
   "cell_type": "code",
   "execution_count": 14,
   "metadata": {},
   "outputs": [
    {
     "name": "stdout",
     "output_type": "stream",
     "text": [
      "numbers      int64\n",
      "floats     float64\n",
      "names       object\n",
      "dtype: object\n"
     ]
    }
   ],
   "source": [
    "print(df.dtypes)"
   ]
  },
  {
   "cell_type": "markdown",
   "metadata": {},
   "source": [
    "<font size=\"3\">Or we simply add a new row with data providing a new DataFrame, but once an index has been defined, we need to make sure to provide then index values as well:</font>"
   ]
  },
  {
   "cell_type": "code",
   "execution_count": 22,
   "metadata": {},
   "outputs": [
    {
     "data": {
      "text/html": [
       "<div>\n",
       "<style scoped>\n",
       "    .dataframe tbody tr th:only-of-type {\n",
       "        vertical-align: middle;\n",
       "    }\n",
       "\n",
       "    .dataframe tbody tr th {\n",
       "        vertical-align: top;\n",
       "    }\n",
       "\n",
       "    .dataframe thead th {\n",
       "        text-align: right;\n",
       "    }\n",
       "</style>\n",
       "<table border=\"1\" class=\"dataframe\">\n",
       "  <thead>\n",
       "    <tr style=\"text-align: right;\">\n",
       "      <th></th>\n",
       "      <th>numbers</th>\n",
       "      <th>floats</th>\n",
       "      <th>names</th>\n",
       "    </tr>\n",
       "  </thead>\n",
       "  <tbody>\n",
       "    <tr>\n",
       "      <th>a</th>\n",
       "      <td>123</td>\n",
       "      <td>1.23</td>\n",
       "      <td>Marco</td>\n",
       "    </tr>\n",
       "    <tr>\n",
       "      <th>b</th>\n",
       "      <td>23</td>\n",
       "      <td>5.67</td>\n",
       "      <td>Alex</td>\n",
       "    </tr>\n",
       "    <tr>\n",
       "      <th>c</th>\n",
       "      <td>54</td>\n",
       "      <td>4.31</td>\n",
       "      <td>John</td>\n",
       "    </tr>\n",
       "    <tr>\n",
       "      <th>d</th>\n",
       "      <td>15</td>\n",
       "      <td>6.89</td>\n",
       "      <td>Michael</td>\n",
       "    </tr>\n",
       "    <tr>\n",
       "      <th>e</th>\n",
       "      <td>89</td>\n",
       "      <td>5.34</td>\n",
       "      <td>Alistair</td>\n",
       "    </tr>\n",
       "    <tr>\n",
       "      <th>f</th>\n",
       "      <td>273</td>\n",
       "      <td>8.98</td>\n",
       "      <td>Florian</td>\n",
       "    </tr>\n",
       "  </tbody>\n",
       "</table>\n",
       "</div>"
      ],
      "text/plain": [
       "   numbers  floats     names\n",
       "a      123    1.23     Marco\n",
       "b       23    5.67      Alex\n",
       "c       54    4.31      John\n",
       "d       15    6.89   Michael\n",
       "e       89    5.34  Alistair\n",
       "f      273    8.98   Florian"
      ]
     },
     "execution_count": 22,
     "metadata": {},
     "output_type": "execute_result"
    }
   ],
   "source": [
    "df.append(pd.DataFrame({'numbers': 273, 'floats': 8.98, 'names': \"Florian\"}, index=['f']))"
   ]
  },
  {
   "cell_type": "markdown",
   "metadata": {},
   "source": [
    "<font size=\"3\">The index of a Pandas DataFrame can also be a timestamp which is useful for time series data. Pandas also has some useful built-in plotting functionality. As example, we load the dataset of the DAX share price index and plot it using Pandas:</font>"
   ]
  },
  {
   "cell_type": "markdown",
   "metadata": {},
   "source": [
    "<font size=\"3\">We need to install a new package first:</font>"
   ]
  },
  {
   "cell_type": "code",
   "execution_count": 23,
   "metadata": {},
   "outputs": [
    {
     "name": "stdout",
     "output_type": "stream",
     "text": [
      "Collecting pandas-datareader\n",
      "  Downloading pandas_datareader-0.10.0-py3-none-any.whl (109 kB)\n",
      "Collecting lxml\n",
      "  Downloading lxml-4.6.3-cp38-cp38-manylinux2014_x86_64.whl (6.8 MB)\n",
      "Requirement already satisfied: requests>=2.19.0 in /opt/conda/lib/python3.8/site-packages (from pandas-datareader) (2.24.0)\n",
      "Requirement already satisfied: pandas>=0.23 in /opt/conda/lib/python3.8/site-packages (from pandas-datareader) (1.1.2)\n",
      "Requirement already satisfied: certifi>=2017.4.17 in /opt/conda/lib/python3.8/site-packages (from requests>=2.19.0->pandas-datareader) (2021.5.30)\n",
      "Requirement already satisfied: idna<3,>=2.5 in /opt/conda/lib/python3.8/site-packages (from requests>=2.19.0->pandas-datareader) (2.10)\n",
      "Requirement already satisfied: chardet<4,>=3.0.2 in /opt/conda/lib/python3.8/site-packages (from requests>=2.19.0->pandas-datareader) (3.0.4)\n",
      "Requirement already satisfied: urllib3!=1.25.0,!=1.25.1,<1.26,>=1.21.1 in /opt/conda/lib/python3.8/site-packages (from requests>=2.19.0->pandas-datareader) (1.25.10)\n",
      "Requirement already satisfied: numpy>=1.15.4 in /opt/conda/lib/python3.8/site-packages (from pandas>=0.23->pandas-datareader) (1.19.1)\n",
      "Requirement already satisfied: python-dateutil>=2.7.3 in /opt/conda/lib/python3.8/site-packages (from pandas>=0.23->pandas-datareader) (2.8.1)\n",
      "Requirement already satisfied: pytz>=2017.2 in /opt/conda/lib/python3.8/site-packages (from pandas>=0.23->pandas-datareader) (2020.1)\n",
      "Requirement already satisfied: six>=1.5 in /opt/conda/lib/python3.8/site-packages (from python-dateutil>=2.7.3->pandas>=0.23->pandas-datareader) (1.15.0)\n",
      "Installing collected packages: lxml, pandas-datareader\n",
      "Successfully installed lxml-4.6.3 pandas-datareader-0.10.0\n"
     ]
    }
   ],
   "source": [
    "! pip install pandas-datareader"
   ]
  },
  {
   "cell_type": "markdown",
   "metadata": {},
   "source": [
    "<font size=\"3\">Then we need to import the new module and download the data:</font>"
   ]
  },
  {
   "cell_type": "code",
   "execution_count": 30,
   "metadata": {},
   "outputs": [
    {
     "data": {
      "text/html": [
       "<div>\n",
       "<style scoped>\n",
       "    .dataframe tbody tr th:only-of-type {\n",
       "        vertical-align: middle;\n",
       "    }\n",
       "\n",
       "    .dataframe tbody tr th {\n",
       "        vertical-align: top;\n",
       "    }\n",
       "\n",
       "    .dataframe thead th {\n",
       "        text-align: right;\n",
       "    }\n",
       "</style>\n",
       "<table border=\"1\" class=\"dataframe\">\n",
       "  <thead>\n",
       "    <tr style=\"text-align: right;\">\n",
       "      <th></th>\n",
       "      <th>High</th>\n",
       "      <th>Low</th>\n",
       "      <th>Open</th>\n",
       "      <th>Close</th>\n",
       "      <th>Volume</th>\n",
       "      <th>Adj Close</th>\n",
       "    </tr>\n",
       "    <tr>\n",
       "      <th>Date</th>\n",
       "      <th></th>\n",
       "      <th></th>\n",
       "      <th></th>\n",
       "      <th></th>\n",
       "      <th></th>\n",
       "      <th></th>\n",
       "    </tr>\n",
       "  </thead>\n",
       "  <tbody>\n",
       "    <tr>\n",
       "      <th>2000-01-03</th>\n",
       "      <td>7159.330078</td>\n",
       "      <td>6720.870117</td>\n",
       "      <td>6961.720215</td>\n",
       "      <td>6750.759766</td>\n",
       "      <td>43072500.0</td>\n",
       "      <td>6750.759766</td>\n",
       "    </tr>\n",
       "    <tr>\n",
       "      <th>2000-01-04</th>\n",
       "      <td>6755.359863</td>\n",
       "      <td>6510.459961</td>\n",
       "      <td>6747.240234</td>\n",
       "      <td>6586.950195</td>\n",
       "      <td>46678400.0</td>\n",
       "      <td>6586.950195</td>\n",
       "    </tr>\n",
       "    <tr>\n",
       "      <th>2000-01-05</th>\n",
       "      <td>6585.850098</td>\n",
       "      <td>6388.910156</td>\n",
       "      <td>6585.850098</td>\n",
       "      <td>6502.069824</td>\n",
       "      <td>52682800.0</td>\n",
       "      <td>6502.069824</td>\n",
       "    </tr>\n",
       "    <tr>\n",
       "      <th>2000-01-06</th>\n",
       "      <td>6539.310059</td>\n",
       "      <td>6402.629883</td>\n",
       "      <td>6501.450195</td>\n",
       "      <td>6474.919922</td>\n",
       "      <td>41180600.0</td>\n",
       "      <td>6474.919922</td>\n",
       "    </tr>\n",
       "    <tr>\n",
       "      <th>2000-01-07</th>\n",
       "      <td>6791.529785</td>\n",
       "      <td>6470.140137</td>\n",
       "      <td>6489.939941</td>\n",
       "      <td>6780.959961</td>\n",
       "      <td>56058900.0</td>\n",
       "      <td>6780.959961</td>\n",
       "    </tr>\n",
       "  </tbody>\n",
       "</table>\n",
       "</div>"
      ],
      "text/plain": [
       "                   High          Low         Open        Close      Volume  \\\n",
       "Date                                                                         \n",
       "2000-01-03  7159.330078  6720.870117  6961.720215  6750.759766  43072500.0   \n",
       "2000-01-04  6755.359863  6510.459961  6747.240234  6586.950195  46678400.0   \n",
       "2000-01-05  6585.850098  6388.910156  6585.850098  6502.069824  52682800.0   \n",
       "2000-01-06  6539.310059  6402.629883  6501.450195  6474.919922  41180600.0   \n",
       "2000-01-07  6791.529785  6470.140137  6489.939941  6780.959961  56058900.0   \n",
       "\n",
       "              Adj Close  \n",
       "Date                     \n",
       "2000-01-03  6750.759766  \n",
       "2000-01-04  6586.950195  \n",
       "2000-01-05  6502.069824  \n",
       "2000-01-06  6474.919922  \n",
       "2000-01-07  6780.959961  "
      ]
     },
     "execution_count": 30,
     "metadata": {},
     "output_type": "execute_result"
    }
   ],
   "source": [
    "# imports a function to download price data from the web\n",
    "from pandas_datareader import DataReader\n",
    "dax = DataReader(name='^GDAXI', data_source=\"yahoo\", start='2000-1-1')\n",
    "# only returns the first N rows of the data table\n",
    "dax.head()"
   ]
  },
  {
   "cell_type": "code",
   "execution_count": 32,
   "metadata": {},
   "outputs": [
    {
     "name": "stdout",
     "output_type": "stream",
     "text": [
      "32868\n",
      "(5478, 6)\n",
      "<bound method DataFrame.info of                     High           Low          Open         Close  \\\n",
      "Date                                                                 \n",
      "2000-01-03   7159.330078   6720.870117   6961.720215   6750.759766   \n",
      "2000-01-04   6755.359863   6510.459961   6747.240234   6586.950195   \n",
      "2000-01-05   6585.850098   6388.910156   6585.850098   6502.069824   \n",
      "2000-01-06   6539.310059   6402.629883   6501.450195   6474.919922   \n",
      "2000-01-07   6791.529785   6470.140137   6489.939941   6780.959961   \n",
      "...                  ...           ...           ...           ...   \n",
      "2021-07-30  15613.660156  15440.889648  15493.740234  15544.389648   \n",
      "2021-08-02  15702.889648  15511.250000  15631.700195  15568.730469   \n",
      "2021-08-03  15608.070312  15492.580078  15537.690430  15555.080078   \n",
      "2021-08-04  15712.269531  15600.799805  15653.650391  15692.129883   \n",
      "2021-08-05  15696.679688  15672.269531  15653.650391  15679.299805   \n",
      "\n",
      "                Volume     Adj Close  \n",
      "Date                                  \n",
      "2000-01-03  43072500.0   6750.759766  \n",
      "2000-01-04  46678400.0   6586.950195  \n",
      "2000-01-05  52682800.0   6502.069824  \n",
      "2000-01-06  41180600.0   6474.919922  \n",
      "2000-01-07  56058900.0   6780.959961  \n",
      "...                ...           ...  \n",
      "2021-07-30  61343800.0  15544.389648  \n",
      "2021-08-02  53799800.0  15568.730469  \n",
      "2021-08-03  50024700.0  15555.080078  \n",
      "2021-08-04  54854200.0  15692.129883  \n",
      "2021-08-05         0.0  15679.299805  \n",
      "\n",
      "[5478 rows x 6 columns]>\n"
     ]
    }
   ],
   "source": [
    "# gives the total number of values in the table\n",
    "print(dax.size)\n",
    "# gives the number of rows x columns in the table\n",
    "print(dax.shape)\n",
    "# gives a complete summary of the table (size, data types)\n",
    "print(dax.info)"
   ]
  },
  {
   "cell_type": "markdown",
   "metadata": {},
   "source": [
    "<font size=\"3\">We can directly plot now out of Pandas:</font>"
   ]
  },
  {
   "cell_type": "code",
   "execution_count": 28,
   "metadata": {},
   "outputs": [
    {
     "data": {
      "text/plain": [
       "<AxesSubplot:xlabel='Date'>"
      ]
     },
     "execution_count": 28,
     "metadata": {},
     "output_type": "execute_result"
    },
    {
     "data": {
      "image/png": "[encoded data removed]",
      "text/plain": [
       "<Figure size 576x360 with 1 Axes>"
      ]
     },
     "metadata": {
      "needs_background": "light"
     },
     "output_type": "display_data"
    }
   ],
   "source": [
    "dax[\"Close\"].plot(figsize=(8,5))"
   ]
  },
  {
   "cell_type": "markdown",
   "metadata": {},
   "source": [
    "## Usage of Python in Ecology\n",
    "\n",
    "<br>\n",
    "<font size=\"3\">\n",
    "Python offers a variety of possible applications in the field of ecology, even dedicated libraries with data analysis and plotting functionality especially for ecology: <br>\n",
    "<ul>\n",
    "    <li><a href=\"https://ecopy.readthedocs.io/en/latest/\">EcoPy</a>:<br>EcoPy contains numerous numerical and statistical techniques for working with and analyzing multivariate data. Although designed with ecologists in mind, many of the functions and features are widely applicable.</li><br>\n",
    "    <li><a href=\"https://github.com/datacarpentry/python-ecology-lesson\">Data Carpentry Lessons with Ecological Data</a>:<br>Course materials of a Python workshop especially for Ecologists</li><br>\n",
    "    <li><a href=\"https://towardsdatascience.com/creating-the-ecology-classic-kite-diagram-in-python-46989e1310ad\">Creating the classic Kite diagram in Python</a><br>\n",
    "</ul>\n",
    "</font>"
   ]
  }
 ],
 "metadata": {
  "kernelspec": {
   "display_name": "Python 3",
   "language": "python",
   "name": "python3"
  },
  "language_info": {
   "codemirror_mode": {
    "name": "ipython",
    "version": 3
   },
   "file_extension": ".py",
   "mimetype": "text/x-python",
   "name": "python",
   "nbconvert_exporter": "python",
   "pygments_lexer": "ipython3",
   "version": "3.7.5"
  },
  "varInspector": {
   "cols": {
    "lenName": 16,
    "lenType": 16,
    "lenVar": 40
   },
   "kernels_config": {
    "python": {
     "delete_cmd_postfix": "",
     "delete_cmd_prefix": "del ",
     "library": "var_list.py",
     "varRefreshCmd": "print(var_dic_list())"
    },
    "r": {
     "delete_cmd_postfix": ") ",
     "delete_cmd_prefix": "rm(",
     "library": "var_list.r",
     "varRefreshCmd": "cat(var_dic_list()) "
    }
   },
   "types_to_exclude": [
    "module",
    "function",
    "builtin_function_or_method",
    "instance",
    "_Feature"
   ],
   "window_display": false
  }
 },
 "nbformat": 4,
 "nbformat_minor": 4
}
