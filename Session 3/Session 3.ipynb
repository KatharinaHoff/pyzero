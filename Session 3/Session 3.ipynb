{
 "cells": [
  {
   "cell_type": "markdown",
   "metadata": {},
   "source": [
    "# Python from Zero: The absolute Beginner's course\n",
    "\n",
    "## Session 3 / 4 - 23.02.2022 9:00 - 13:00\n",
    "<br>\n",
    "<font size=\"3\">\n",
    "    <i>by Fabian Wilde, Katharina Hoff, Matthis Ebel & Mario Stanke<br></i><br>\n",
    "<b>Contact:</b> matthis.ebel@uni-greifswald.de\n",
    "<br>\n",
    "</font>\n",
    "<br>"
   ]
  },
  {
   "cell_type": "markdown",
   "metadata": {},
   "source": [
    "## Importing Modules and Namespaces\n",
    "<br>\n",
    "<font size=\"3\">\n",
    "Structuring the code in functions which can be easily reused and maintained is the first step to achieve cleaner and leaner code. Nevertheless, in big Python projects, it would result in not really well readable code and collaborating on a common project would be difficult, if all the code would be in one single file. Nowadays Python projects are therefore organised in modules, allowing to distribute parts of the code over multiple files as well.<br><br> The figure below shows an exemplaric project directory structure organized in modules and submodules:<br><br>\n",
    "</font>\n",
    "<div align=\"center\">\n",
    "    <img src=\"img/absolute-import.jpg\" width=\"40%\">\n",
    "</div>\n",
    "<br>\n",
    "<font size=\"2\"><i>Source: <a href=\"https://www.geeksforgeeks.org/absolute-and-relative-imports-in-python/\">https://www.geeksforgeeks.org/absolute-and-relative-imports-in-python/</a></i></font>\n",
    "<br><br>\n",
    "<font size=\"3\">\n",
    "<b>In order to use an existing (3rd party) module in your new script or project, you need to import the module using</b><br><br>\n",
    "<b><font face=\"Courier\">import <i>module_name</i></font></b><br><br>\n",
    "<b>or define a shorter alias for the module name, if it is too long when used in the code:</b><br><br>\n",
    "<b><font face=\"Courier\">import <i>module_name</i> as <i>alias</i></font></b><br><br>\n",
    "<font size=\"3\">\n",
    "<b>You can also import a specific class or function from module:</b><br><br>\n",
    "<b><font face=\"Courier\">from <i>module_name</i> import <i>function_name</i> as <i>alias</i></b></font><br><br>\n",
    "<b>You can also further specifiy an <i>absolute path</i> to the submodule (or the file) to import a specific class or function from:</b><br><br>\n",
    "<b><font face=\"Courier\">from <i>module_name</i>.<i>submodule_name</i>.<i>file_name</i> import <i>function_name</i></font><br><br>\n",
    "</b>\n",
    "<b>Related to the project structure above, we could use the statement:</b><br><br>\n",
    "<b><font face=\"Courier\">from pkg2.subpkg1.module5 import fun3</font></b><br><br>\n",
    "    to specify an <b><i>absolute import</i></b> path. However, absolute imports are discouraged to use when the directory structure is very large.<br><br>\n",
    "<b>A relative import with respect to the project structure in the figure above may be defined using</b><br><br>\n",
    "<b><font face=\"Courier\">from .subpkg1.module5 import fun3</font></b><br><br>\n",
    "    \n",
    "The best practice in Python regarding imports can be found in the official Python style guide <a href=\"https://www.python.org/dev/peps/pep-0008/#imports\">PEP8</a>.<br> The most important best practices are:\n",
    "<ul>\n",
    "    <li>import statements should be located at the beginning of your script.</li>\n",
    "    <li>import statements should be sorted in alphabetical order for their module names.</li>\n",
    "    <li>standard library imports before 3rd party imports.</li>\n",
    "</ul>\n",
    "</font>\n",
    "\n",
    "### Examples:"
   ]
  },
  {
   "cell_type": "code",
   "execution_count": null,
   "metadata": {},
   "outputs": [],
   "source": [
    "# standard library imports first\n",
    "# use for each import a new line\n",
    "import math\n",
    "import os\n",
    "\n",
    "# the most popular example to use numpy\n",
    "# imports numpy and sets the namespace to the alias \"np\"\n",
    "# the module content is then accessible via the alias\n",
    "import numpy as np\n",
    "\n",
    "# the most popular example to plot/visualize data\n",
    "from matplotlib import pyplot as plt\n",
    "# also possible: import matplotlib.pyplot as plt\n",
    "\n",
    "# example of importing a specific class from a module (importing class `tqdm` from the model `tqdm`)\n",
    "from tqdm import tqdm"
   ]
  },
  {
   "cell_type": "markdown",
   "metadata": {},
   "source": [
    "<font size=\"3\"><b>You can check the path, version and short documentation of a module using the module attributes:</b></font>"
   ]
  },
  {
   "cell_type": "code",
   "execution_count": null,
   "metadata": {},
   "outputs": [],
   "source": [
    "# the hidden attribute __version__ contains the module version\n",
    "print(np.__version__)\n",
    "# the hidden attribute __path__ contains the module path or location\n",
    "print(np.__path__)\n",
    "# the hidden attribute __doc__ contains a short documentation\n",
    "# or description of the module, the so-called docstring\n",
    "print(np.__doc__)"
   ]
  },
  {
   "cell_type": "markdown",
   "metadata": {},
   "source": [
    "## The most popular Python Libraries (3rd party Modules)\n",
    "\n",
    "<br>\n",
    "<font size=\"3\">\n",
    "The most popular Python libraries which you will use yourself sooner or later are <br>\n",
    "<ul>\n",
    "<li><b><a href=\"https://numpy.org/\">numpy</a>:</b><br>Numpy is one of the most widely used Python libraries. It offers fast handling and efficient storage of bigger amounts of numerical data in numpy arrays as well as a variety of useful functions to read-in various data file formats.</li><br>\n",
    "<li>\n",
    "<b><a href=\"https://matplotlib.org/\">matplotlib</a>:</b><br>Matplotlib is the most common Python library for data visualization. The library <a href=\"https://seaborn.pydata.org/\">seaborn</a> builds on matplotlib and offers more beautiful plots and more sophisticated plot types for statistics.\n",
    "</li><br>\n",
    "    <li>\n",
    "        <b><a href=\"https://pandas.pydata.org/\">Pandas</a>:</b><br>Pandas is a library for chart data visualization and also for analysis and handling of large amounts of data. It became most popular for time series analysis and is also commonly used in finance.\n",
    "    </li><br>\n",
    "    <li>\n",
    "     <b><a href=\"https://www.scipy.org/\">scipy</a>:</b><br>Scipy is a general purpose library for science and engineering offering mostly functionalities for signal analysis, filtering and regression.\n",
    "    </li><br>\n",
    "        <li>\n",
    "     <b><a href=\"https://www.statsmodels.org/\">statsmodels</a>:</b><br>As the name implies, the library Statsmodels offers a big variety of statistical models and tests for your data.\n",
    "    </li><br>\n",
    "    <li>\n",
    "     <b><a href=\"https://scikit-image.org/\">scikit-image</a>:</b><br>Scikit-image offers functionalities for automatic image processing, enhancement and segmentation.\n",
    "    </li><br>\n",
    "     <li>\n",
    "     <b><a href=\"https://scikit-learn.org/\">scikit-learn</a>:</b><br>Scikit-learn offers a variety of machine learning models via keras as well as funtions for statistical tests and data fitting routines.\n",
    "    </li><br>\n",
    "     <li>\n",
    "     <b><a href=\"https://www.tensorflow.org/\">tensorflow</a>:</b><br>Tensorflow is the most popular machine learning library developed mostly by Google besides the competing <a href=\"https://pytorch.org/\">pytorch</a> by Facebook.\n",
    "    </li>\n",
    "</ul>\n",
    "</font>"
   ]
  },
  {
   "cell_type": "markdown",
   "metadata": {
    "tags": []
   },
   "source": [
    "## How to list installed modules and install new modules in Python\n",
    "\n",
    "<br>\n",
    "<font size=\"3\">\n",
    "If you're working with an existing Python installation, the most important modules are usually already installed. However, \"less popular\" modules that you need may be missing, or on a new Python installation, even Numpy etc. are often not yet installed.<br><br>\n",
    "In most Python environments, a package manager is used to administer the installed modules.<br> \n",
    "In most cases, this is either <a href=\"https://docs.python.org/3/installing/index.html\">pip</a> or, if you use the Anaconda environment, it will be <a href=\"\">conda</a>.<br><br>\n",
    "In the following, the most important commands are listed to check which modules are installed and how to install a new one.<br>\n",
    "<b>Run these commands in a terminal, or in a special cell of the notebook!</b>\n",
    "<!--    <b>In order to check which modules are installed, you can use the command:</b><br><br>\n",
    "    <i>pip list</i>\n",
    "    <br><br>\n",
    "    or\n",
    "    <br><br>\n",
    "    <i>conda list</i><br><br>\n",
    "    on the command-line prompt in a console or use directly-->\n",
    "</font>"
   ]
  },
  {
   "cell_type": "markdown",
   "metadata": {},
   "source": [
    "pip package manager:\n",
    "    \n",
    "    pip -h                    # get help\n",
    "    pip list                  # list installed packages\n",
    "    pip install module_name   # install the package module_name\n",
    "    \n",
    "conda package manager:\n",
    "    \n",
    "    conda -h                    # get help\n",
    "    conda list                  # list installed packages\n",
    "    conda install module_name   # install the package module_name"
   ]
  },
  {
   "cell_type": "code",
   "execution_count": null,
   "metadata": {},
   "outputs": [],
   "source": [
    "# example of a special notebook cell: note the ! at the beginning of the line, this makes Jupyter run the line as in a terminal!\n",
    "! conda -h"
   ]
  },
  {
   "cell_type": "markdown",
   "metadata": {},
   "source": [
    "---"
   ]
  },
  {
   "cell_type": "markdown",
   "metadata": {
    "tags": []
   },
   "source": [
    "### Side Note: Conda Environments\n",
    "<font size=\"3\">\n",
    "If you have multiple projects using Python, it can happen that some third party modules are not compatible!<br>\n",
    "For example, if you need some older version of a module in one project, which can happen when legacy code relies on some old functionalities, it might be that in another project you cannot install another module that relies on a newer version of the other module. This can get messy...<br><br>\n",
    "    \n",
    "Luckily, you can have different <i>environments</i>. These behave as if you have different Python installations, and in each environment, you can install the combination of modules that you need, without disturbing the modules of another environment.<br><br>\n",
    "\n",
    "Here are some commands to use environments in conda:"
   ]
  },
  {
   "cell_type": "markdown",
   "metadata": {},
   "source": [
    "    conda env -h                           # get help\n",
    "    conda env list                         # list all existing conda environments\n",
    "    conda create --name environment_name   # create a new environment with the name environment_name\n",
    "    conda activate environment_name        # switch to the environment with the name environment_name\n",
    "    conda info                             # print information about conda and the current environment"
   ]
  },
  {
   "cell_type": "code",
   "execution_count": null,
   "metadata": {},
   "outputs": [],
   "source": [
    "# if you don't create and load an environment yourself, conda puts you in the `base` environment:\n",
    "! conda info"
   ]
  },
  {
   "cell_type": "markdown",
   "metadata": {},
   "source": [
    "---"
   ]
  },
  {
   "cell_type": "markdown",
   "metadata": {},
   "source": [
    "<font size=\"3\"><div class=\"alert alert-warning\"><b>Exercise 1:</b><br>Create your own module! Write a function `square()` in the module, that takes a single numeric argument and returns the square of that number. Load the module in this notebook and call the function from here.\n",
    "</div>\n",
    "    "
   ]
  },
  {
   "cell_type": "markdown",
   "metadata": {},
   "source": [
    "#### How-to:\n",
    "* Create a new Python script in today's directory (`pyzero/Session 3`): In the file tree on the left, navigate to today's directory, right-click with your mouse somewhere in the file tree, and select \"New File\"\n",
    "\n",
    "![](img/newfile.png)\n",
    "\n",
    "* Name the file `my_module.py` (or any name you like)\n",
    "* Double-click on the file you just created and write your function in that file, don't forget to save afterwards!\n",
    "* Use the `import` statement with your module filename (omit the `.py` ending, i.e. `import my_module`)  \n",
    "  **Remark:** This works, because the notebook and the module are in the same directory. Including custom modules from other places might be more complicated!\n",
    "* Try to access the function in the module and calculate the square of some numbers!"
   ]
  },
  {
   "cell_type": "markdown",
   "metadata": {},
   "source": [
    "### Try it yourself:"
   ]
  },
  {
   "cell_type": "code",
   "execution_count": null,
   "metadata": {},
   "outputs": [],
   "source": []
  },
  {
   "cell_type": "markdown",
   "metadata": {},
   "source": [
    "## Interlude: Plain File Loading in Python\n",
    "\n",
    "Python offers a way to read text files line-by-line. That is great, because now we can write programs that can load (lots of) data from a file. Before, we always had to hard-code the data we wanted to use, which is not very realistic!  \n",
    "\n",
    "The syntax to do so is\n",
    "\n",
    "    with open('path/to/file', 'rt') as file_handle:\n",
    "        # do stuff with file_handle\n",
    "        \n",
    "`path/to/file` is the path from the current working directory to the file that you want to open. `rt` stands for \"read text\", this tells the `open()` function that it should expect a text file and that we want to read from it  \n",
    "\n",
    "Python takes care of opening the file and creating a _stream_ that can be used through `file_handle`. The `file_handle` can behave like an iterable, but it also has reading methods:\n",
    "\n",
    "* `readlines()` - reads the complete file and returns a list containing all the lines  \n",
    "\n",
    "        with open('path/to/file', 'rt') as file_handle:\n",
    "            for line in file_handle:\n",
    "                print(line)\n",
    "        \n",
    "        \n",
    "        \n",
    "        with open('path/to/file', 'rt') as file_handle:\n",
    "            file_content = file_handle.readlines()\n",
    "        \n",
    "        print(file_content)\n",
    "    \n",
    "\n",
    "\n",
    "Note: after the indented code below `with open(...) as ...:` has ended, Python automatically closes the connection to the file. That's convenient, otherwise we would have to do this manually!"
   ]
  },
  {
   "cell_type": "code",
   "execution_count": null,
   "metadata": {},
   "outputs": [],
   "source": [
    "# Read the first 10 lines of the file `data/iris.csv` and print them\n",
    "with open(\"data/iris.csv\", \"rt\") as fh:\n",
    "    i = 0\n",
    "    for line in fh:\n",
    "        print(line)\n",
    "        i += 1\n",
    "        if i >= 10:\n",
    "            break"
   ]
  },
  {
   "cell_type": "code",
   "execution_count": null,
   "metadata": {},
   "outputs": [],
   "source": [
    "# Read the complete file `data/iris.csv` and print the first 10 lines\n",
    "with open(\"data/iris.csv\", \"rt\") as fh:\n",
    "    content = fh.readlines()\n",
    "    \n",
    "print(content[:10])"
   ]
  },
  {
   "cell_type": "markdown",
   "metadata": {},
   "source": [
    "**Note:** For many file types like CSV (comma seperated values), JSON, etc., there are better ways to read provided by (third-party) modules!"
   ]
  },
  {
   "cell_type": "markdown",
   "metadata": {},
   "source": [
    "#### File Writing\n",
    "\n",
    "Of course, we can also write to files! The approach is very similar:\n",
    "\n",
    "    with open('path/to/file', 'wt') as file_handle:\n",
    "        # do stuff with the file_handle, e.g.\n",
    "        file_handle.write(\"This line is written to the file!\")\n",
    "        \n",
    "`wt` stands for \"write text\" and tells the `open()` function that it should open the file for writing, and that we want to write text to it.  \n",
    "\n",
    "Useful `file_handle` methods are\n",
    "* `write(string)` - writes the string to the file\n",
    "* `writelines([string1, string2, ...])` - writes each element in the list to the file"
   ]
  },
  {
   "cell_type": "markdown",
   "metadata": {},
   "source": [
    "<font size=\"3\"><div class=\"alert alert-warning\"><b>Exercise 2:</b><br>\n",
    "Create a file from Python! First, create a `dict` with some keys (`str`) and some values. The values might be `int`, `float`, `str`, `bool`, `list` or `dict` (please do not use `tuple` and `set`!).<br>\n",
    "Open a file for text writing, and use the function `dump()` from the module `json` to write your dictionary to that file!\n",
    "</div>\n",
    "    \n",
    "Hints:\n",
    "* The use of `dump` is: `dump(dictionary_name, file_handle)`\n",
    "* You don't need to use another `write()` or `writelines()` method!"
   ]
  },
  {
   "cell_type": "code",
   "execution_count": null,
   "metadata": {},
   "outputs": [],
   "source": [
    "import json\n",
    "\n",
    "# YOUR CODE HERE"
   ]
  },
  {
   "cell_type": "markdown",
   "metadata": {},
   "source": [
    "---\n",
    "\n",
    "### Interlude: Getting Quick Help in Jupyter Notebooks\n",
    "\n",
    "Most built-in functions and functions from properly-written modules contain special strings that can be  \n",
    "turned into a short _documentation_\n",
    "\n",
    "Jupyter offers a handy shortcut to view these strings: Write the function that you want help for,  \n",
    "then press and hold the `Shift` key, then press the `Tab` key\n",
    "\n",
    "![](img/shiftTab.png)\n",
    "\n",
    "![](img/nbhelp.png)"
   ]
  },
  {
   "cell_type": "markdown",
   "metadata": {},
   "source": [
    "---"
   ]
  },
  {
   "cell_type": "markdown",
   "metadata": {
    "tags": []
   },
   "source": [
    "## A short introduction to Numpy"
   ]
  },
  {
   "cell_type": "markdown",
   "metadata": {},
   "source": [
    "<font size=3>\n",
    "    Recently, a <a href=\"https://www.nature.com/articles/s41586-020-2649-2\">paper</a> about the numpy Python package was published in <i>nature</i>.<br><br>\n",
    "        <div align=\"center\">\n",
    "<img src=\"img/numpy_nature.webp\" width=\"100%\">\n",
    "        </div>\n",
    "<font size=\"2\"><i>Source: <a href=\"https://www.nature.com/articles/s41586-020-2649-2\">https://www.nature.com/articles/s41586-020-2649-2</a></i></font>\n",
    "<br><br>\n",
    "<b>Numpy</b> is a powerful 3rd party package offering the new data type of the <b><i>numpy array</i></b> (numpy.ndarray) with a more powerful and faster implementation in C++ in the background. In contrast to lists in Python, <b>the size of a numpy array cannot be changed and the best practice is to allocate space in advance by initializing an empty array (e.g. filled with zeros)</b>. Also, the data type of its elements shouldn't differ and the number of elements in each row or column has to be the same, since <b>the numpy array represents a N x M matrix.<br><br>\n",
    "<!--<b>To sum it up, a numpy array behaves like a \"classic\" array in other high-level programming languages due to it's precompiled C++ implementation in the background.</b><br>-->\n",
    "</font>"
   ]
  },
  {
   "cell_type": "markdown",
   "metadata": {},
   "source": [
    "<font size=\"3\">For using Numpy, you have to import the package once. Since you will in the following often have to refer to numpy, we assign an alias that is faster to type (np):</font>"
   ]
  },
  {
   "cell_type": "code",
   "execution_count": null,
   "metadata": {},
   "outputs": [],
   "source": [
    "# import numpy with alias np\n",
    "import numpy as np"
   ]
  },
  {
   "cell_type": "markdown",
   "metadata": {},
   "source": [
    "### NumPy Array\n",
    "\n",
    "<br>\n",
    "<font size=\"3\">A NumPy Array can have many dimensions. Let's start with one (similar to a Python list) and two dimensions (similar to a matrix):</font>"
   ]
  },
  {
   "cell_type": "code",
   "execution_count": null,
   "metadata": {},
   "outputs": [],
   "source": [
    "# create a numpy array from a list\n",
    "arr1 = np.array([1.0,2.35,3.141])\n",
    "print(\"type(arr1) =\", type(arr1))\n",
    "print(\"arr1 =\", arr1)"
   ]
  },
  {
   "cell_type": "code",
   "execution_count": null,
   "metadata": {},
   "outputs": [],
   "source": [
    "# create an 2D array / a 3x3 matrix filled with zeros\n",
    "arr2 = np.zeros((3,3))\n",
    "print(\"type(arr2) =\", type(arr2))\n",
    "print(\"arr2 =\", arr2, sep=\"\\n\")"
   ]
  },
  {
   "cell_type": "code",
   "execution_count": null,
   "metadata": {},
   "outputs": [],
   "source": [
    "# create a numpy array filled with a specific value\n",
    "arr3 = np.full((3,2), 2)\n",
    "print(\"arr3 =\", arr3, sep=\"\\n\")"
   ]
  },
  {
   "cell_type": "code",
   "execution_count": null,
   "metadata": {},
   "outputs": [],
   "source": [
    "# index an array element in a multi-dimensional array\n",
    "arr2 = np.zeros((3,3))\n",
    "arr2[0,0] = 1\n",
    "arr2[1,1] = 2\n",
    "arr2[2,2] = 3\n",
    "print(\"type(arr2) = \"+str(type(arr2)))\n",
    "print(\"arr2 = \\n\"+str(arr2))"
   ]
  },
  {
   "cell_type": "code",
   "execution_count": null,
   "metadata": {},
   "outputs": [],
   "source": [
    "# using the attribute \"size\" of the numpy array is more reliable than using the len() function\n",
    "# the attribute \"shape\" contains a tuple with the array or matrix dimensions\n",
    "print(\"arr2.size = \"+str(arr2.size))\n",
    "# convention for the shape tuple: (number of rows, number of columns) in case of a 2D array\n",
    "print(\"arr2.shape = \"+str(arr2.shape))"
   ]
  },
  {
   "cell_type": "markdown",
   "metadata": {},
   "source": [
    "#### More Indexing\n",
    "\n",
    "Indexing and slicing works just like with Python `list`s"
   ]
  },
  {
   "cell_type": "code",
   "execution_count": null,
   "metadata": {},
   "outputs": [],
   "source": [
    "data = np.array([1, 2, 3])\n",
    "\n",
    "print(\"data[1]:  \", data[1])\n",
    "print(\"data[0:2]:\", data[0:2])\n",
    "print(\"data[1:]: \", data[1:])\n",
    "print(\"data[-2:]:\", data[-2:])"
   ]
  },
  {
   "cell_type": "markdown",
   "metadata": {},
   "source": [
    "With higher-dimensional arrays, you can put a comma-separated list of indices in the `[ ]` operator. The `:` means that you want a slice of _all_ values in the respective dimension"
   ]
  },
  {
   "cell_type": "code",
   "execution_count": null,
   "metadata": {},
   "outputs": [],
   "source": [
    "arr4 = np.array([[1,2,3,4],[5,6,7,8],[9,10,11,12]])\n",
    "print(\"arr4\\n\", arr4, \"\\n\")\n",
    "print(\"arr4[2,1]\", arr4[2,1], \"\\n\")\n",
    "print(\"arr4[0,:]\", arr4[0,:], \"\\n\")\n",
    "print(\"arr4[0]  \", arr4[0], \"\\n\")\n",
    "print(\"arr4[:,0]\", arr4[:,0], \"\\n\")\n",
    "print(\"arr4[0:2,1:3]\\n\", arr4[0:2,1:3])"
   ]
  },
  {
   "cell_type": "markdown",
   "metadata": {},
   "source": [
    "<font size=\"3\"><div class=\"alert alert-warning\"><b>Exercise 3:</b><br>\n",
    "Practice using Numpy! Create a 3-dimensional Numpy array with zeros of the shape `(3,2,4)`.<br>\n",
    "Replace the first <i>2 x 4</i> matrix with an array of the same shape (`(2,4)`), containing only twos.<br>\n",
    "In the second <i>2 x 4</i> matrix, write all numbers from 0 to 7.<br>\n",
    "In the third <i>2 x 4</i> matrix, store the result of the element-wise multiplication of the first two matrices\n",
    "</div>\n",
    "    \n",
    "Hints:\n",
    "* `np.array([1,2,3,4]) * 2` results in the array `[2,4,6,8]`\n",
    "* `np.array([1,2,3,4]) * np.array([1,2,3,4])` performs element-wise multiplication and results in `[1,4,9,16]`\n",
    "    \n",
    "The result should look like this:\n",
    "    \n",
    "    [[[ 2.  2.  2.  2.]\n",
    "      [ 2.  2.  2.  2.]]\n",
    "\n",
    "     [[ 0.  1.  2.  3.]\n",
    "      [ 4.  5.  6.  7.]]\n",
    "\n",
    "     [[ 0.  2.  4.  6.]\n",
    "      [ 8. 10. 12. 14.]]]\n",
    "    \n",
    "or this\n",
    "    \n",
    "    [[[ 2.  2.  2.  2.]\n",
    "      [ 2.  2.  2.  2.]]\n",
    "\n",
    "     [[ 0.  2.  4.  6.]\n",
    "      [ 1.  3.  5.  7.]]\n",
    "\n",
    "     [[ 0.  4.  8. 12.]\n",
    "      [ 2.  6. 10. 14.]]]"
   ]
  },
  {
   "cell_type": "code",
   "execution_count": null,
   "metadata": {},
   "outputs": [],
   "source": [
    "# YOUR CODE HERE"
   ]
  },
  {
   "cell_type": "markdown",
   "metadata": {},
   "source": [
    "<font size=\"3\"><b>Sometimes you want or need to change the shape of your numpy array using the reshape method:</b></font>"
   ]
  },
  {
   "cell_type": "code",
   "execution_count": null,
   "metadata": {},
   "outputs": [],
   "source": [
    "# defines a numpy array with row number unequal column number\n",
    "arr3 = np.array([[2,3],[3,5],[6,4]])\n",
    "print(\"content of arr3:\")\n",
    "print(arr3)"
   ]
  },
  {
   "cell_type": "code",
   "execution_count": null,
   "metadata": {},
   "outputs": [],
   "source": [
    "# prints the shape (number of rows, number of columns)\n",
    "print(\"shape of arr3:\")\n",
    "print(arr3.shape)"
   ]
  },
  {
   "cell_type": "code",
   "execution_count": null,
   "metadata": {},
   "outputs": [],
   "source": [
    "# transposes the array / matrix\n",
    "arr3 = arr3.T\n",
    "print(\"transposed array (rows and columns interchanged):\")\n",
    "print(arr3)"
   ]
  },
  {
   "cell_type": "code",
   "execution_count": null,
   "metadata": {},
   "outputs": [],
   "source": [
    "# prints the shape of the transposed array\n",
    "print(\"shape of the transposed arr3:\")\n",
    "print(arr3.shape)"
   ]
  },
  {
   "cell_type": "code",
   "execution_count": null,
   "metadata": {},
   "outputs": [],
   "source": [
    "# the same result could be achieved using the reshape method expecting a tuple \n",
    "# (total number of elements needs to be the same!)\n",
    "arr3 = arr3.reshape(2,3)\n",
    "print(arr3)"
   ]
  },
  {
   "cell_type": "markdown",
   "metadata": {},
   "source": [
    "<font size=\"3\"><b>Often you would like to perform computations over an entire row or column of your array (hence your dataset) for some statistical evaluation, like:\n",
    "    </b></font>"
   ]
  },
  {
   "cell_type": "code",
   "execution_count": null,
   "metadata": {},
   "outputs": [],
   "source": [
    "# generates a 2D matrix of random floating-point numbers\n",
    "# np.random.normal generates normally distributed random numbers and expects (mean, standard deviation, size=(a,b))\n",
    "arr = np.random.normal(0,2,size=(6,8))\n",
    "print(\"random number array:\")\n",
    "print(arr)"
   ]
  },
  {
   "cell_type": "code",
   "execution_count": null,
   "metadata": {},
   "outputs": [],
   "source": [
    "# sums all values in each column\n",
    "col_sum = np.sum(arr, axis=0)\n",
    "print(\"col_sum = \"+str(col_sum))"
   ]
  },
  {
   "cell_type": "code",
   "execution_count": null,
   "metadata": {},
   "outputs": [],
   "source": [
    "# sums all values in each row\n",
    "row_sum = np.sum(arr, axis=1)\n",
    "print(\"row_sum = \"+str(row_sum))"
   ]
  },
  {
   "cell_type": "code",
   "execution_count": null,
   "metadata": {},
   "outputs": [],
   "source": [
    "# multiplies all values in each column\n",
    "col_prod = np.prod(arr, axis=0)\n",
    "print(\"col_prod = \"+str(col_prod))"
   ]
  },
  {
   "cell_type": "code",
   "execution_count": null,
   "metadata": {},
   "outputs": [],
   "source": [
    "# multiplies all values in each row\n",
    "row_prod = np.prod(arr, axis=1)\n",
    "print(\"row_prod = \"+str(row_prod))"
   ]
  },
  {
   "cell_type": "code",
   "execution_count": null,
   "metadata": {},
   "outputs": [],
   "source": [
    "# calculate mean\n",
    "total_mean = np.mean(arr)\n",
    "print(\"Overall mean:\"+str(total_mean))\n",
    "# calculate standard deviation\n",
    "total_std = np.std(arr)\n",
    "print(\"Overall standard deviation:\"+str(total_std))"
   ]
  },
  {
   "cell_type": "code",
   "execution_count": null,
   "metadata": {},
   "outputs": [],
   "source": [
    "# calculate mean over all elements in a column (iterates over first array dimension)\n",
    "col_mean = np.mean(arr, axis=0)\n",
    "print(col_mean)"
   ]
  },
  {
   "cell_type": "code",
   "execution_count": null,
   "metadata": {},
   "outputs": [],
   "source": [
    "# calculate mean over all elements in a row (iterates over second array dimension)\n",
    "row_mean = np.mean(arr, axis=1)\n",
    "print(row_mean)"
   ]
  },
  {
   "cell_type": "markdown",
   "metadata": {},
   "source": [
    "<font size=\"3\"><b>Of course, you can also do elementwise manipulations and matrix multiplications (that was one of the original purposes of numpy):</b></font>"
   ]
  },
  {
   "cell_type": "code",
   "execution_count": null,
   "metadata": {},
   "outputs": [],
   "source": [
    "arr = np.array([1,2,3,4])\n",
    "print(\"arr:\")\n",
    "print(arr)"
   ]
  },
  {
   "cell_type": "code",
   "execution_count": null,
   "metadata": {},
   "outputs": [],
   "source": [
    "# e.g multiply each element with value\n",
    "print(\"result of arr * 3.141:\")\n",
    "print(arr * 3.141)"
   ]
  },
  {
   "cell_type": "code",
   "execution_count": null,
   "metadata": {},
   "outputs": [],
   "source": [
    "# compute the products of two arrays element-wise\n",
    "arr2 = np.array([5,6,0,1])\n",
    "print(\"arr2:\")\n",
    "print(arr2)\n",
    "result = arr * arr2\n",
    "print(\"result of arr * arr2:\")\n",
    "print(result)"
   ]
  },
  {
   "cell_type": "code",
   "execution_count": null,
   "metadata": {},
   "outputs": [],
   "source": [
    "# compute the dot or scalar product of two vectors\n",
    "result = np.dot(arr, arr2)\n",
    "print(\"result of arr (dot) arr2:\")\n",
    "print(result)"
   ]
  },
  {
   "cell_type": "code",
   "execution_count": null,
   "metadata": {},
   "outputs": [],
   "source": [
    "# more general, compute the product of two matrices\n",
    "arr = np.array([[1,2],[5,6],[4,2]])\n",
    "arr2 = np.array([[5,6,7],[2,3,2]])\n",
    "print(\"arr:\")\n",
    "print(arr)\n",
    "print(\"arr2:\")\n",
    "print(arr2)\n",
    "result = np.matmul(arr, arr2)\n",
    "print(\"result of matmul(arr,arr2):\")\n",
    "print(result)"
   ]
  },
  {
   "cell_type": "markdown",
   "metadata": {},
   "source": [
    "### Loading Files with Numpy\n",
    "\n",
    "<font size=\"3\">Often, you don't want or you can't define a list or numpy array manually with your data. Instead you have a file e.g. a CSV file with comma-separated values and you need to convert the content yourself to a table-like datastructure. In this example, we have the famous <a href=\"https://en.wikipedia.org/wiki/Iris_flower_data_set\">Iris dataset</a> (in this case a very popular standard data set in data science, containing data of samples from Iris flowers of three related species). This file could look like this:</font>\n",
    "\n",
    "![](img/iris.png)  \n",
    "\n",
    "</font>\n",
    "<font size=\"3\">\n",
    "Of course, we could now manually read-in the file line by line as shown above, but then we would need to process the strings and convert them to a table-like data structure. <b>Luckily, there are already functions in the 3rd party libraries <a href=\"https://numpy.org/\"><i>numpy</i></a> and <a href=\"https://pandas.pydata.org/\"><i>pandas</i></a> that solve this problem.</b><br>\n",
    "We can read-in the file using <a href=\"https://numpy.org/doc/stable/reference/generated/numpy.genfromtxt.html\">numpy.genfromtxt</a></b></font>"
   ]
  },
  {
   "cell_type": "code",
   "execution_count": null,
   "metadata": {},
   "outputs": [],
   "source": [
    "# print the documentation string of the function\n",
    "print(np.genfromtxt.__doc__)"
   ]
  },
  {
   "cell_type": "code",
   "execution_count": null,
   "metadata": {},
   "outputs": [],
   "source": [
    "# load data file and convert it to (named) numpy array\n",
    "iris_data = np.genfromtxt(\"data/iris.csv\", names=True, delimiter=\",\")\n",
    "# output just the first 20 rows\n",
    "print(\"type(iris_data) = \"+str(type(iris_data)))\n",
    "print(\"iris_data[:20] = \"+str(iris_data[:20]))\n",
    "#print the guess data types for the columns of the table\n",
    "print(\"iris_data.dtype = \\n\"+str(iris_data.dtype)) # \\n is the newline character: it does not get printed as shown here, but print() begins a new line at this point!"
   ]
  },
  {
   "cell_type": "markdown",
   "metadata": {},
   "source": [
    "<font size=\"3\"><b>Obviously, the numpy function couldn't properly guess the data type of the last column (just returning a <i>NaN</i> (not an number)).</b><br> \n",
    "For tables with mixed data (i.e. numbers and strings) there are better suited classes, e.g. the `DataFrame` from the `pandas` module, which we will see later. <!-- But we can correct that:</b>--></font>"
   ]
  },
  {
   "cell_type": "markdown",
   "metadata": {},
   "source": [
    "<!--USED TO BE A CODE CELL\n",
    "# load data file again with defined data types and column names and convert it to (named) numpy array\n",
    "iris_data = np.genfromtxt(\"data/iris.csv\", names=True, delimiter=\",\", \\\n",
    "                          dtype=[('sepal_length', '<f8'), ('sepal_width', '<f8'),\\\n",
    "                                 ('petal_length', '<f8'), ('petal_width', '<f8'),\\\n",
    "                                 ('species', '<S8')])\n",
    "print(\"iris_data[:20] = \"+str(iris_data[:20]))\n",
    "#print the guess data types for the columns of the table\n",
    "print(\"iris_data.dtype = \\n\"+str(iris_data.dtype))\n",
    "\n",
    "# access column data with column name\n",
    "print(\"iris_data['sepal_length'] = \\n\"+str(iris_data['sepal_length'][:20]))\n",
    "\n",
    "#work with the data\n",
    "#compute mean of column\n",
    "mean = np.mean(iris_data['sepal_length'])\n",
    "#compute standard deviation of column\n",
    "std = np.std(iris_data['sepal_length'], axis=0)\n",
    "print(\"Mean of column sepal_length:\" + str(mean))\n",
    "print(\"Std of column sepal_length:\" + str(std))\n",
    "\n",
    "# round to n significant digits with np.round\n",
    "print(\"Mean of column sepal_length:\" + str(np.round(mean,3)))\n",
    "\n",
    "# or just change the number output format\n",
    "-->"
   ]
  },
  {
   "cell_type": "markdown",
   "metadata": {},
   "source": [
    "<font size=\"3\"><div class=\"alert alert-warning\"><b>Exercise 4:</b> Write a function which loads a file (<b>in this case applied to <i>data/glass.csv<i></b>), print the shape of the resulting array, print the first N rows (adjustable via a function argument), compute and return the means and standard deviations for the data columns and print the results (adjustable via a parameter). The result of <b>numpy.genfromtxt is different in this case since glass.csv does not contain mixed data types. You don't need to specify the column data types in this case.</b><br><br>\n",
    "    <b>Hint:</b> <b>Use the numpy functions <a href=\"https://numpy.org/doc/stable/reference/generated/numpy.mean.html\">np.mean</a> and <a href=\"https://numpy.org/doc/stable/reference/generated/numpy.std.html\">np.std</a></b> to compute the mean and the standard deviaton. The parameter axis allows to specifiy for which dimension/axis you'd like to perform the computation. So you don't need to use a loop.<br><br>\n",
    "If you use the keyword argument <b>names = True</b> in numpy.genfromtxt, a named array will be returned where column data can be addressed via the column name defined in the first row of the file.\n",
    "</div>\n",
    "    \n",
    "<b>Try it yourself here:</b></font>"
   ]
  },
  {
   "cell_type": "code",
   "execution_count": null,
   "metadata": {},
   "outputs": [],
   "source": []
  },
  {
   "cell_type": "markdown",
   "metadata": {},
   "source": [
    "## Directory Batch Processing\n",
    "<br>\n",
    "<font size=\"3\">\n",
    "Very often, you not only need to load a single file, but a whole set of files located in one or more directories. Luckily, Python also offers builtin solutions for this problem. A directory can be traversed (also recursively) to yield a list of files to be processed in your Python script.<br><br>\n",
    "    <b>The most simple solution is offered by the builtin library <i>os</i> with <i>os.walk</i>.</b>.\n",
    "</font>\n",
    "\n",
    "### Examples:"
   ]
  },
  {
   "cell_type": "code",
   "execution_count": null,
   "metadata": {},
   "outputs": [],
   "source": [
    "# imports the required module\n",
    "import os\n",
    "\n",
    "def walk_through_files(path, file_extension='.txt'):\n",
    "    for (dirpath, dirnames, filenames) in os.walk(path):\n",
    "        for filename in filenames:\n",
    "            if filename.endswith(file_extension): \n",
    "                # yield keyword instead of return defines a generator instead of a regular function\n",
    "                yield os.path.join(dirpath, filename)\n",
    "\n",
    "# that's why we iterate over walk_through_files instead of calling it\n",
    "for fname in walk_through_files(\"data/batch/\"):\n",
    "    print(fname)\n",
    "# force the generator to return a list with the results\n",
    "print(list(walk_through_files(\"data/batch/\")))"
   ]
  },
  {
   "cell_type": "code",
   "execution_count": null,
   "metadata": {},
   "outputs": [],
   "source": [
    "print(np.loadtxt.__doc__)"
   ]
  },
  {
   "cell_type": "markdown",
   "metadata": {},
   "source": [
    "<font size=\"3\"><div class=\"alert alert-warning\"><b>Exercise 5:</b> Write a function to traverse the path data/batch/, read the found files and concatenate their content to one string separated by spaces.\n",
    "<br><br>\n",
    "<b>Hint:</b> Use np.loadtxt to load the files\n",
    "</div>\n",
    "    \n",
    "<b>Try it yourself here:</b></font>"
   ]
  },
  {
   "cell_type": "code",
   "execution_count": null,
   "metadata": {},
   "outputs": [],
   "source": []
  },
  {
   "cell_type": "markdown",
   "metadata": {},
   "source": [
    "## Visualizing Data with Matplotlib\n",
    "<br>\n",
    "<font size=\"3\">\n",
    "    <b>One picture can say more than 1000 words:</b> Visualizing your data is probably the most important aspect in your daily work routine. <a href=\"https://matplotlib.org/\">Matplotlib</a> is the most common Python package for data visualization offering a multitude of different plot types and options to tailor the plots according to your needs. Even Latex can be used to obtain nice looking plot titles, axes labels and annotations.<br><br>\n",
    "    <a href=\"https://matplotlib.org/gallery/index.html\">See a plot gallery here</a> of all the possibilities and functions matplotlib offers out-of-the-box.\n",
    "</font>\n",
    "\n",
    "### Example 1:"
   ]
  },
  {
   "cell_type": "markdown",
   "metadata": {},
   "source": [
    "<font size=\"3\">First you need to import the pyplot function from matplotlib using</font>"
   ]
  },
  {
   "cell_type": "code",
   "execution_count": null,
   "metadata": {},
   "outputs": [],
   "source": [
    "import matplotlib.pyplot as plt"
   ]
  },
  {
   "cell_type": "markdown",
   "metadata": {},
   "source": [
    "<font size=\"3\">Then we plot a simple sine:</font>"
   ]
  },
  {
   "cell_type": "code",
   "execution_count": null,
   "metadata": {
    "scrolled": true,
    "tags": []
   },
   "outputs": [],
   "source": [
    "# array [0, .01, .02, ..., 2*3.14]\n",
    "# one option is np.arange\n",
    "#x = np.arange(start = 0, stop = 2 * np.pi, step = 0.01) \n",
    "# another option is np.linspace\n",
    "x = np.linspace(0, 2*np.pi, 100)\n",
    "# applies sine elementwise\n",
    "y = np.sin(x) \n",
    "# data for the 2nd graph\n",
    "y2 = np.cos(x)\n",
    "\n",
    "# figure size and resolution in dpi (dots per inch)\n",
    "width_px = 640\n",
    "height_px = 480\n",
    "dpi = 100\n",
    "# create a figure\n",
    "fig = plt.figure(figsize=(width_px/dpi, height_px/dpi), dpi=dpi)\n",
    "# create a new plot\n",
    "ax = fig.add_subplot(111)\n",
    "# create the plot\n",
    "ax.plot(x, y, label=\"graph 1\")\n",
    "ax.plot(x, y2, color=\"red\", label=\"graph 2\")\n",
    "# adds a grid\n",
    "ax.grid(which=\"both\", color=\"gray\", linestyle=\":\")\n",
    "# semicolon suppresses output of last line in cell\n",
    "ax.set_title(\"Sine Wave\"); \n",
    "ax.set_xlabel(\"x\");\n",
    "ax.set_ylabel(\"y\");\n",
    "# adds a legend for the graphs in the plot\n",
    "ax.legend(loc=\"upper right\")"
   ]
  },
  {
   "cell_type": "code",
   "execution_count": null,
   "metadata": {
    "tags": []
   },
   "outputs": [],
   "source": [
    "# array [0, .01, .02, ..., 2*3.14]\n",
    "# one option is np.arange\n",
    "#x = np.arange(start = 0, stop = 2 * np.pi, step = 0.01) \n",
    "# another option is np.linspace\n",
    "x = np.linspace(0, 2*np.pi, 20)\n",
    "# applies sine elementwise\n",
    "y = np.sin(x) \n",
    "# data for the 2nd graph\n",
    "y2 = np.cos(x)\n",
    "\n",
    "# figure size and resolution in dpi (dots per inch)\n",
    "width_px = 640\n",
    "height_px = 480\n",
    "dpi = 100\n",
    "# create a figure\n",
    "fig = plt.figure(figsize=(width_px/dpi, height_px/dpi), dpi=dpi)\n",
    "# create a new plot\n",
    "ax = fig.add_subplot(111)\n",
    "# create the plot\n",
    "ax.scatter(x, y, label=\"graph 1\")\n",
    "ax.scatter(x, y2, color=\"red\", label=\"graph 2\")\n",
    "# adds a grid\n",
    "ax.grid(which=\"both\", color=\"gray\", linestyle=\":\")\n",
    "# semicolon suppresses output of last line in cell\n",
    "ax.set_title(\"Sine Wave\"); \n",
    "ax.set_xlabel(\"x\");\n",
    "ax.set_ylabel(\"y\");\n",
    "# adds a legend for the graphs in the plot\n",
    "ax.legend(loc=\"upper right\")"
   ]
  },
  {
   "cell_type": "code",
   "execution_count": null,
   "metadata": {},
   "outputs": [],
   "source": [
    "# generates an array with normal distributed random values\n",
    "N = int(1E4)\n",
    "x = np.random.normal(0, 1, (N,))\n",
    "# applies sine elementwise\n",
    "y = np.random.normal(0, 1, (N,))\n",
    "\n",
    "# figure size and resolution in dpi (dots per inch)\n",
    "width_px = 640\n",
    "height_px = 480\n",
    "dpi = 100\n",
    "# create a figure\n",
    "fig = plt.figure(figsize=(width_px/dpi, height_px/dpi), dpi=dpi)\n",
    "# create a new plot\n",
    "ax = fig.add_subplot(111)\n",
    "# create the plot\n",
    "ax.scatter(x, y, label=\"graph 1\", s=1, color=\"black\", marker=\".\")\n",
    "# adds a grid\n",
    "ax.grid(which=\"both\", color=\"gray\", linestyle=\":\")\n",
    "# semicolon suppresses output of last line in cell\n",
    "ax.set_title(\"Random values\"); \n",
    "ax.set_xlabel(\"x\");\n",
    "ax.set_ylabel(\"y\");\n",
    "# adds a legend for the graphs in the plot\n",
    "ax.legend(loc=\"upper right\")"
   ]
  },
  {
   "cell_type": "markdown",
   "metadata": {},
   "source": [
    "### Example 2:"
   ]
  },
  {
   "cell_type": "code",
   "execution_count": null,
   "metadata": {},
   "outputs": [],
   "source": [
    "Img = np.random.randint(low=0, high=255, size=(100, 100, 3), dtype='B') # B: unsigned byte (0..255)\n",
    "#print(Img) # Img is a three-dim array\n",
    "plt.imshow(Img, interpolation=\"none\"); # third dimension interpreted as red, green, blue\n",
    "# image coordinates are numbered as in matrices, first rows (top to bottom) then columns (left to right)"
   ]
  },
  {
   "cell_type": "markdown",
   "metadata": {},
   "source": [
    "### More complex Example 3:\n",
    "\n",
    "<br>\n",
    "<font size=\"3\">\n",
    "A more complex example demonstrating almost all capabilities to customize your plot:\n",
    "</font>"
   ]
  },
  {
   "cell_type": "code",
   "execution_count": null,
   "metadata": {},
   "outputs": [],
   "source": [
    "# a very simple example to begin with\n",
    "import numpy as np\n",
    "from matplotlib import pyplot as plt\n",
    "\n",
    "# generate the data to plot\n",
    "omega = 1\n",
    "# yields a numpy array of N equidistant points on the given interval\n",
    "x = np.linspace(-2*np.pi, 2*np.pi, 100)\n",
    "y = np.sin(x)\n",
    "\n",
    "# here you can set the size and resolution of the plot\n",
    "#resolution in dpi = dots per inch\n",
    "# for the screen 75 to 120 dpi isfine\n",
    "# for a publication you'd need to use a higher resolution of 150 or 300 dpi\n",
    "dpi = 150\n",
    "# height in inch\n",
    "height = 3 \n",
    "# width in inch\n",
    "width = 4\n",
    "\n",
    "# initalize the new figure\n",
    "fig = plt.figure(figsize=(width, height), dpi=dpi)\n",
    "\n",
    "# Here you could specify multiple plots aside or in a matrix configurationn\n",
    "# we just want one plot in the figure, \n",
    "# thats why we set 111 = number of rows, number of columns, total num of plots\n",
    "ax = fig.add_subplot(111)\n",
    "\n",
    "# create the plot itself (a line plot connecting the points)\n",
    "# plot the sine\n",
    "ax.plot(x, y, color = \"r\", linestyle = \"--\", linewidth = 2, label = \"sine\")\n",
    "# plot a constant line at zero\n",
    "ax.plot(x, np.zeros(x.shape), color = \"black\", linestyle = \"-\", linewidth = 2, label = \"line\")\n",
    "# plot a graph\n",
    "ax.plot(x, x, color = \"blue\", linestyle = \":\", linewidth = 1, label = \"graph\")\n",
    "\n",
    "# use a grid in the background\n",
    "ax.grid(which=\"both\", color=\"gray\", linestyle=\"-.\", linewidth=0.5)\n",
    "\n",
    "# set the plot title using Latex\n",
    "# the semicolon at the end of the line is to suppress the output of the function\n",
    "# (one of the rare cases where you'd end a line of Python code with a semicolon)\n",
    "ax.set_title(\"A first plot of \" + r'$y = \\sin\\left(2 \\pi \\omega t\\right)$');\n",
    "\n",
    "# set the axes labels\n",
    "ax.set_xlabel(\"x\");\n",
    "ax.set_ylabel(r'$\\sum_{i=1}^{N} \\frac{1}{i} \\psi$');\n",
    "\n",
    "# normal string definition in Python uses \"string\"\n",
    "# in order to use Latex in title or axes label, use r'string'\n",
    "# Why is that?\n",
    "# If double quotation marks are used, the string is \"processed\" and the so-called escape sequences (e.g. \\n for a linebreak are replaced)\n",
    "# If single quotation marks like r'string' are used, the string is stored as it is.\n",
    "\n",
    "# use the plot legend\n",
    "# only works if keyword argument 'label' was given to the method plot\n",
    "ax.legend()\n",
    "\n",
    "# save the plot in a file\n",
    "# the file ending determines the format\n",
    "# valied formats are e.g. jpg, png for raster graphics (will become pixelated if you zoom in and the resolution is too small)\n",
    "# you can also export the plot as vector graphics with ending .eps (will be rendered at every zoom level)\n",
    "fig.savefig(\"plot.png\")"
   ]
  },
  {
   "cell_type": "markdown",
   "metadata": {},
   "source": [
    "### More complex Example 2:\n",
    "\n",
    "<br>\n",
    "<font size=\"3\">A histogram plot as more complex example for a plot:</font>"
   ]
  },
  {
   "cell_type": "code",
   "execution_count": null,
   "metadata": {
    "scrolled": true
   },
   "outputs": [],
   "source": [
    "# a very simple example to begin with\n",
    "import numpy as np\n",
    "from matplotlib import pyplot as plt\n",
    "\n",
    "# generate data to work with\n",
    "num_values = 1E6\n",
    "x = np.random.normal(0,1,int(num_values))\n",
    "\n",
    "# here you can set the size and resolution of the plot\n",
    "#resolution in dpi = dots per inch\n",
    "# for the screen 75 to 120 dpi isfine\n",
    "# for a publication you'd need to use a higher resolution of 150 or 300 dpi\n",
    "dpi = 150\n",
    "# height in inch\n",
    "height = 3 \n",
    "# width in inch\n",
    "width = 4\n",
    "\n",
    "# initalize the new figure\n",
    "fig = plt.figure(figsize=(width, height), dpi=dpi)\n",
    "\n",
    "# Here you could specify multiple plots aside or in a matrix configurationn\n",
    "# we just want one plot in the figure, \n",
    "# thats why we set 111 = number of rows, number of columns, total num of plots\n",
    "ax = fig.add_subplot(111)\n",
    "\n",
    "# plots a histogram, use parameter density to normalize the vertical axis\n",
    "h=ax.hist(x, bins=100, color=\"black\", density=True)\n",
    "ax.set_ylabel(\"count\");\n",
    "ax.set_xlabel(\"x\");\n",
    "ax.set_title(\"A simple histogram\")\n",
    "ax.grid(which=\"both\",color=\"gray\",linewidth=0.5,linestyle=\"--\")"
   ]
  },
  {
   "cell_type": "markdown",
   "metadata": {},
   "source": [
    "<font size=\"3\">For further options to customize plots, have also a look at the predefined <a href=\"https://matplotlib.org/3.1.0/gallery/color/named_colors.html\">color</a> and <a href=\"https://matplotlib.org/3.3.1/api/_as_gen/matplotlib.lines.Line2D.html#matplotlib.lines.Line2D.lineStyles\">linestyle</a> or <a href=\"https://matplotlib.org/3.3.1/api/_as_gen/matplotlib.lines.Line2D.html#matplotlib.lines.Line2D.lineStyles\">here</a> keywords on the matplotlib website.</b>\n",
    "</font>"
   ]
  },
  {
   "cell_type": "markdown",
   "metadata": {},
   "source": [
    "<font size=\"3\">\n",
    "<div class=\"alert alert-warning\"><b>Exercise 6:</b> Create a plot for the function f(x) = 3x + 2 in the interval [-2, 3] in <b>black</b>. Also plot a horizontal, <b>red</b>, <b>dashed</b> line in the same graph at y = 1.\n",
    "<br><br>\n",
    "<b>Hint:</b> Use np.arange or <a href=\"https://numpy.org/doc/stable/reference/generated/numpy.linspace.html\">np.linspace</a> to create an array with x values. Use the style keywords color and linestyle to change the appearance of the graphs. Use <a href=\"https://numpy.org/doc/stable/reference/generated/numpy.full.html\">np.full</a> to create an array filled with a given value.\n",
    "</div>\n",
    "</font>"
   ]
  },
  {
   "cell_type": "markdown",
   "metadata": {},
   "source": [
    "### Try it yourself:"
   ]
  },
  {
   "cell_type": "code",
   "execution_count": null,
   "metadata": {},
   "outputs": [],
   "source": []
  },
  {
   "cell_type": "markdown",
   "metadata": {},
   "source": [
    "---\n",
    "\n",
    "## Running your code from the command-line\n",
    "<br>\n",
    "<font size=\"3\">\n",
    "    <b>In this case, we assume that you're using Linux.</b> If you'd like to run your Python script on the command-line (which is Bash under Linux in the default case), you need to save your script first and then run it with<br><br>\n",
    "<font face=\"Courier\"><b>python <i>your_script.py</i></b></font><br><br>\n",
    "or<br><br>\n",
    "<font face=\"Courier\"><b>python3 <i>your_script.py</i></b></font><br><br>\n",
    "In case you have both, Python 2.x and Python 3.x installed on your system, make sure, you're running the right interpreter using<br><br>\n",
    "<font face=\"Courier\"><b>which python</b></font><br><br>\n",
    "which gives you the path to which the command is referring to.<br><br>\n",
    "Of course, you can also directly run your Python script on the command-line treating is it as a Bash script (a script file for the command-line), but putting e.g.<br><br>\n",
    "<font face=\"Courier\"><b>#!/usr/bin/python3</b></font><br><br>\n",
    "as first line in your Python script to tell Bash which interpreter to use for the following file content.<br><br>\n",
    "    Then, you need to make your newly created file <b>executable</b> by adding the flag <b>executable</b> e.g. with the command<br><br>\n",
    "    <font face=\"Courier\"><b>chmod u+x your_script.py</b></font><br><br>\n",
    "You can check the file permission flags in the listing of your directory using<br><br>\n",
    "    <font face=\"Courier\"><b>ls -la scripts/</b></font><br><br>\n",
    "Then you should be able to simply run your Python script as if it would be a Bash script using<br><br>\n",
    "<font face=\"Courier\"><b>./your_script.py</b></font><br><br>                                                                                               \n",
    "</font>\n",
    "\n",
    "<font size=\"3\">\n",
    "In the following examples, a special \"cell magic\" syntax is used, so that bash scripts and commands can be run within a Jupyter notebook cell.\n",
    "</font>\n",
    "\n",
    "### Examples:"
   ]
  },
  {
   "cell_type": "code",
   "execution_count": null,
   "metadata": {
    "tags": []
   },
   "outputs": [],
   "source": [
    "! which python3\n",
    "! python3 scripts/hello_world.py"
   ]
  },
  {
   "cell_type": "markdown",
   "metadata": {},
   "source": [
    "<font size=\"3\">\n",
    "Or directly run your python script as it would be a bash script or native executable\n",
    "</font>"
   ]
  },
  {
   "cell_type": "code",
   "execution_count": null,
   "metadata": {},
   "outputs": [],
   "source": [
    "! ls -la scripts/\n",
    "! chmod u+x scripts/hello_world2.py\n",
    "! ./scripts/hello_world2.py"
   ]
  },
  {
   "cell_type": "markdown",
   "metadata": {},
   "source": [
    "<font size=\"3\">\n",
    "We check what <i>hello_world2.py</i> contained by printing its file content with the command <i>cat</i>:\n",
    "</font>"
   ]
  },
  {
   "cell_type": "code",
   "execution_count": null,
   "metadata": {},
   "outputs": [],
   "source": [
    "! cat scripts/hello_world2.py"
   ]
  },
  {
   "cell_type": "markdown",
   "metadata": {},
   "source": [
    "## Handling of command-line arguments \n",
    "<br>\n",
    "<font size=\"3\">\n",
    "Very often, it's the case that you'd like to run your Python script, but with slightly different parameters or paths with files to work on. It would be annoying to make the required changes every time in your Python code.<br><br>\n",
    "Luckily, you can easily handle given command-line arguments in Python and work with them in your script. <b>The most basic option is to use the builtin library <i>sys</i> and the provided list <i>argv</i>. If any command-line argument was given to run your Python script, it will appear in <i>argv</i>.\n",
    "</font>\n",
    "\n",
    "### Examples:"
   ]
  },
  {
   "cell_type": "markdown",
   "metadata": {},
   "source": [
    "<font size=\"3\">Let's check first the content of the little example script:</font>"
   ]
  },
  {
   "cell_type": "code",
   "execution_count": null,
   "metadata": {},
   "outputs": [],
   "source": [
    "! cat scripts/cli_args.py"
   ]
  },
  {
   "cell_type": "markdown",
   "metadata": {},
   "source": [
    "<font size=\"3\">Then we run it giving various command-line arguments:</font>"
   ]
  },
  {
   "cell_type": "code",
   "execution_count": null,
   "metadata": {},
   "outputs": [],
   "source": [
    "# modifies file permission flags\n",
    "! chmod u+x scripts/cli_args.py\n",
    "\n",
    "# run it without any command-line argument\n",
    "! ./scripts/cli_args.py\n",
    "\n",
    "# run it with one command-line argument\n",
    "! ./scripts/cli_args.py --test1\n",
    "\n",
    "# run it with multiple command-line arguments\n",
    "! ./scripts/cli_args.py --test1 --test2 --test3"
   ]
  },
  {
   "cell_type": "markdown",
   "metadata": {},
   "source": [
    "<font size=\"3\">\n",
    "    <b>A more convenient option to handle (define and check) command-line arguments is the module <a href=\"https://docs.python.org/3/library/argparse.html\"><i>argparse</i></a></b>.<br><br> With <i>argparse</i> you can easily define expected mandatory or optional command-line arguments for your scripts with built-in checking of the user input. You can even define nice description and help texts for your parameters to help others to use your scripts later independently.\n",
    "</font>"
   ]
  },
  {
   "cell_type": "code",
   "execution_count": null,
   "metadata": {},
   "outputs": [],
   "source": [
    "# modifies file permission flags\n",
    "! chmod u+x scripts/argparse_example.py\n",
    "\n",
    "# list file content\n",
    "! cat scripts/argparse_example.py"
   ]
  },
  {
   "cell_type": "markdown",
   "metadata": {},
   "source": [
    "<font size=\"3\">\n",
    "    <b>If we now attempt to run the script without command-line arguments, we get an error and argparse gives us a hint what we have done wrong:</b>\n",
    "            </font>"
   ]
  },
  {
   "cell_type": "code",
   "execution_count": null,
   "metadata": {},
   "outputs": [],
   "source": [
    "! ./scripts/argparse_example.py"
   ]
  },
  {
   "cell_type": "markdown",
   "metadata": {},
   "source": [
    "<font size=\"3\">\n",
    "    <b>Argparse provides a nice help function when the argument <i>-h</i> is used:</b\n",
    "</font>"
   ]
  },
  {
   "cell_type": "code",
   "execution_count": null,
   "metadata": {},
   "outputs": [],
   "source": [
    "! ./scripts/argparse_example.py -h"
   ]
  },
  {
   "cell_type": "code",
   "execution_count": null,
   "metadata": {},
   "outputs": [],
   "source": [
    "! ./scripts/argparse_example.py 1 2 3 --sum"
   ]
  },
  {
   "cell_type": "markdown",
   "metadata": {},
   "source": [
    "<font size=\"3\"><div class=\"alert alert-warning\"><b>Exercise 7:</b> Write your own script evaluating command-line arguments and run it on the command-line yourself. Either simply use the builtin <i>os.argv</i> variable or use the <i>argparse</i> module if you feel already comfortable enough.<br><br>\n",
    "<b>Simply create a new Python script locally and upload it here.</b>\n",
    "</div>\n",
    "    \n",
    "<b>Try to run it yourself here:</b></font>"
   ]
  },
  {
   "cell_type": "code",
   "execution_count": null,
   "metadata": {},
   "outputs": [],
   "source": [
    "# replace \"your_script\" with your filename, may also change the file path\n",
    "! chmod u+x scripts/your_script.py\n",
    "! ./scripts/your_script.py"
   ]
  }
 ],
 "metadata": {
  "kernelspec": {
   "display_name": "Python 3",
   "language": "python",
   "name": "python3"
  },
  "language_info": {
   "codemirror_mode": {
    "name": "ipython",
    "version": 3
   },
   "file_extension": ".py",
   "mimetype": "text/x-python",
   "name": "python",
   "nbconvert_exporter": "python",
   "pygments_lexer": "ipython3",
   "version": "3.7.5"
  },
  "varInspector": {
   "cols": {
    "lenName": 16,
    "lenType": 16,
    "lenVar": 40
   },
   "kernels_config": {
    "python": {
     "delete_cmd_postfix": "",
     "delete_cmd_prefix": "del ",
     "library": "var_list.py",
     "varRefreshCmd": "print(var_dic_list())"
    },
    "r": {
     "delete_cmd_postfix": ") ",
     "delete_cmd_prefix": "rm(",
     "library": "var_list.r",
     "varRefreshCmd": "cat(var_dic_list()) "
    }
   },
   "types_to_exclude": [
    "module",
    "function",
    "builtin_function_or_method",
    "instance",
    "_Feature"
   ],
   "window_display": false
  }
 },
 "nbformat": 4,
 "nbformat_minor": 4
}
