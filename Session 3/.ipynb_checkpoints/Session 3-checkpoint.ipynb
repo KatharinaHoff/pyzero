{
 "cells": [
  {
   "cell_type": "markdown",
   "metadata": {},
   "source": [
    "# Python from Zero: The absolute Beginner's course\n",
    "\n",
    "## Session 3 / 4 - 04.08.2021 9:00 - 12:30\n",
    "<br>\n",
    "<font size=\"3\">\n",
    "    <i>by Fabian Wilde, Katharina Hoff, Matthis Ebel & Mario Stanke<br></i><br>\n",
    "<b>Contact:</b> fabian.wilde@uni-greifswald.de\n",
    "<br>\n",
    "</font>\n",
    "<br>"
   ]
  },
  {
   "cell_type": "markdown",
   "metadata": {},
   "source": [
    "## Running your code from the command-line\n",
    "<br>\n",
    "<font size=\"3\">\n",
    "    <b>In this case, we assume that you're using Linux.</b> If you'd like to run your Python script on the command-line (which is Bash under Linux in the default case), you need to save your script first and then run it with<br><br>\n",
    "<font face=\"Courier\"><b>python <i>your_script.py</i></b></font><br><br>\n",
    "or<br><br>\n",
    "<font face=\"Courier\"><b>python3 <i>your_script.py</i></b></font><br><br>\n",
    "In case you have both, Python 2.x and Python 3.x installed on your system, make sure, you're running the right interpreter using<br><br>\n",
    "<font face=\"Courier\"><b>which python</b></font><br><br>\n",
    "which gives you the path to which the command is referring to.<br><br>\n",
    "Of course, you can also directly run your Python script on the command-line treating is it as a Bash script (a script file for the command-line), but putting e.g.<br><br>\n",
    "<font face=\"Courier\"><b>#!/usr/bin/python3</b></font><br><br>\n",
    "as first line in your Python script to tell Bash which interpreter to use for the following file content.<br><br>\n",
    "    Then, you need to make your newly created file <b>executable</b> by adding the flag <b>executable</b> e.g. with the command<br><br>\n",
    "    <font face=\"Courier\"><b>chmod u+x your_script.py</b></font><br><br>\n",
    "You can check the file permission flags in the listing of your directory using<br><br>\n",
    "    <font face=\"Courier\"><b>ls -la scripts/</b></font><br><br>\n",
    "Then you should be able to simply run your Python script as if it would be a Bash script using<br><br>\n",
    "<font face=\"Courier\"><b>./your_script.py</b></font><br><br>                                                                                               \n",
    "</font>\n",
    "\n",
    "<font size=\"3\">\n",
    "In the following examples, a special \"cell magic\" command is used, so that bash scripts and commands can be run within a Jupyter notebook cell.\n",
    "</font>\n",
    "\n",
    "### Examples:"
   ]
  },
  {
   "cell_type": "code",
   "execution_count": 1,
   "metadata": {},
   "outputs": [
    {
     "name": "stdout",
     "output_type": "stream",
     "text": [
      "/home/wildef/anaconda3/bin/python3\n"
     ]
    },
    {
     "name": "stderr",
     "output_type": "stream",
     "text": [
      "python3: can't open file 'scripts/hello_world.py': [Errno 2] No such file or directory\n"
     ]
    },
    {
     "ename": "CalledProcessError",
     "evalue": "Command 'b'which python3\\npython3 scripts/hello_world.py\\n'' returned non-zero exit status 2.",
     "output_type": "error",
     "traceback": [
      "\u001b[0;31m---------------------------------------------------------------------------\u001b[0m",
      "\u001b[0;31mCalledProcessError\u001b[0m                        Traceback (most recent call last)",
      "\u001b[0;32m<ipython-input-1-7ba7f4ae9a27>\u001b[0m in \u001b[0;36m<module>\u001b[0;34m\u001b[0m\n\u001b[0;32m----> 1\u001b[0;31m \u001b[0mget_ipython\u001b[0m\u001b[0;34m(\u001b[0m\u001b[0;34m)\u001b[0m\u001b[0;34m.\u001b[0m\u001b[0mrun_cell_magic\u001b[0m\u001b[0;34m(\u001b[0m\u001b[0;34m'bash'\u001b[0m\u001b[0;34m,\u001b[0m \u001b[0;34m''\u001b[0m\u001b[0;34m,\u001b[0m \u001b[0;34m'which python3\\npython3 scripts/hello_world.py\\n'\u001b[0m\u001b[0;34m)\u001b[0m\u001b[0;34m\u001b[0m\u001b[0;34m\u001b[0m\u001b[0m\n\u001b[0m",
      "\u001b[0;32m~/anaconda3/lib/python3.8/site-packages/IPython/core/interactiveshell.py\u001b[0m in \u001b[0;36mrun_cell_magic\u001b[0;34m(self, magic_name, line, cell)\u001b[0m\n\u001b[1;32m   2369\u001b[0m             \u001b[0;32mwith\u001b[0m \u001b[0mself\u001b[0m\u001b[0;34m.\u001b[0m\u001b[0mbuiltin_trap\u001b[0m\u001b[0;34m:\u001b[0m\u001b[0;34m\u001b[0m\u001b[0;34m\u001b[0m\u001b[0m\n\u001b[1;32m   2370\u001b[0m                 \u001b[0margs\u001b[0m \u001b[0;34m=\u001b[0m \u001b[0;34m(\u001b[0m\u001b[0mmagic_arg_s\u001b[0m\u001b[0;34m,\u001b[0m \u001b[0mcell\u001b[0m\u001b[0;34m)\u001b[0m\u001b[0;34m\u001b[0m\u001b[0;34m\u001b[0m\u001b[0m\n\u001b[0;32m-> 2371\u001b[0;31m                 \u001b[0mresult\u001b[0m \u001b[0;34m=\u001b[0m \u001b[0mfn\u001b[0m\u001b[0;34m(\u001b[0m\u001b[0;34m*\u001b[0m\u001b[0margs\u001b[0m\u001b[0;34m,\u001b[0m \u001b[0;34m**\u001b[0m\u001b[0mkwargs\u001b[0m\u001b[0;34m)\u001b[0m\u001b[0;34m\u001b[0m\u001b[0;34m\u001b[0m\u001b[0m\n\u001b[0m\u001b[1;32m   2372\u001b[0m             \u001b[0;32mreturn\u001b[0m \u001b[0mresult\u001b[0m\u001b[0;34m\u001b[0m\u001b[0;34m\u001b[0m\u001b[0m\n\u001b[1;32m   2373\u001b[0m \u001b[0;34m\u001b[0m\u001b[0m\n",
      "\u001b[0;32m~/anaconda3/lib/python3.8/site-packages/IPython/core/magics/script.py\u001b[0m in \u001b[0;36mnamed_script_magic\u001b[0;34m(line, cell)\u001b[0m\n\u001b[1;32m    140\u001b[0m             \u001b[0;32melse\u001b[0m\u001b[0;34m:\u001b[0m\u001b[0;34m\u001b[0m\u001b[0;34m\u001b[0m\u001b[0m\n\u001b[1;32m    141\u001b[0m                 \u001b[0mline\u001b[0m \u001b[0;34m=\u001b[0m \u001b[0mscript\u001b[0m\u001b[0;34m\u001b[0m\u001b[0;34m\u001b[0m\u001b[0m\n\u001b[0;32m--> 142\u001b[0;31m             \u001b[0;32mreturn\u001b[0m \u001b[0mself\u001b[0m\u001b[0;34m.\u001b[0m\u001b[0mshebang\u001b[0m\u001b[0;34m(\u001b[0m\u001b[0mline\u001b[0m\u001b[0;34m,\u001b[0m \u001b[0mcell\u001b[0m\u001b[0;34m)\u001b[0m\u001b[0;34m\u001b[0m\u001b[0;34m\u001b[0m\u001b[0m\n\u001b[0m\u001b[1;32m    143\u001b[0m \u001b[0;34m\u001b[0m\u001b[0m\n\u001b[1;32m    144\u001b[0m         \u001b[0;31m# write a basic docstring:\u001b[0m\u001b[0;34m\u001b[0m\u001b[0;34m\u001b[0m\u001b[0;34m\u001b[0m\u001b[0m\n",
      "\u001b[0;32m<decorator-gen-110>\u001b[0m in \u001b[0;36mshebang\u001b[0;34m(self, line, cell)\u001b[0m\n",
      "\u001b[0;32m~/anaconda3/lib/python3.8/site-packages/IPython/core/magic.py\u001b[0m in \u001b[0;36m<lambda>\u001b[0;34m(f, *a, **k)\u001b[0m\n\u001b[1;32m    185\u001b[0m     \u001b[0;31m# but it's overkill for just that one bit of state.\u001b[0m\u001b[0;34m\u001b[0m\u001b[0;34m\u001b[0m\u001b[0;34m\u001b[0m\u001b[0m\n\u001b[1;32m    186\u001b[0m     \u001b[0;32mdef\u001b[0m \u001b[0mmagic_deco\u001b[0m\u001b[0;34m(\u001b[0m\u001b[0marg\u001b[0m\u001b[0;34m)\u001b[0m\u001b[0;34m:\u001b[0m\u001b[0;34m\u001b[0m\u001b[0;34m\u001b[0m\u001b[0m\n\u001b[0;32m--> 187\u001b[0;31m         \u001b[0mcall\u001b[0m \u001b[0;34m=\u001b[0m \u001b[0;32mlambda\u001b[0m \u001b[0mf\u001b[0m\u001b[0;34m,\u001b[0m \u001b[0;34m*\u001b[0m\u001b[0ma\u001b[0m\u001b[0;34m,\u001b[0m \u001b[0;34m**\u001b[0m\u001b[0mk\u001b[0m\u001b[0;34m:\u001b[0m \u001b[0mf\u001b[0m\u001b[0;34m(\u001b[0m\u001b[0;34m*\u001b[0m\u001b[0ma\u001b[0m\u001b[0;34m,\u001b[0m \u001b[0;34m**\u001b[0m\u001b[0mk\u001b[0m\u001b[0;34m)\u001b[0m\u001b[0;34m\u001b[0m\u001b[0;34m\u001b[0m\u001b[0m\n\u001b[0m\u001b[1;32m    188\u001b[0m \u001b[0;34m\u001b[0m\u001b[0m\n\u001b[1;32m    189\u001b[0m         \u001b[0;32mif\u001b[0m \u001b[0mcallable\u001b[0m\u001b[0;34m(\u001b[0m\u001b[0marg\u001b[0m\u001b[0;34m)\u001b[0m\u001b[0;34m:\u001b[0m\u001b[0;34m\u001b[0m\u001b[0;34m\u001b[0m\u001b[0m\n",
      "\u001b[0;32m~/anaconda3/lib/python3.8/site-packages/IPython/core/magics/script.py\u001b[0m in \u001b[0;36mshebang\u001b[0;34m(self, line, cell)\u001b[0m\n\u001b[1;32m    243\u001b[0m             \u001b[0msys\u001b[0m\u001b[0;34m.\u001b[0m\u001b[0mstderr\u001b[0m\u001b[0;34m.\u001b[0m\u001b[0mflush\u001b[0m\u001b[0;34m(\u001b[0m\u001b[0;34m)\u001b[0m\u001b[0;34m\u001b[0m\u001b[0;34m\u001b[0m\u001b[0m\n\u001b[1;32m    244\u001b[0m         \u001b[0;32mif\u001b[0m \u001b[0margs\u001b[0m\u001b[0;34m.\u001b[0m\u001b[0mraise_error\u001b[0m \u001b[0;32mand\u001b[0m \u001b[0mp\u001b[0m\u001b[0;34m.\u001b[0m\u001b[0mreturncode\u001b[0m\u001b[0;34m!=\u001b[0m\u001b[0;36m0\u001b[0m\u001b[0;34m:\u001b[0m\u001b[0;34m\u001b[0m\u001b[0;34m\u001b[0m\u001b[0m\n\u001b[0;32m--> 245\u001b[0;31m             \u001b[0;32mraise\u001b[0m \u001b[0mCalledProcessError\u001b[0m\u001b[0;34m(\u001b[0m\u001b[0mp\u001b[0m\u001b[0;34m.\u001b[0m\u001b[0mreturncode\u001b[0m\u001b[0;34m,\u001b[0m \u001b[0mcell\u001b[0m\u001b[0;34m,\u001b[0m \u001b[0moutput\u001b[0m\u001b[0;34m=\u001b[0m\u001b[0mout\u001b[0m\u001b[0;34m,\u001b[0m \u001b[0mstderr\u001b[0m\u001b[0;34m=\u001b[0m\u001b[0merr\u001b[0m\u001b[0;34m)\u001b[0m\u001b[0;34m\u001b[0m\u001b[0;34m\u001b[0m\u001b[0m\n\u001b[0m\u001b[1;32m    246\u001b[0m \u001b[0;34m\u001b[0m\u001b[0m\n\u001b[1;32m    247\u001b[0m     \u001b[0;32mdef\u001b[0m \u001b[0m_run_script\u001b[0m\u001b[0;34m(\u001b[0m\u001b[0mself\u001b[0m\u001b[0;34m,\u001b[0m \u001b[0mp\u001b[0m\u001b[0;34m,\u001b[0m \u001b[0mcell\u001b[0m\u001b[0;34m,\u001b[0m \u001b[0mto_close\u001b[0m\u001b[0;34m)\u001b[0m\u001b[0;34m:\u001b[0m\u001b[0;34m\u001b[0m\u001b[0;34m\u001b[0m\u001b[0m\n",
      "\u001b[0;31mCalledProcessError\u001b[0m: Command 'b'which python3\\npython3 scripts/hello_world.py\\n'' returned non-zero exit status 2."
     ]
    }
   ],
   "source": [
    "%%bash\n",
    "which python3\n",
    "python3 scripts/hello_world.py"
   ]
  },
  {
   "cell_type": "markdown",
   "metadata": {},
   "source": [
    "<font size=\"3\">\n",
    "Or directly run your python script as it would be a bash script or native executable\n",
    "</font>"
   ]
  },
  {
   "cell_type": "code",
   "execution_count": null,
   "metadata": {},
   "outputs": [],
   "source": [
    "%%bash\n",
    "ls -la scripts/\n",
    "chmod u+x scripts/hello_world2.py\n",
    "./scripts/hello_world2.py"
   ]
  },
  {
   "cell_type": "markdown",
   "metadata": {},
   "source": [
    "<font size=\"3\">\n",
    "We check what <i>hello_world2.py</i> contained by printing its file content with the command <i>cat</i>:\n",
    "</font>"
   ]
  },
  {
   "cell_type": "code",
   "execution_count": null,
   "metadata": {},
   "outputs": [],
   "source": [
    "%%bash\n",
    "cat scripts/hello_world2.py"
   ]
  },
  {
   "cell_type": "markdown",
   "metadata": {},
   "source": [
    "## Handling of command-line arguments \n",
    "<br>\n",
    "<font size=\"3\">\n",
    "Very often, it's the case that you'd like to run your Python script, but with slightly different parameters or paths with files to work on. It would be annoying to make the required changes every time in your Python code.<br><br>\n",
    "Luckily, you can easily handle given command-line arguments in Python and work with them in your script. <b>The most basic option is to use the builtin library <i>sys</i> and the provided list <i>argv</i>. If any command-line argument was given to run your Python script, it will appear in <i>argv</i>.\n",
    "</font>\n",
    "\n",
    "### Examples:"
   ]
  },
  {
   "cell_type": "markdown",
   "metadata": {},
   "source": [
    "<font size=\"3\">Let's check first the content of the little example script:</font>"
   ]
  },
  {
   "cell_type": "code",
   "execution_count": null,
   "metadata": {},
   "outputs": [],
   "source": [
    "%%bash\n",
    "cat scripts/cli_args.py"
   ]
  },
  {
   "cell_type": "markdown",
   "metadata": {},
   "source": [
    "<font size=\"3\">Then we run it giving various command-line arguments:</font>"
   ]
  },
  {
   "cell_type": "code",
   "execution_count": null,
   "metadata": {},
   "outputs": [],
   "source": [
    "%%bash \n",
    "\n",
    "# modifies file permission flags\n",
    "chmod u+x scripts/cli_args.py\n",
    "\n",
    "# run it without any command-line argument\n",
    "./scripts/cli_args.py\n",
    "\n",
    "# run it with one command-line argument\n",
    "./scripts/cli_args.py --test1\n",
    "\n",
    "# run it with multiple command-line arguments\n",
    "./scripts/cli_args.py --test1 --test2 --test3"
   ]
  },
  {
   "cell_type": "markdown",
   "metadata": {},
   "source": [
    "<font size=\"3\">\n",
    "    <b>A more convenient option to handle (define and check) command-line arguments is the module <a href=\"https://docs.python.org/3/library/argparse.html\"><i>argparse</i></a></b>.<br><br> With <i>argparse</i> you can easily define expected mandatory or optional command-line arguments for your scripts with built-in checking of the user input. You can even define nice description and help texts for your parameters to help others to use your scripts later independently.\n",
    "</font>"
   ]
  },
  {
   "cell_type": "code",
   "execution_count": null,
   "metadata": {},
   "outputs": [],
   "source": [
    "%%bash\n",
    "\n",
    "# modifies file permission flags\n",
    "chmod u+x scripts/argparse_example.py\n",
    "\n",
    "# list file content\n",
    "cat scripts/argparse_example.py"
   ]
  },
  {
   "cell_type": "markdown",
   "metadata": {},
   "source": [
    "<font size=\"3\">\n",
    "    <b>If we now attempt to run the script without command-line arguments, we get an error and argparse gives us a hint what we have done wrong:</b>\n",
    "            </font>"
   ]
  },
  {
   "cell_type": "code",
   "execution_count": null,
   "metadata": {},
   "outputs": [],
   "source": [
    "%%bash\n",
    "./scripts/argparse_example.py"
   ]
  },
  {
   "cell_type": "markdown",
   "metadata": {},
   "source": [
    "<font size=\"3\">\n",
    "    <b>Argparse provides a nice help function when the argument <i>-h</i> is used:</b\n",
    "</font>"
   ]
  },
  {
   "cell_type": "code",
   "execution_count": null,
   "metadata": {},
   "outputs": [],
   "source": [
    "%%bash\n",
    "./scripts/argparse_example.py -h"
   ]
  },
  {
   "cell_type": "code",
   "execution_count": null,
   "metadata": {},
   "outputs": [],
   "source": [
    "%%bash\n",
    "./scripts/argparse_example.py 1 2 3 --sum"
   ]
  },
  {
   "cell_type": "markdown",
   "metadata": {},
   "source": [
    "<font size=\"3\"><div class=\"alert alert-warning\"><b>Exercise 1:</b> Write your own script evaluating command-line arguments and run it on the command-line yourself. Either simply use the builtin <i>os.argv</i> variable or use the <i>argparse</i> module if you feel already comfortable enough.<br><br>\n",
    "<b>Simply create a new Python script locally and upload it here.</b>\n",
    "</div>\n",
    "    \n",
    "<b>Try to run it yourself here:</b></font>"
   ]
  },
  {
   "cell_type": "code",
   "execution_count": null,
   "metadata": {},
   "outputs": [],
   "source": [
    "%%bash\n",
    "# replace \"your_script\" with your filename, may also change the file path\n",
    "chmod u+x scripts/your_script.py\n",
    "./scripts/your_script.py"
   ]
  },
  {
   "cell_type": "markdown",
   "metadata": {},
   "source": [
    "## Importing Modules and Namespaces\n",
    "<br>\n",
    "<font size=\"3\">\n",
    "Structuring the code in functions which can be easily reused and maintained is the first step to achieve cleaner and leaner code. Nevertheless, in big Python projects, it would result in not really well readable code and collaborating on a common project would be difficult, if all the code would be in one single file. Nowadays Python projects are therefore organised in modules, allowing to distribute parts of the code over multiple files as well.<br><br> The figure below shows an exemplaric project directory structure organized in modules and submodules:<br><br>\n",
    "</font>\n",
    "<div align=\"center\">\n",
    "    <img src=\"img/absolute-import.jpg\" width=\"40%\">\n",
    "</div>\n",
    "<br>\n",
    "<font size=\"2\"><i>Source: <a href=\"https://www.geeksforgeeks.org/absolute-and-relative-imports-in-python/\">https://www.geeksforgeeks.org/absolute-and-relative-imports-in-python/</a></i></font>\n",
    "<br><br>\n",
    "<font size=\"3\">\n",
    "<b>In order to use an existing (3rd party) module in your new script or project, you need to import the module using</b><br><br>\n",
    "<b><font face=\"Courier\">import <i>module_name</i></font></b><br><br>\n",
    "<b>or define a shorter alias for the module name, if it is too long when used in the code:</b><br><br>\n",
    "<b><font face=\"Courier\">import <i>module_name</i> as <i>alias</i></font></b><br><br>\n",
    "<font size=\"3\">\n",
    "<b>You can also import a specific class or function from module:</b><br><br>\n",
    "<b><font face=\"Courier\">from <i>module_name</i> import <i>function_name</i> as <i>alias</i></b></font><br><br>\n",
    "<b>You can also further specifiy an <i>absolute path</i> to the submodule (or the file) to import a specific class or function from:</b><br><br>\n",
    "<b><font face=\"Courier\">from <i>module_name</i>.<i>submodule_name</i>.<i>file_name</i> import <i>function_name</i></font><br><br>\n",
    "</b>\n",
    "<b>Related to the project structure above, we could use the statement:</b><br><br>\n",
    "<b><font face=\"Courier\">from pkg2.subpkg1.module5 import fun3</font></b><br><br>\n",
    "    to specify an <b><i>absolute import</i></b> path. However, absolute imports are discouraged to use when the directory structure is very large.<br><br>\n",
    "<b>A relative import with respect to the project structure in the figure above may be defined using</b><br><br>\n",
    "<b><font face=\"Courier\">from .subpkg1.module5 import fun3</font></b><br><br>\n",
    "    \n",
    "The best practice in Python regarding imports can be found in the official Python style guide <a href=\"https://www.python.org/dev/peps/pep-0008/#imports\">PEP8</a>.<br> The most important best practices are:\n",
    "<ul>\n",
    "    <li>import statements should be located at the beginning of your script.</li>\n",
    "    <li>import statements should be sorted in alphabetical order for their module names.</li>\n",
    "    <li>standard library imports before 3rd party imports.</li>\n",
    "</ul>\n",
    "</font>\n",
    "\n",
    "### Examples:"
   ]
  },
  {
   "cell_type": "code",
   "execution_count": null,
   "metadata": {},
   "outputs": [],
   "source": [
    "# standard library imports first\n",
    "# use for each import a new line\n",
    "import math\n",
    "import os\n",
    "\n",
    "# the most popular example to use numpy\n",
    "# imports numpy and sets the namespace to the alias \"np\"\n",
    "# the module content is then accessible via the alias\n",
    "import numpy as np\n",
    "\n",
    "# the most popular example to plot/visualize data\n",
    "from matplotlib import pyplot as plt\n",
    "\n",
    "# import specific class from module\n",
    "from tqdm import tqdm"
   ]
  },
  {
   "cell_type": "markdown",
   "metadata": {},
   "source": [
    "<font size=\"3\"><b>Try it yourself:</b></font>"
   ]
  },
  {
   "cell_type": "code",
   "execution_count": null,
   "metadata": {},
   "outputs": [],
   "source": []
  },
  {
   "cell_type": "markdown",
   "metadata": {},
   "source": [
    "<font size=\"3\"><b>You can check the path, version and short documentation of a module using the module attributes:</b></font>"
   ]
  },
  {
   "cell_type": "code",
   "execution_count": 19,
   "metadata": {},
   "outputs": [
    {
     "name": "stdout",
     "output_type": "stream",
     "text": [
      "1.19.3\n",
      "['/home/wildef/.local/lib/python3.8/site-packages/numpy']\n",
      "\n",
      "NumPy\n",
      "=====\n",
      "\n",
      "Provides\n",
      "  1. An array object of arbitrary homogeneous items\n",
      "  2. Fast mathematical operations over arrays\n",
      "  3. Linear Algebra, Fourier Transforms, Random Number Generation\n",
      "\n",
      "How to use the documentation\n",
      "----------------------------\n",
      "Documentation is available in two forms: docstrings provided\n",
      "with the code, and a loose standing reference guide, available from\n",
      "`the NumPy homepage <https://www.scipy.org>`_.\n",
      "\n",
      "We recommend exploring the docstrings using\n",
      "`IPython <https://ipython.org>`_, an advanced Python shell with\n",
      "TAB-completion and introspection capabilities.  See below for further\n",
      "instructions.\n",
      "\n",
      "The docstring examples assume that `numpy` has been imported as `np`::\n",
      "\n",
      "  >>> import numpy as np\n",
      "\n",
      "Code snippets are indicated by three greater-than signs::\n",
      "\n",
      "  >>> x = 42\n",
      "  >>> x = x + 1\n",
      "\n",
      "Use the built-in ``help`` function to view a function's docstring::\n",
      "\n",
      "  >>> help(np.sort)\n",
      "  ... # doctest: +SKIP\n",
      "\n",
      "For some objects, ``np.info(obj)`` may provide additional help.  This is\n",
      "particularly true if you see the line \"Help on ufunc object:\" at the top\n",
      "of the help() page.  Ufuncs are implemented in C, not Python, for speed.\n",
      "The native Python help() does not know how to view their help, but our\n",
      "np.info() function does.\n",
      "\n",
      "To search for documents containing a keyword, do::\n",
      "\n",
      "  >>> np.lookfor('keyword')\n",
      "  ... # doctest: +SKIP\n",
      "\n",
      "General-purpose documents like a glossary and help on the basic concepts\n",
      "of numpy are available under the ``doc`` sub-module::\n",
      "\n",
      "  >>> from numpy import doc\n",
      "  >>> help(doc)\n",
      "  ... # doctest: +SKIP\n",
      "\n",
      "Available subpackages\n",
      "---------------------\n",
      "doc\n",
      "    Topical documentation on broadcasting, indexing, etc.\n",
      "lib\n",
      "    Basic functions used by several sub-packages.\n",
      "random\n",
      "    Core Random Tools\n",
      "linalg\n",
      "    Core Linear Algebra Tools\n",
      "fft\n",
      "    Core FFT routines\n",
      "polynomial\n",
      "    Polynomial tools\n",
      "testing\n",
      "    NumPy testing tools\n",
      "f2py\n",
      "    Fortran to Python Interface Generator.\n",
      "distutils\n",
      "    Enhancements to distutils with support for\n",
      "    Fortran compilers support and more.\n",
      "\n",
      "Utilities\n",
      "---------\n",
      "test\n",
      "    Run numpy unittests\n",
      "show_config\n",
      "    Show numpy build configuration\n",
      "dual\n",
      "    Overwrite certain functions with high-performance Scipy tools\n",
      "matlib\n",
      "    Make everything matrices.\n",
      "__version__\n",
      "    NumPy version string\n",
      "\n",
      "Viewing documentation using IPython\n",
      "-----------------------------------\n",
      "Start IPython with the NumPy profile (``ipython -p numpy``), which will\n",
      "import `numpy` under the alias `np`.  Then, use the ``cpaste`` command to\n",
      "paste examples into the shell.  To see which functions are available in\n",
      "`numpy`, type ``np.<TAB>`` (where ``<TAB>`` refers to the TAB key), or use\n",
      "``np.*cos*?<ENTER>`` (where ``<ENTER>`` refers to the ENTER key) to narrow\n",
      "down the list.  To view the docstring for a function, use\n",
      "``np.cos?<ENTER>`` (to view the docstring) and ``np.cos??<ENTER>`` (to view\n",
      "the source code).\n",
      "\n",
      "Copies vs. in-place operation\n",
      "-----------------------------\n",
      "Most of the functions in `numpy` return a copy of the array argument\n",
      "(e.g., `np.sort`).  In-place versions of these functions are often\n",
      "available as array methods, i.e. ``x = np.array([1,2,3]); x.sort()``.\n",
      "Exceptions to this rule are documented.\n",
      "\n",
      "\n"
     ]
    }
   ],
   "source": [
    "# the hidden attribute __version__ contains the module version\n",
    "print(np.__version__)\n",
    "# the hidden attribute __path__ contains the module path or location\n",
    "print(np.__path__)\n",
    "# the hidden attribute __doc__ contains a short documentation\n",
    "# or description of the module, the so-called docstring\n",
    "print(np.__doc__)"
   ]
  },
  {
   "cell_type": "markdown",
   "metadata": {},
   "source": [
    "## The most popular Python Libraries (3rd party Modules)\n",
    "\n",
    "<br>\n",
    "<font size=\"3\">\n",
    "The most popular Python libraries which you will use yourself sooner that later are <br>\n",
    "<ul>\n",
    "<li><b><a href=\"https://numpy.org/\">numpy</a>:</b><br>Numpy is one of the most widely used Python libraries. It offers fast handling and efficient storage of bigger amounts of numerical data in numpy arrays as well as a variety of useful functions to readin various data file formats.</li><br>\n",
    "<li>\n",
    "<b><a href=\"https://matplotlib.org/\">matplotlib</a>:</b><br>Matplotlib is the most common Python library for data visualization. The library <a href=\"https://seaborn.pydata.org/\">seaborn</a> builds on matplotlib and offers more beautiful plots and more sophisticated plot types for statistics.\n",
    "</li><br>\n",
    "    <li>\n",
    "        <b><a href=\"https://pandas.pydata.org/\">Pandas</a>:</b><br>Pandas is a library for chart data visualization and also for analysis and handling of large amounts of data. It became most popular for time series analysis and is also commonly used in finance.\n",
    "    </li><br>\n",
    "    <li>\n",
    "     <b><a href=\"https://www.scipy.org/\">scipy</a>:</b><br>Scipy is a general purpose library for science and engineering offering mostly functionalities for signal analysis, filtering and regression.\n",
    "    </li><br>\n",
    "        <li>\n",
    "     <b><a href=\"https://www.statsmodels.org/\">statsmodels</a>:</b><br>As the name implies, the library Statsmodels offers a big variety of statistical models and tests for your data.\n",
    "    </li><br>\n",
    "    <li>\n",
    "     <b><a href=\"https://scikit-image.org/\">scikit-image</a>:</b><br>Scikit-image offers functionalities for automatic image processing, enhancement and segmentation.\n",
    "    </li><br>\n",
    "     <li>\n",
    "     <b><a href=\"https://scikit-learn.org/\">scikit-learn</a>:</b><br>Scikit-learn offers a variety of machine learning models via keras as well as funtions for statistical tests and data fitting routines.\n",
    "    </li><br>\n",
    "     <li>\n",
    "     <b><a href=\"https://www.tensorflow.org/\">tensorflow</a>:</b><br>Tensorflow is the most popular machine learning library developed mostly by Google besides the competing <a href=\"https://pytorch.org/\">pytorch</a> by Facebook.\n",
    "    </li>\n",
    "</ul>\n",
    "</font>"
   ]
  },
  {
   "cell_type": "markdown",
   "metadata": {},
   "source": [
    "## How to list installed modules and install new modules in Python\n",
    "\n",
    "<br>\n",
    "<font size=\"3\">\n",
    "Often you would like to use the functionality of a 3rd-party module, but the module is not installed. In most Python environments, a package manager is used to administer the installed modules.<br> In most cases, this is either <a href=\"https://docs.python.org/3/installing/index.html\">pip</a> or if you use the Anaconda environment, it will be <a href=\"\">conda</a>.<br><br>\n",
    "    <b>In order to check which modules are installed, you can use the command:</b><br><br>\n",
    "    <i>pip list</i>\n",
    "    <br><br>\n",
    "    or\n",
    "    <br><br>\n",
    "    <i>conda list</i><br><br>\n",
    "    on the command-line prompt in a console or use directly\n",
    "</font>"
   ]
  },
  {
   "cell_type": "code",
   "execution_count": 1,
   "metadata": {},
   "outputs": [
    {
     "name": "stdout",
     "output_type": "stream",
     "text": [
      "# packages in environment at /home/wildef/anaconda3:\n",
      "#\n",
      "# Name                    Version                   Build  Channel\n",
      "_ipyw_jlab_nb_ext_conf    0.1.0                    py38_0  \n",
      "_libgcc_mutex             0.1                        main  \n",
      "alabaster                 0.7.12                     py_0  \n",
      "anaconda                  2020.07                  py38_0  \n",
      "anaconda-client           1.7.2                    py38_0  \n",
      "anaconda-navigator        1.9.12                   py38_0  \n",
      "anaconda-project          0.8.4                      py_0  \n",
      "argh                      0.26.2                   py38_0  \n",
      "asn1crypto                1.3.0                    py38_0  \n",
      "astroid                   2.4.2                    py38_0  \n",
      "astropy                   4.0.1.post1      py38h7b6447c_1  \n",
      "atomicwrites              1.4.0                      py_0  \n",
      "attrs                     19.3.0                     py_0  \n",
      "autopep8                  1.5.3                      py_0  \n",
      "babel                     2.8.0                      py_0  \n",
      "backcall                  0.2.0                      py_0  \n",
      "backports                 1.0                        py_2  \n",
      "backports.functools_lru_cache 1.6.1                      py_0  \n",
      "backports.shutil_get_terminal_size 1.0.0                    py38_2  \n",
      "backports.tempfile        1.0                        py_1  \n",
      "backports.weakref         1.0.post1                  py_1  \n",
      "beautifulsoup4            4.9.1                    py38_0  \n",
      "bitarray                  1.4.0            py38h7b6447c_0  \n",
      "bkcharts                  0.2                      py38_0  \n",
      "blas                      1.0                         mkl  \n",
      "bleach                    3.1.5                      py_0  \n",
      "blosc                     1.19.0               hd408876_0  \n",
      "bokeh                     2.1.1                    py38_0  \n",
      "boto                      2.49.0                   py38_0  \n",
      "bottleneck                1.3.2            py38heb32a55_1  \n",
      "brotlipy                  0.7.0           py38h7b6447c_1000  \n",
      "bzip2                     1.0.8                h7b6447c_0  \n",
      "ca-certificates           2020.6.24                     0  \n",
      "cairo                     1.14.12              h8948797_3  \n",
      "certifi                   2020.6.20                py38_0  \n",
      "cffi                      1.14.0           py38he30daa8_1  \n",
      "chardet                   3.0.4                 py38_1003  \n",
      "click                     7.1.2                      py_0  \n",
      "cloudpickle               1.5.0                      py_0  \n",
      "clyent                    1.2.2                    py38_1  \n",
      "colorama                  0.4.3                      py_0  \n",
      "conda                     4.9.0            py38h924ce5b_1    conda-forge\n",
      "conda-build               3.18.11                  py38_0  \n",
      "conda-env                 2.6.0                         1  \n",
      "conda-package-handling    1.6.1            py38h7b6447c_0  \n",
      "conda-verify              3.4.2                      py_1  \n",
      "contextlib2               0.6.0.post1                py_0  \n",
      "cryptography              2.9.2            py38h1ba5d50_0  \n",
      "curl                      7.71.1               hbc83047_1  \n",
      "cv                        1.0.0                    pypi_0    pypi\n",
      "cycler                    0.10.0                   py38_0  \n",
      "cython                    0.29.21          py38he6710b0_0  \n",
      "cytoolz                   0.10.1           py38h7b6447c_0  \n",
      "dask                      2.20.0                     py_0  \n",
      "dask-core                 2.20.0                     py_0  \n",
      "dbus                      1.13.16              hb2f20db_0  \n",
      "decorator                 4.4.2                      py_0  \n",
      "defusedxml                0.6.0                      py_0  \n",
      "diff-match-patch          20200713                   py_0  \n",
      "distributed               2.20.0                   py38_0  \n",
      "distro                    1.5.0                    pypi_0    pypi\n",
      "docutils                  0.16                     py38_1  \n",
      "entrypoints               0.3                      py38_0  \n",
      "et_xmlfile                1.0.1                   py_1001  \n",
      "expat                     2.2.9                he6710b0_2  \n",
      "fastcache                 1.1.0            py38h7b6447c_0  \n",
      "filelock                  3.0.12                     py_0  \n",
      "flake8                    3.8.3                      py_0  \n",
      "flask                     1.1.2                      py_0  \n",
      "fontconfig                2.13.0               h9420a91_0  \n",
      "freetype                  2.10.2               h5ab3b9f_0  \n",
      "fribidi                   1.0.9                h7b6447c_0  \n",
      "fsspec                    0.7.4                      py_0  \n",
      "future                    0.18.2                   py38_1  \n",
      "get_terminal_size         1.0.0                haa9412d_0  \n",
      "gevent                    20.6.2           py38h7b6447c_0  \n",
      "glib                      2.65.0               h3eb4bd4_0  \n",
      "glob2                     0.7                        py_0  \n",
      "gmp                       6.1.2                h6c8ec71_1  \n",
      "gmpy2                     2.0.8            py38hd5f6e3b_3  \n",
      "graphite2                 1.3.14               h23475e2_0  \n",
      "greenlet                  0.4.16           py38h7b6447c_0  \n",
      "gst-plugins-base          1.14.0               hbbd80ab_1  \n",
      "gstreamer                 1.14.0               hb31296c_0  \n",
      "h5py                      2.10.0           py38h7918eee_0  \n",
      "harfbuzz                  2.4.0                hca77d97_1  \n",
      "hdf5                      1.10.4               hb1b8bf9_0  \n",
      "heapdict                  1.0.1                      py_0  \n",
      "html5lib                  1.1                        py_0  \n",
      "icu                       58.2                 he6710b0_3  \n",
      "idna                      2.10                       py_0  \n",
      "imageio                   2.9.0                      py_0  \n",
      "imagesize                 1.2.0                      py_0  \n",
      "importlib-metadata        1.7.0                    py38_0  \n",
      "importlib_metadata        1.7.0                         0  \n",
      "intel-openmp              2020.1                      217  \n",
      "intervaltree              3.0.2                      py_1  \n",
      "ipykernel                 5.3.2            py38h5ca1d4c_0  \n",
      "ipython                   7.16.1           py38h5ca1d4c_0  \n",
      "ipython_genutils          0.2.0                    py38_0  \n",
      "ipywidgets                7.5.1                      py_0    conda-forge\n",
      "isort                     4.3.21                   py38_0  \n",
      "itsdangerous              1.1.0                      py_0  \n",
      "jbig                      2.1                  hdba287a_0  \n",
      "jdcal                     1.4.1                      py_0  \n",
      "jedi                      0.17.1                   py38_0  \n",
      "jeepney                   0.4.3                      py_0  \n",
      "jinja2                    2.11.2                     py_0  \n",
      "joblib                    0.16.0                     py_0  \n",
      "jpeg                      9b                   h024ee3a_2  \n",
      "json5                     0.9.5                      py_0  \n",
      "jsonschema                3.2.0                    py38_0  \n",
      "jupyter                   1.0.0                    py38_7  \n",
      "jupyter-contrib-core      0.3.3                    pypi_0    pypi\n",
      "jupyter-contrib-nbextensions 0.5.1                    pypi_0    pypi\n",
      "jupyter-highlight-selected-word 0.2.0                    pypi_0    pypi\n",
      "jupyter-latex-envs        1.4.6                    pypi_0    pypi\n",
      "jupyter_client            6.1.6                      py_0  \n",
      "jupyter_console           6.1.0                      py_0  \n",
      "jupyter_contrib_core      0.3.3                      py_2    conda-forge\n",
      "jupyter_core              4.6.3                    py38_0  \n",
      "jupyter_nbextensions_configurator 0.4.1            py38h32f6830_2    conda-forge\n",
      "jupyterlab                2.1.5                      py_0  \n",
      "jupyterlab_server         1.2.0                      py_0  \n",
      "jupyterthemes             0.20.0                     py_1    conda-forge\n",
      "keyring                   21.2.1                   py38_0  \n",
      "kiwisolver                1.2.0            py38hfd86e86_0  \n",
      "krb5                      1.18.2               h173b8e3_0  \n",
      "lazy-object-proxy         1.4.3            py38h7b6447c_0  \n",
      "lcms2                     2.11                 h396b838_0  \n",
      "ld_impl_linux-64          2.33.1               h53a641e_7  \n",
      "lesscpy                   0.13.0                     py_1    conda-forge\n",
      "libarchive                3.4.2                h62408e4_0  \n",
      "libcurl                   7.71.1               h20c2e04_1  \n",
      "libedit                   3.1.20191231         h14c3975_1  \n",
      "libffi                    3.3                  he6710b0_2  \n",
      "libgcc-ng                 9.1.0                hdf63c60_0  \n",
      "libgfortran-ng            7.3.0                hdf63c60_0  \n",
      "liblief                   0.10.1               he6710b0_0  \n",
      "libllvm9                  9.0.1                h4a3c616_1  \n",
      "libpng                    1.6.37               hbc83047_0  \n",
      "libsodium                 1.0.18               h7b6447c_0  \n",
      "libspatialindex           1.9.3                he6710b0_0  \n",
      "libssh2                   1.9.0                h1ba5d50_1  \n",
      "libstdcxx-ng              9.1.0                hdf63c60_0  \n",
      "libtiff                   4.1.0                h2733197_1  \n",
      "libtool                   2.4.6                h7b6447c_5  \n",
      "libuuid                   1.0.3                h1bed415_2  \n",
      "libxcb                    1.14                 h7b6447c_0  \n",
      "libxml2                   2.9.10               he19cac6_1  \n",
      "libxslt                   1.1.34               hc22bd24_0  \n",
      "llvmlite                  0.33.0           py38hc6ec683_1  \n",
      "locket                    0.2.0                    py38_1  \n",
      "lxml                      4.5.2            py38hefd8a0e_0  \n",
      "lz4-c                     1.9.2                he6710b0_0  \n",
      "lzo                       2.10                 h7b6447c_2  \n",
      "markupsafe                1.1.1            py38h7b6447c_0  \n",
      "matplotlib                3.2.2                         0  \n",
      "matplotlib-base           3.2.2            py38hef1b27d_0  \n",
      "mccabe                    0.6.1                    py38_1  \n",
      "mistune                   0.8.4           py38h7b6447c_1000  \n",
      "mkl                       2020.1                      217  \n",
      "mkl-service               2.3.0            py38he904b0f_0  \n",
      "mkl_fft                   1.1.0            py38h23d657b_0  \n",
      "mkl_random                1.1.1            py38h0573a6f_0  \n",
      "mock                      4.0.2                      py_0  \n",
      "more-itertools            8.4.0                      py_0  \n",
      "mpc                       1.1.0                h10f8cd9_1  \n",
      "mpfr                      4.0.2                hb69a4c5_1  \n",
      "mpmath                    1.1.0                    py38_0  \n",
      "msgpack-python            1.0.0            py38hfd86e86_1  \n",
      "multipledispatch          0.6.0                    py38_0  \n",
      "navigator-updater         0.2.1                    py38_0  \n",
      "nbconvert                 5.6.1                    py38_0  \n",
      "nbformat                  5.0.7                      py_0  \n",
      "ncurses                   6.2                  he6710b0_1  \n",
      "networkx                  2.4                        py_1  \n",
      "nltk                      3.5                        py_0  \n",
      "nose                      1.3.7                    py38_2  \n",
      "notebook                  6.0.3                    py38_0  \n",
      "numba                     0.50.1           py38h0573a6f_1  \n",
      "numexpr                   2.7.1            py38h423224d_0  \n",
      "numpy                     1.18.5           py38ha1c710e_0  \n",
      "numpy-base                1.18.5           py38hde5b4d6_0  \n",
      "numpydoc                  1.1.0                      py_0  \n",
      "olefile                   0.46                       py_0  \n",
      "opencv-python             4.5.1.48                 pypi_0    pypi\n",
      "openpyxl                  3.0.4                      py_0  \n",
      "openssl                   1.1.1g               h7b6447c_0  \n",
      "packaging                 20.4                       py_0  \n",
      "pandas                    1.0.5            py38h0573a6f_0  \n",
      "pandoc                    2.10                          0  \n",
      "pandocfilters             1.4.2                    py38_1  \n",
      "pango                     1.45.3               hd140c19_0  \n",
      "parso                     0.7.0                      py_0  \n",
      "partd                     1.1.0                      py_0  \n",
      "patchelf                  0.11                 he6710b0_0  \n",
      "path                      13.1.0                   py38_0  \n",
      "path.py                   12.4.0                        0  \n",
      "pathlib2                  2.3.5                    py38_0  \n",
      "pathtools                 0.1.2                      py_1  \n",
      "patsy                     0.5.1                    py38_0  \n",
      "pcre                      8.44                 he6710b0_0  \n",
      "pep8                      1.7.1                    py38_0  \n",
      "pexpect                   4.8.0                    py38_0  \n",
      "pickleshare               0.7.5                 py38_1000  \n",
      "pillow                    7.2.0            py38hb39fc2d_0  \n",
      "pip                       20.1.1                   py38_1  \n",
      "pixman                    0.40.0               h7b6447c_0  \n",
      "pkginfo                   1.5.0.1                  py38_0  \n",
      "pluggy                    0.13.1                   py38_0  \n",
      "ply                       3.11                     py38_0  \n",
      "prometheus_client         0.8.0                      py_0  \n",
      "prompt-toolkit            3.0.5                      py_0  \n",
      "prompt_toolkit            3.0.5                         0  \n",
      "psutil                    5.7.0            py38h7b6447c_0  \n",
      "ptyprocess                0.6.0                    py38_0  \n",
      "py                        1.9.0                      py_0  \n",
      "py-lief                   0.10.1           py38h403a769_0  \n",
      "pycodestyle               2.6.0                      py_0  \n",
      "pycosat                   0.6.3            py38h7b6447c_1  \n",
      "pycparser                 2.20                       py_2  \n",
      "pycurl                    7.43.0.5         py38h1ba5d50_0  \n",
      "pydocstyle                5.0.2                      py_0  \n",
      "pyflakes                  2.2.0                      py_0  \n",
      "pygments                  2.6.1                      py_0  \n",
      "pylint                    2.5.3                    py38_0  \n",
      "pyodbc                    4.0.30           py38he6710b0_0  \n",
      "pyopenssl                 19.1.0                     py_1  \n",
      "pyparsing                 2.4.7                      py_0  \n",
      "pyqt                      5.9.2            py38h05f1152_4  \n",
      "pyrsistent                0.16.0           py38h7b6447c_0  \n",
      "pysocks                   1.7.1                    py38_0  \n",
      "pytables                  3.6.1            py38h9fd0a39_0  \n",
      "pytest                    5.4.3                    py38_0  \n",
      "python                    3.8.3                hcff3b4d_2  \n",
      "python-dateutil           2.8.1                      py_0  \n",
      "python-jsonrpc-server     0.3.4                      py_1  \n",
      "python-language-server    0.34.1                   py38_0  \n",
      "python-libarchive-c       2.9                        py_0  \n",
      "python_abi                3.8                      1_cp38    conda-forge\n",
      "pytz                      2020.1                     py_0  \n",
      "pywavelets                1.1.1            py38h7b6447c_0  \n",
      "pyxdg                     0.26                       py_0  \n",
      "pyyaml                    5.3.1            py38h7b6447c_1  \n",
      "pyzmq                     19.0.1           py38he6710b0_1  \n",
      "qdarkstyle                2.8.1                      py_0  \n",
      "qt                        5.9.7                h5867ecd_1  \n",
      "qtawesome                 0.7.2                      py_0  \n",
      "qtconsole                 4.7.5                      py_0  \n",
      "qtpy                      1.9.0                      py_0  \n",
      "readline                  8.0                  h7b6447c_0  \n",
      "regex                     2020.6.8         py38h7b6447c_0  \n",
      "requests                  2.24.0                     py_0  \n",
      "ripgrep                   11.0.2               he32d670_0  \n",
      "rope                      0.17.0                     py_0  \n",
      "rtree                     0.9.4                    py38_1  \n",
      "ruamel_yaml               0.15.87          py38h7b6447c_1  \n",
      "scikit-image              0.16.2           py38h0573a6f_0  \n",
      "scikit-learn              0.23.1           py38h423224d_0  \n",
      "scipy                     1.5.0            py38h0b6359f_0  \n",
      "seaborn                   0.10.1                     py_0  \n",
      "secretstorage             3.1.2                    py38_0  \n",
      "send2trash                1.5.0                    py38_0  \n",
      "setuptools                49.2.0                   py38_0  \n",
      "simplegeneric             0.8.1                    py38_2  \n",
      "singledispatch            3.4.0.3                  py38_0  \n",
      "sip                       4.19.13          py38he6710b0_0  \n",
      "six                       1.15.0                     py_0  \n",
      "snappy                    1.1.8                he6710b0_0  \n",
      "snowballstemmer           2.0.0                      py_0  \n",
      "sortedcollections         1.2.1                      py_0  \n",
      "sortedcontainers          2.2.2                      py_0  \n",
      "soupsieve                 2.0.1                      py_0  \n",
      "sphinx                    3.1.2                      py_0  \n",
      "sphinxcontrib             1.0                      py38_1  \n",
      "sphinxcontrib-applehelp   1.0.2                      py_0  \n",
      "sphinxcontrib-devhelp     1.0.2                      py_0  \n",
      "sphinxcontrib-htmlhelp    1.0.3                      py_0  \n",
      "sphinxcontrib-jsmath      1.0.1                      py_0  \n",
      "sphinxcontrib-qthelp      1.0.3                      py_0  \n",
      "sphinxcontrib-serializinghtml 1.1.4                      py_0  \n",
      "sphinxcontrib-websupport  1.2.3                      py_0  \n",
      "spyder                    4.1.4                    py38_0  \n",
      "spyder-kernels            1.9.2                    py38_0  \n",
      "sqlalchemy                1.3.18           py38h7b6447c_0  \n",
      "sqlite                    3.32.3               h62c20be_0  \n",
      "statsmodels               0.11.1           py38h7b6447c_0  \n",
      "sympy                     1.6.1                    py38_0  \n",
      "tbb                       2020.0               hfd86e86_0  \n",
      "tblib                     1.6.0                      py_0  \n",
      "terminado                 0.8.3                    py38_0  \n",
      "testpath                  0.4.4                      py_0  \n",
      "threadpoolctl             2.1.0              pyh5ca1d4c_0  \n",
      "tk                        8.6.10               hbc83047_0  \n",
      "toml                      0.10.1                     py_0  \n",
      "toolz                     0.10.0                     py_0  \n",
      "tornado                   6.0.4            py38h7b6447c_1  \n",
      "tqdm                      4.47.0                     py_0  \n",
      "traitlets                 4.3.3                    py38_0  \n",
      "typing_extensions         3.7.4.2                    py_0  \n",
      "ujson                     1.35             py38h7b6447c_0  \n",
      "unicodecsv                0.14.1                   py38_0  \n",
      "unixodbc                  2.3.7                h14c3975_0  \n",
      "urllib3                   1.25.9                     py_0  \n",
      "watchdog                  0.10.3                   py38_0  \n",
      "wcwidth                   0.2.5                      py_0  \n",
      "webencodings              0.5.1                    py38_1  \n",
      "werkzeug                  1.0.1                      py_0  \n",
      "wheel                     0.34.2                   py38_0  \n",
      "widgetsnbextension        3.5.1                    py38_0  \n",
      "wrapt                     1.11.2           py38h7b6447c_0  \n",
      "wurlitzer                 2.0.1                    py38_0  \n",
      "xlrd                      1.2.0                      py_0  \n",
      "xlsxwriter                1.2.9                      py_0  \n",
      "xlwt                      1.3.0                    py38_0  \n",
      "xmltodict                 0.12.0                     py_0  \n",
      "xz                        5.2.5                h7b6447c_0  \n",
      "yaml                      0.2.5                h7b6447c_0  \n",
      "yapf                      0.30.0                     py_0  \n",
      "zeromq                    4.3.2                he6710b0_2  \n",
      "zict                      2.0.0                      py_0  \n",
      "zipp                      3.1.0                      py_0  \n",
      "zlib                      1.2.11               h7b6447c_3  \n",
      "zope                      1.0                      py38_1  \n",
      "zope.event                4.4                      py38_0  \n",
      "zope.interface            4.7.1            py38h7b6447c_0  \n",
      "zstd                      1.4.5                h0b5b093_0  \n"
     ]
    }
   ],
   "source": [
    "%%bash\n",
    "conda list"
   ]
  },
  {
   "cell_type": "markdown",
   "metadata": {},
   "source": [
    "<font size=\"3\">in a cell of a JupyterNotebook where \"%%bash\" tells the interpreter to treat the following lines not as Python code but as bash script normally used on the command-line prompt of a Linux system.<br><br>\n",
    "<b>To install a new module in your current Python environment, use then</font>"
   ]
  },
  {
   "cell_type": "code",
   "execution_count": 3,
   "metadata": {},
   "outputs": [
    {
     "name": "stdout",
     "output_type": "stream",
     "text": [
      "Collecting package metadata (current_repodata.json): ...working... done\n",
      "Solving environment: ...working... done\n",
      "\n",
      "## Package Plan ##\n",
      "\n",
      "  environment location: /home/wildef/anaconda3\n",
      "\n",
      "  added / updated specs:\n",
      "    - seaborn\n",
      "\n",
      "\n",
      "The following packages will be downloaded:\n",
      "\n",
      "    package                    |            build\n",
      "    ---------------------------|-----------------\n",
      "    conda-4.10.3               |   py38h06a4308_0         2.9 MB\n",
      "    ------------------------------------------------------------\n",
      "                                           Total:         2.9 MB\n",
      "\n",
      "The following packages will be UPDATED:\n",
      "\n",
      "  conda              conda-forge::conda-4.9.0-py38h924ce5b~ --> pkgs/main::conda-4.10.3-py38h06a4308_0\n",
      "\n",
      "\n",
      "Proceed ([y]/n)? \n",
      "\n",
      "Downloading and Extracting Packages\n",
      "\r",
      "conda-4.10.3         | 2.9 MB    |            |   0% \r",
      "conda-4.10.3         | 2.9 MB    | 3          |   4% \r",
      "conda-4.10.3         | 2.9 MB    | ####3      |  44% \r",
      "conda-4.10.3         | 2.9 MB    | ########6  |  86% \r",
      "conda-4.10.3         | 2.9 MB    | ########## | 100% \n",
      "Preparing transaction: ...working... done\n",
      "Verifying transaction: ...working... done\n",
      "Executing transaction: ...working... done\n"
     ]
    }
   ],
   "source": [
    "%%bash\n",
    "conda install seaborn"
   ]
  },
  {
   "cell_type": "markdown",
   "metadata": {},
   "source": [
    "<font size=\"3\">A Python environment in this case can have different modules and module versions installed. In order to not create a mess using conflicting versions of Python modules or imagine your code only works with specific versions of Python modules, you can create and use different Python environments.<br><br>\n",
    "    <b>You can list the currently existing environments using</b></font>"
   ]
  },
  {
   "cell_type": "code",
   "execution_count": 4,
   "metadata": {},
   "outputs": [
    {
     "name": "stdout",
     "output_type": "stream",
     "text": [
      "# conda environments:\n",
      "#\n",
      "base                  *  /home/wildef/anaconda3\n",
      "\n"
     ]
    }
   ],
   "source": [
    "%%bash\n",
    "conda env list"
   ]
  },
  {
   "cell_type": "markdown",
   "metadata": {},
   "source": [
    "<font size=\"3\"><b>You can create a new (empty) environment using</b></font>"
   ]
  },
  {
   "cell_type": "code",
   "execution_count": 5,
   "metadata": {},
   "outputs": [
    {
     "name": "stdout",
     "output_type": "stream",
     "text": [
      "Collecting package metadata (current_repodata.json): ...working... done\n",
      "Solving environment: ...working... done\n",
      "\n",
      "## Package Plan ##\n",
      "\n",
      "  environment location: /home/wildef/anaconda3/envs/new_env\n",
      "\n",
      "\n",
      "\n",
      "Proceed ([y]/n)? \n",
      "Preparing transaction: ...working... done\n",
      "Verifying transaction: ...working... done\n",
      "Executing transaction: ...working... done\n",
      "#\n",
      "# To activate this environment, use\n",
      "#\n",
      "#     $ conda activate new_env\n",
      "#\n",
      "# To deactivate an active environment, use\n",
      "#\n",
      "#     $ conda deactivate\n",
      "\n"
     ]
    }
   ],
   "source": [
    "%%bash\n",
    "conda create --name new_env"
   ]
  },
  {
   "cell_type": "markdown",
   "metadata": {},
   "source": [
    "<font size=\"3\"><b>You can switch to a specific environment using</b></font>"
   ]
  },
  {
   "cell_type": "code",
   "execution_count": 14,
   "metadata": {},
   "outputs": [
    {
     "name": "stdout",
     "output_type": "stream",
     "text": [
      "no change     /home/wildef/anaconda3/condabin/conda\n",
      "no change     /home/wildef/anaconda3/bin/conda\n",
      "no change     /home/wildef/anaconda3/bin/conda-env\n",
      "no change     /home/wildef/anaconda3/bin/activate\n",
      "no change     /home/wildef/anaconda3/bin/deactivate\n",
      "no change     /home/wildef/anaconda3/etc/profile.d/conda.sh\n",
      "no change     /home/wildef/anaconda3/etc/fish/conf.d/conda.fish\n",
      "no change     /home/wildef/anaconda3/shell/condabin/Conda.psm1\n",
      "no change     /home/wildef/anaconda3/shell/condabin/conda-hook.ps1\n",
      "no change     /home/wildef/anaconda3/lib/python3.8/site-packages/xontrib/conda.xsh\n",
      "no change     /home/wildef/anaconda3/etc/profile.d/conda.csh\n",
      "no change     /home/wildef/.bashrc\n",
      "No action taken.\n"
     ]
    }
   ],
   "source": [
    "%%bash\n",
    "conda activate new_env"
   ]
  },
  {
   "cell_type": "markdown",
   "metadata": {},
   "source": [
    "<font size=\"3\"><b>And check on the actual activated environment using</b></font>"
   ]
  },
  {
   "cell_type": "code",
   "execution_count": 15,
   "metadata": {
    "scrolled": true
   },
   "outputs": [
    {
     "name": "stdout",
     "output_type": "stream",
     "text": [
      "\n",
      "     active environment : base\n",
      "    active env location : /home/wildef/anaconda3\n",
      "            shell level : 1\n",
      "       user config file : /home/wildef/.condarc\n",
      " populated config files : /home/wildef/.condarc\n",
      "          conda version : 4.10.3\n",
      "    conda-build version : 3.18.11\n",
      "         python version : 3.8.3.final.0\n",
      "       virtual packages : __linux=5.8.0=0\n",
      "                          __glibc=2.32=0\n",
      "                          __unix=0=0\n",
      "                          __archspec=1=x86_64\n",
      "       base environment : /home/wildef/anaconda3  (writable)\n",
      "      conda av data dir : /home/wildef/anaconda3/etc/conda\n",
      "  conda av metadata url : None\n",
      "           channel URLs : https://repo.anaconda.com/pkgs/main/linux-64\n",
      "                          https://repo.anaconda.com/pkgs/main/noarch\n",
      "                          https://repo.anaconda.com/pkgs/r/linux-64\n",
      "                          https://repo.anaconda.com/pkgs/r/noarch\n",
      "          package cache : /home/wildef/anaconda3/pkgs\n",
      "                          /home/wildef/.conda/pkgs\n",
      "       envs directories : /home/wildef/anaconda3/envs\n",
      "                          /home/wildef/.conda/envs\n",
      "               platform : linux-64\n",
      "             user-agent : conda/4.10.3 requests/2.24.0 CPython/3.8.3 Linux/5.8.0-63-generic ubuntu/20.10 glibc/2.32\n",
      "                UID:GID : 1000:1000\n",
      "             netrc file : None\n",
      "           offline mode : False\n",
      "\n"
     ]
    }
   ],
   "source": [
    "%%bash\n",
    "conda info"
   ]
  },
  {
   "cell_type": "markdown",
   "metadata": {},
   "source": [
    "<font size=\"3\"><div class=\"alert alert-warning\"><b>Exercise 2:</b><br>Install the modules seaborn and statsmodels either using the command-line prompt in a console or here in the JupyterNotebook by using \"%%bash\" first. Check if numpy and pandas are installed.\n",
    "</div>\n",
    "    "
   ]
  },
  {
   "cell_type": "markdown",
   "metadata": {},
   "source": [
    "### Try it yourself:"
   ]
  },
  {
   "cell_type": "code",
   "execution_count": null,
   "metadata": {},
   "outputs": [],
   "source": []
  },
  {
   "cell_type": "markdown",
   "metadata": {},
   "source": [
    "## A short introduction to Numpy\n",
    "\n",
    "<br>\n",
    "<font size=\"3\">Often, you don't want or you can't define a list manually with your data. Instead you have a file e.g. a CSV file with comma-separated values and you need to convert the content yourself to a table-like datastructure. In this example, we have the famous <a href=\"https://en.wikipedia.org/wiki/Iris_flower_data_set\">Iris dataset</a> (in this case a very popular standard data set in data science). This file could looks like this:</font>"
   ]
  },
  {
   "cell_type": "code",
   "execution_count": 21,
   "metadata": {},
   "outputs": [
    {
     "name": "stdout",
     "output_type": "stream",
     "text": [
      "sepal_length,sepal_width,petal_length,petal_width,species\n",
      "5.1,3.5,1.4,0.2,setosa\n",
      "4.9,3.0,1.4,0.2,setosa\n",
      "4.7,3.2,1.3,0.2,setosa\n",
      "4.6,3.1,1.5,0.2,setosa\n",
      "5.0,3.6,1.4,0.2,setosa\n",
      "5.4,3.9,1.7,0.4,setosa\n",
      "4.6,3.4,1.4,0.3,setosa\n",
      "5.0,3.4,1.5,0.2,setosa\n",
      "4.4,2.9,1.4,0.2,setosa\n",
      "4.9,3.1,1.5,0.1,setosa\n",
      "5.4,3.7,1.5,0.2,setosa\n",
      "4.8,3.4,1.6,0.2,setosa\n",
      "4.8,3.0,1.4,0.1,setosa\n",
      "4.3,3.0,1.1,0.1,setosa\n",
      "5.8,4.0,1.2,0.2,setosa\n",
      "5.7,4.4,1.5,0.4,setosa\n",
      "5.4,3.9,1.3,0.4,setosa\n",
      "5.1,3.5,1.4,0.3,setosa\n",
      "5.7,3.8,1.7,0.3,setosa\n",
      "5.1,3.8,1.5,0.3,setosa\n",
      "5.4,3.4,1.7,0.2,setosa\n",
      "5.1,3.7,1.5,0.4,setosa\n",
      "4.6,3.6,1.0,0.2,setosa\n",
      "5.1,3.3,1.7,0.5,setosa\n"
     ]
    }
   ],
   "source": [
    "%%bash\n",
    "head -n 25 data/iris.csv"
   ]
  },
  {
   "cell_type": "markdown",
   "metadata": {},
   "source": [
    "<font size=\"3\">which gives you the first 25 lines of the file here.<br><br>\n",
    "Of course, we could now manually readin the file line by line, but then we would need to process the strings and convert them to a table-like data structure. <b>Luckily, there are already functions in the 3rd party libraries <a href=\"https://numpy.org/\"><i>numpy</i></a> and <a href=\"https://pandas.pydata.org/\"><i>pandas</i></a> that solve this problem.</b><br><br>\n",
    "    <b>Recently, a <a href=\"https://www.nature.com/articles/s41586-020-2649-2\">paper</a> about the numpy Python package was published in <i>nature</i>.</b><br><br>\n",
    "        <div align=\"center\">\n",
    "<img src=\"img/numpy_nature.webp\" width=\"100%\">\n",
    "        </div>\n",
    "<font size=\"2\"><i>Source: <a href=\"https://www.nature.com/articles/s41586-020-2649-2\">https://www.nature.com/articles/s41586-020-2649-2</a></i></font>\n",
    "<br><br>\n",
    "<b>Numpy</b> is a powerful 3rd party package offering the new data type of the <b><i>numpy array</i></b> (numpy.ndarray) with a more powerful and faster implementation in C++ in the background. In contrast to lists in Python, <b>the size of a numpy array cannot be changed and the best practice is to allocate space in advance by initializing an empty array (e.g. filled with zeros)</b>. Also, the data type of its elements shouldn't differ and the number of elements in each row or column has to be the same, since <b>the numpy array represents a N x M matrix.<br><br>\n",
    "<b>To sum it up, a numpy array behaves like a \"classic\" array in other high-level programming languages due to it's precompiled C++ implementation in the background.</b><br>\n",
    "</font>"
   ]
  },
  {
   "cell_type": "markdown",
   "metadata": {},
   "source": [
    "<font size=\"3\">For using Numpy, you have to import the package once. Since you will in the following often have to refer to numpy, we assign an alias that is faster to type (np):</font>"
   ]
  },
  {
   "cell_type": "code",
   "execution_count": 27,
   "metadata": {},
   "outputs": [],
   "source": [
    "# import numpy with alias np\n",
    "import numpy as np"
   ]
  },
  {
   "cell_type": "markdown",
   "metadata": {},
   "source": [
    "### NumPy Array\n",
    "\n",
    "<br>\n",
    "<font size=\"3\">A NumPy Array can have many dimensions. Let's start with one (similar to a Python list) and two dimensions (similar to a matrix):</font>"
   ]
  },
  {
   "cell_type": "code",
   "execution_count": 24,
   "metadata": {},
   "outputs": [
    {
     "name": "stdout",
     "output_type": "stream",
     "text": [
      "type(arr1) = <class 'numpy.ndarray'>\n",
      "arr1 = [1.    2.35  3.141]\n",
      "type(arr2) = <class 'numpy.ndarray'>\n",
      "arr2 = \n",
      "[[0. 0. 0.]\n",
      " [0. 0. 0.]\n",
      " [0. 0. 0.]]\n",
      "type(arr2) = <class 'numpy.ndarray'>\n",
      "arr2 = \n",
      "[[1. 0. 0.]\n",
      " [0. 2. 0.]\n",
      " [0. 0. 3.]]\n",
      "arr2.size = 9\n",
      "arr2.shape = (3, 3)\n"
     ]
    }
   ],
   "source": [
    "# create a numpy array from a list\n",
    "arr1 = np.array([1.0,2.35,3.141])\n",
    "print(\"type(arr1) = \"+str(type(arr1)))\n",
    "print(\"arr1 = \"+str(arr1))\n",
    "\n",
    "# create an 2D array / a 3x3 matrix filled with zeros\n",
    "arr2 = np.zeros((3,3))\n",
    "print(\"type(arr2) = \"+str(type(arr2)))\n",
    "print(\"arr2 = \\n\"+str(arr2))\n",
    "\n",
    "# index an array element in a multi-dimensional array\n",
    "arr2[0,0] = 1\n",
    "arr2[1,1] = 2\n",
    "arr2[2,2] = 3\n",
    "print(\"type(arr2) = \"+str(type(arr2)))\n",
    "print(\"arr2 = \\n\"+str(arr2))\n",
    "\n",
    "# using the attribute \"size\" of the numpy array is more reliable than using the len() function\n",
    "# the attribute \"shape\" contains a tuple with the array or matrix dimensions\n",
    "print(\"arr2.size = \"+str(arr2.size))\n",
    "print(\"arr2.shape = \"+str(arr2.shape))"
   ]
  },
  {
   "cell_type": "markdown",
   "metadata": {},
   "source": [
    "<font size=\"3\"><b>Sometimes you want or need to change the shape of your numpy array using the reshape method:</b></font>"
   ]
  },
  {
   "cell_type": "code",
   "execution_count": 40,
   "metadata": {},
   "outputs": [
    {
     "name": "stdout",
     "output_type": "stream",
     "text": [
      "content of arr3:\n",
      "[[2 3]\n",
      " [3 5]\n",
      " [6 4]]\n",
      "shape of arr3:\n",
      "(3, 2)\n",
      "transposed array (rows and columns interchanged):\n",
      "[[2 3 6]\n",
      " [3 5 4]]\n",
      "shape of the transposed arr3:\n",
      "(2, 3)\n"
     ]
    }
   ],
   "source": [
    "# defines a numpy array with row number unequal column number\n",
    "arr3 = np.array([[2,3],[3,5],[6,4]])\n",
    "print(\"content of arr3:\")\n",
    "print(arr3)\n",
    "\n",
    "# prints the shape (number of rows, number of columns)\n",
    "print(\"shape of arr3:\")\n",
    "print(arr3.shape)\n",
    "\n",
    "# transposes the array / matrix\n",
    "arr3 = arr3.T\n",
    "print(\"transposed array (rows and columns interchanged):\")\n",
    "print(arr3)\n",
    "\n",
    "# prints the shape of the transposed array\n",
    "print(\"shape of the transposed arr3:\")\n",
    "print(arr3.shape)\n",
    "\n",
    "# the same result could be achieved using the reshape method expecting a tuple \n",
    "# (total number of elements needs to be the same!)\n",
    "arr3 = arr3.reshape(2,3)"
   ]
  },
  {
   "cell_type": "markdown",
   "metadata": {},
   "source": [
    "<font size=\"3\"><b>Often you would like to perform computations over an entire row or column of your array (hence your dataset) for some statistical evaluation, like:\n",
    "    </b></font>"
   ]
  },
  {
   "cell_type": "code",
   "execution_count": 46,
   "metadata": {},
   "outputs": [
    {
     "name": "stdout",
     "output_type": "stream",
     "text": [
      "random number array:\n",
      "[[ 9.28448923e-01  2.85962210e+00 -2.45073732e+00  1.33347433e+00\n",
      "   4.31950678e+00  9.82334027e-01 -2.97495743e-01  9.14464039e-01]\n",
      " [-1.86923312e+00 -1.32014197e+00  1.81377284e+00  2.80493995e-01\n",
      "  -9.89007138e-01 -1.22437967e+00  1.58067586e+00 -2.58631262e+00]\n",
      " [-1.03499593e+00  2.03755424e+00  1.18882847e+00  2.39997078e+00\n",
      "  -1.29893034e+00 -6.30375524e-01  1.37171947e+00  1.78241202e+00]\n",
      " [-4.56039865e+00  5.33393912e-01  1.27150454e+00 -6.57348102e+00\n",
      "   4.23563924e+00  2.99069247e+00 -1.96488104e+00 -4.80135112e-01]\n",
      " [ 2.37416551e+00 -2.89236851e+00 -5.47833901e-03  9.50131637e-01\n",
      "  -4.60499477e+00  7.20476133e-02 -2.42346572e+00  1.64157417e+00]\n",
      " [-1.24271935e+00  2.81094520e-01  1.12459809e+00 -2.39983129e+00\n",
      "   7.50737387e-01  1.53934025e+00  1.06593859e+00 -4.01712866e-01]]\n",
      "row_sum = [-5.40473262  1.49915428  2.94248828 -4.00924156  2.41295116  3.72965916\n",
      " -0.66750858  0.87028963]\n",
      "col_sum = [ 8.58961713 -4.31413183  5.81618319 -4.54766566 -4.88838842  0.71744533]\n",
      "row_prod = [-5.40473262  1.49915428  2.94248828 -4.00924156  2.41295116  3.72965916\n",
      " -0.66750858  0.87028963]\n",
      "col_prod = [ 8.58961713 -4.31413183  5.81618319 -4.54766566 -4.88838842  0.71744533]\n"
     ]
    }
   ],
   "source": [
    "# generates a 2D matrix of random floating-point numbers\n",
    "arr = np.random.normal(0,2,size=(6,8))\n",
    "print(\"random number array:\")\n",
    "print(arr)\n",
    "\n",
    "# sums all values in each row\n",
    "row_sum = np.sum(arr, axis=0)\n",
    "print(\"row_sum = \"+str(row_sum))\n",
    "\n",
    "# sums all values in each column\n",
    "col_sum = np.sum(arr, axis=1)\n",
    "print(\"col_sum = \"+str(col_sum))\n",
    "\n",
    "# multiplies all values in each row\n",
    "row_prod = np.sum(arr, axis=0)\n",
    "print(\"row_prod = \"+str(row_prod))\n",
    "\n",
    "# multiplies all values in each column\n",
    "col_prod = np.sum(arr, axis=1)\n",
    "print(\"col_prod = \"+str(col_prod))"
   ]
  },
  {
   "cell_type": "markdown",
   "metadata": {},
   "source": [
    "<font size=\"3\"><b>Of course, you can also do elementwise manipulations and matrix multiplications (that was one of the original purposes of numpy):</b></font>"
   ]
  },
  {
   "cell_type": "code",
   "execution_count": 67,
   "metadata": {},
   "outputs": [
    {
     "name": "stdout",
     "output_type": "stream",
     "text": [
      "arr:\n",
      "[1 2 3 4]\n",
      "result of arr * 3.141:\n",
      "[ 3.141  6.282  9.423 12.564]\n",
      "arr2:\n",
      "[5 6 0 1]\n",
      "result of arr * arr2:\n",
      "[ 5 12  0  4]\n",
      "result of arr (dot) arr2:\n",
      "21\n",
      "arr:\n",
      "[[1 2]\n",
      " [5 6]\n",
      " [4 2]]\n",
      "arr2:\n",
      "[[5 6 7]\n",
      " [2 3 2]]\n",
      "result of matmul(arr,arr2):\n",
      "[[ 9 12 11]\n",
      " [37 48 47]\n",
      " [24 30 32]]\n"
     ]
    }
   ],
   "source": [
    "arr = np.array([1,2,3,4])\n",
    "print(\"arr:\")\n",
    "print(arr)\n",
    "\n",
    "# e.g multiply each element with value\n",
    "print(\"result of arr * 3.141:\")\n",
    "print(arr * 3.141)\n",
    "\n",
    "# compute the products of two arrays element-wise\n",
    "arr2 = np.array([5,6,0,1])\n",
    "print(\"arr2:\")\n",
    "print(arr2)\n",
    "result = arr * arr2\n",
    "print(\"result of arr * arr2:\")\n",
    "print(result)\n",
    "\n",
    "# compute the dot or scalar product of two vectors\n",
    "result = np.dot(arr, arr2)\n",
    "print(\"result of arr (dot) arr2:\")\n",
    "print(result)\n",
    "\n",
    "# more general, compute the product of two matrices\n",
    "arr = np.array([[1,2],[5,6],[4,2]])\n",
    "arr2 = np.array([[5,6,7],[2,3,2]])\n",
    "print(\"arr:\")\n",
    "print(arr)\n",
    "print(\"arr2:\")\n",
    "print(arr2)\n",
    "result = np.matmul(arr, arr2)\n",
    "print(\"result of matmul(arr,arr2):\")\n",
    "print(result)"
   ]
  },
  {
   "cell_type": "markdown",
   "metadata": {},
   "source": [
    "<font size=\"3\"><b>Now back to our CSV file, we can read-in the file using <a href=\"https://numpy.org/doc/stable/reference/generated/numpy.genfromtxt.html\">numpy.genfromtxt</a></b></font>"
   ]
  },
  {
   "cell_type": "code",
   "execution_count": 25,
   "metadata": {},
   "outputs": [
    {
     "name": "stdout",
     "output_type": "stream",
     "text": [
      "type(iris_data) = <class 'numpy.ndarray'>\n",
      "iris_data[:20] = [(5.1, 3.5, 1.4, 0.2, nan) (4.9, 3. , 1.4, 0.2, nan)\n",
      " (4.7, 3.2, 1.3, 0.2, nan) (4.6, 3.1, 1.5, 0.2, nan)\n",
      " (5. , 3.6, 1.4, 0.2, nan) (5.4, 3.9, 1.7, 0.4, nan)\n",
      " (4.6, 3.4, 1.4, 0.3, nan) (5. , 3.4, 1.5, 0.2, nan)\n",
      " (4.4, 2.9, 1.4, 0.2, nan) (4.9, 3.1, 1.5, 0.1, nan)\n",
      " (5.4, 3.7, 1.5, 0.2, nan) (4.8, 3.4, 1.6, 0.2, nan)\n",
      " (4.8, 3. , 1.4, 0.1, nan) (4.3, 3. , 1.1, 0.1, nan)\n",
      " (5.8, 4. , 1.2, 0.2, nan) (5.7, 4.4, 1.5, 0.4, nan)\n",
      " (5.4, 3.9, 1.3, 0.4, nan) (5.1, 3.5, 1.4, 0.3, nan)\n",
      " (5.7, 3.8, 1.7, 0.3, nan) (5.1, 3.8, 1.5, 0.3, nan)]\n",
      "iris_data.dtype = \n",
      "[('sepal_length', '<f8'), ('sepal_width', '<f8'), ('petal_length', '<f8'), ('petal_width', '<f8'), ('species', '<f8')]\n"
     ]
    }
   ],
   "source": [
    "# load data file and convert it to (named) numpy array\n",
    "iris_data = np.genfromtxt(\"data/iris.csv\", names=True, delimiter=\",\")\n",
    "# output just the first 20 rows\n",
    "print(\"type(iris_data) = \"+str(type(iris_data)))\n",
    "print(\"iris_data[:20] = \"+str(iris_data[:20]))\n",
    "#print the guess data types for the columns of the table\n",
    "print(\"iris_data.dtype = \\n\"+str(iris_data.dtype))"
   ]
  },
  {
   "cell_type": "markdown",
   "metadata": {},
   "source": [
    "<font size=\"3\"><b>Obviously, the numpy function couldn't properly guess the data type of the last column (just returning a <i>NaN</i> (not an number). But we can correct that:</b></font>"
   ]
  },
  {
   "cell_type": "code",
   "execution_count": null,
   "metadata": {},
   "outputs": [],
   "source": [
    "# load data file again with defined data types and column names and convert it to (named) numpy array\n",
    "iris_data = np.genfromtxt(\"data/iris.csv\", names=True, dtype=[('sepal_length', '<f8'), ('sepal_width', '<f8'),\\\n",
    "                                                              ('petal_length', '<f8'), ('petal_width', '<f8'),\\\n",
    "                                                              ('species', '<S8')], delimiter=\",\")\n",
    "print(\"iris_data[:20] = \"+str(iris_data[:20]))\n",
    "#print the guess data types for the columns of the table\n",
    "print(\"iris_data.dtype = \\n\"+str(iris_data.dtype))\n",
    "\n",
    "# access column data with column name\n",
    "print(\"iris_data['sepal_length'] = \\n\"+str(iris_data['sepal_length'][:20]))\n",
    "\n",
    "#work with the data\n",
    "#compute mean of column\n",
    "mean = np.mean(iris_data['sepal_length'])\n",
    "#compute standard deviation of column\n",
    "std = np.std(iris_data['sepal_length'], axis=0)\n",
    "print(\"Mean of column sepal_length:\" + str(mean))\n",
    "print(\"Std of column sepal_length:\" + str(std))\n",
    "\n",
    "# round to n significant digits\n",
    "print(\"Mean of column sepal_length:\" + str(np.round(mean,3)))\n",
    "\n",
    "# or just change the number output format"
   ]
  },
  {
   "cell_type": "markdown",
   "metadata": {},
   "source": [
    "<font size=\"3\"><div class=\"alert alert-warning\"><b>Exercise 3:</b> Write a function which loads a file (<b>in this case applied to <i>data/glass.csv<i></b>), print the shape of the resulting array, print the first N rows (adjustable via a function argument), compute and return the means and standard deviations for the data columns and print the results (adjustable via a parameter). The result of <b>numpy.genfromtxt is different in this case since glass.csv does not contain mixed data types. You don't need to specify the column data types in this case.</b><br><br>\n",
    "    <b>Hint:</b> <b>Use the numpy functions <a href=\"https://numpy.org/doc/stable/reference/generated/numpy.mean.html\">np.mean</a> and <a href=\"https://numpy.org/doc/stable/reference/generated/numpy.std.html\">np.std</a></b> to compute the mean and the standard deviaton. The parameter axis allows to specifiy for which dimension/axis you'd like to perform the computation. So you don't need to use a loop.<br><br>\n",
    "If you use the keyword argument <b>names = True</b> in numpy.genfromtxt, a named array will be returned where column data can be addressed via the column name defined in the first row of the file.\n",
    "</div>\n",
    "    \n",
    "<b>Try it yourself here:</b></font>"
   ]
  },
  {
   "cell_type": "code",
   "execution_count": null,
   "metadata": {},
   "outputs": [],
   "source": []
  },
  {
   "cell_type": "markdown",
   "metadata": {},
   "source": [
    "### Example Solution:"
   ]
  },
  {
   "cell_type": "code",
   "execution_count": null,
   "metadata": {},
   "outputs": [],
   "source": [
    "import numpy as np  \n",
    "def process_file(file, n_rows = 10, print_result = True): \n",
    "    glass_data = np.genfromtxt(file, delimiter=\",\", skip_header=1) \n",
    "    print(glass_data[:n_rows,:]) \n",
    "    means = np.mean(glass_data, axis = 0) \n",
    "    stds = np.std(glass_data, axis = 0) \n",
    "    if print_result: \n",
    "        print(\"means:\"+str(means)) \n",
    "        print(\"stds:\"+str(stds)) \n",
    "    return means, stds\n",
    "means, stds=process_file(\"data/glass.csv\", n_rows = 10, print_result = True)"
   ]
  },
  {
   "cell_type": "markdown",
   "metadata": {},
   "source": [
    "## Directory Batch Processing\n",
    "<br>\n",
    "<font size=\"3\">\n",
    "Very often, you not only need to load a single file, but a whole set of files located in one or more directories. Luckily, Python also offers builtin solutions for this problem. A directory can be traversed (also recursively) to yield a list of files to be processed in your Python script.<br><br>\n",
    "    <b>The most simple solution is offered by the builtin library <i>os</i> with <i>os.walk</i>.</b>.\n",
    "</font>\n",
    "\n",
    "### Examples:"
   ]
  },
  {
   "cell_type": "code",
   "execution_count": null,
   "metadata": {},
   "outputs": [],
   "source": [
    "# imports the required module\n",
    "import os\n",
    "\n",
    "def walk_through_files(path, file_extension='.txt'):\n",
    "   for (dirpath, dirnames, filenames) in os.walk(path):\n",
    "      for filename in filenames:\n",
    "         if filename.endswith(file_extension): \n",
    "            # yield keyword instead of return defines a generator instead of a regular function\n",
    "            yield os.path.join(dirpath, filename)\n",
    "\n",
    "# that's why we iterate over walk_through_files instead of calling it\n",
    "for fname in walk_through_files(\"data/batch/\"):\n",
    "    print(fname)\n",
    "# force the generator to return a list with the results\n",
    "print(list(walk_through_files(\"data/batch/\")))"
   ]
  },
  {
   "cell_type": "markdown",
   "metadata": {},
   "source": [
    "<font size=\"3\"><div class=\"alert alert-warning\"><b>Exercise 4:</b> Write a function to traverse the path data/batch/, read the found files and concatenate their content to one string separated by spaces.\n",
    "<br><br>\n",
    "<b>Hint:</b> Use np.loadtxt to load the files\n",
    "</div>\n",
    "    \n",
    "<b>Try it yourself here:</b></font>"
   ]
  },
  {
   "cell_type": "code",
   "execution_count": null,
   "metadata": {},
   "outputs": [],
   "source": []
  },
  {
   "cell_type": "markdown",
   "metadata": {},
   "source": [
    "### Example Solution:"
   ]
  },
  {
   "cell_type": "code",
   "execution_count": null,
   "metadata": {},
   "outputs": [],
   "source": [
    "# iterate over files\n",
    "buffer = []\n",
    "for fname in walk_through_files(\"data/batch/\"):\n",
    "    # open file\n",
    "    f = open(fname, \"r\")\n",
    "    # read file content\n",
    "    buffer.extend(f.readlines())\n",
    "print(\"Result:\"+\" \".join(buffer))"
   ]
  },
  {
   "cell_type": "markdown",
   "metadata": {},
   "source": [
    "## Visualizing Data with Matplotlib\n",
    "<br>\n",
    "<font size=\"3\">\n",
    "    <b>One picture can say more than 1000 words:</b> Visualizing your data is probably the most important aspect in your daily work routine. <a href=\"https://matplotlib.org/\">Matplotlib</a> is the most common Python package for data visualization offering a multitude of different plot types and options to tailor the plots according to your needs. Even Latex can be used to obtain nice looking plot titles, axes labels and annotations.<br><br>\n",
    "    <a href=\"https://matplotlib.org/gallery/index.html\">See a plot gallery here</a> of all the possibilities and functions matplotlib offers out-of-the-box.\n",
    "</font>\n",
    "\n",
    "### Example 1:"
   ]
  },
  {
   "cell_type": "markdown",
   "metadata": {},
   "source": [
    "<font size=\"3\">First you need to import the pyplot function from matplotlib using</font>"
   ]
  },
  {
   "cell_type": "code",
   "execution_count": 68,
   "metadata": {},
   "outputs": [],
   "source": [
    "import matplotlib.pyplot as plt"
   ]
  },
  {
   "cell_type": "markdown",
   "metadata": {},
   "source": [
    "<font size=\"3\">Then we plot a simple sine:</font>"
   ]
  },
  {
   "cell_type": "code",
   "execution_count": 69,
   "metadata": {
    "scrolled": true
   },
   "outputs": [
    {
     "data": {
      "image/png": "[encoded data removed]",
      "text/plain": [
       "<Figure size 432x288 with 1 Axes>"
      ]
     },
     "metadata": {
      "needs_background": "light"
     },
     "output_type": "display_data"
    }
   ],
   "source": [
    "# array [0, .01, .02, ..., 2*3.14]\n",
    "x = np.arange(start = 0, stop = 2 * np.pi, step = 0.01) \n",
    "# applies sine elementwise\n",
    "y = np.sin(x) \n",
    "plt.plot(x, y)\n",
    "# semicolon suppresses output of last line in cell\n",
    "plt.title(\"Sine Wave\"); "
   ]
  },
  {
   "cell_type": "markdown",
   "metadata": {},
   "source": [
    "### Example 2:"
   ]
  },
  {
   "cell_type": "code",
   "execution_count": 70,
   "metadata": {},
   "outputs": [
    {
     "name": "stdout",
     "output_type": "stream",
     "text": [
      "[[[ 35 188  36]\n",
      "  [ 78 165  37]]\n",
      "\n",
      " [[100 100 154]\n",
      "  [188  26 193]]]\n"
     ]
    },
    {
     "data": {
      "image/png": "[encoded data removed]",
      "text/plain": [
       "<Figure size 432x288 with 1 Axes>"
      ]
     },
     "metadata": {
      "needs_background": "light"
     },
     "output_type": "display_data"
    }
   ],
   "source": [
    "Img = np.random.randint(low=0, high=255, size=(2, 2, 3), dtype='B') # B: unsigned byte (0..255)\n",
    "print(Img) # Img is a three-dim array\n",
    "plt.imshow(Img); # third dimension interpreted as red, green, blue\n",
    "# image coordinates are numbered as in matrices, first rows (top to bottom) then columns (left to right)"
   ]
  },
  {
   "cell_type": "markdown",
   "metadata": {},
   "source": [
    "### More complex Example 3:\n",
    "\n",
    "<br>\n",
    "<font size=\"3\">\n",
    "A more complex example demonstrating almost all capabilities to customize your plot:\n",
    "</font>"
   ]
  },
  {
   "cell_type": "code",
   "execution_count": 71,
   "metadata": {},
   "outputs": [
    {
     "data": {
      "image/png": "[encoded data removed]",
      "text/plain": [
       "<Figure size 600x450 with 1 Axes>"
      ]
     },
     "metadata": {
      "needs_background": "light"
     },
     "output_type": "display_data"
    }
   ],
   "source": [
    "# a very simple example to begin with\n",
    "import numpy as np\n",
    "from matplotlib import pyplot as plt\n",
    "\n",
    "# generate the data to plot\n",
    "omega = 1\n",
    "# yields a numpy array of N equidistant points on the given interval\n",
    "x = np.linspace(-2*np.pi, 2*np.pi, 100)\n",
    "y = np.sin(x)\n",
    "\n",
    "# here you can set the size and resolution of the plot\n",
    "#resolution in dpi = dots per inch\n",
    "# for the screen 75 to 120 dpi isfine\n",
    "# for a publication you'd need to use a higher resolution of 150 or 300 dpi\n",
    "dpi = 150\n",
    "# height in inch\n",
    "height = 3 \n",
    "# width in inch\n",
    "width = 4\n",
    "\n",
    "# initalize the new figure\n",
    "fig = plt.figure(figsize=(width, height), dpi=dpi)\n",
    "\n",
    "# Here you could specify multiple plots aside or in a matrix configurationn\n",
    "# we just want one plot in the figure, \n",
    "# thats why we set 111 = number of rows, number of columns, total num of plots\n",
    "ax = fig.add_subplot(111)\n",
    "\n",
    "# create the plot itself (a line plot connecting the points)\n",
    "# plot the sine\n",
    "ax.plot(x, y, color = \"r\", linestyle = \"--\", linewidth = 2, label = \"sine\")\n",
    "# plot a constant line at zero\n",
    "ax.plot(x, np.zeros(x.shape), color = \"black\", linestyle = \"-\", linewidth = 2, label = \"line\")\n",
    "# plot a graph\n",
    "ax.plot(x, x, color = \"blue\", linestyle = \":\", linewidth = 1, label = \"graph\")\n",
    "\n",
    "# use a grid in the background\n",
    "ax.grid(which=\"both\", color=\"gray\", linestyle=\"-.\", linewidth=0.5)\n",
    "\n",
    "# set the plot title using Latex\n",
    "# the semicolon at the end of the line is to suppress the output of the function\n",
    "# (one of the rare cases where you'd end a line of Python code with a semicolon)\n",
    "ax.set_title(\"A first plot of \" + r'$y = \\sin\\left(2 \\pi \\omega t\\right)$');\n",
    "\n",
    "# set the axes labels\n",
    "ax.set_xlabel(\"x\");\n",
    "ax.set_ylabel(r'$\\sum_{i=1}^{N} \\frac{1}{i} \\psi$');\n",
    "\n",
    "# use the plot legend\n",
    "# only works if keyword argument 'label' was given to the method plot\n",
    "ax.legend()\n",
    "\n",
    "#save the plot in a file\n",
    "fig.savefig(\"plot.png\")"
   ]
  },
  {
   "cell_type": "markdown",
   "metadata": {},
   "source": [
    "### More complex Example 2:\n",
    "\n",
    "<br>\n",
    "<font size=\"3\">A histogram plot as more complex example for a plot:</font>"
   ]
  },
  {
   "cell_type": "code",
   "execution_count": 72,
   "metadata": {
    "scrolled": true
   },
   "outputs": [
    {
     "data": {
      "image/png": "[encoded data removed]",
      "text/plain": [
       "<Figure size 600x450 with 1 Axes>"
      ]
     },
     "metadata": {
      "needs_background": "light"
     },
     "output_type": "display_data"
    }
   ],
   "source": [
    "# a very simple example to begin with\n",
    "import numpy as np\n",
    "from matplotlib import pyplot as plt\n",
    "\n",
    "# generate data to work with\n",
    "num_values = 1E3\n",
    "x = np.random.normal(0,1,int(num_values))\n",
    "\n",
    "# here you can set the size and resolution of the plot\n",
    "#resolution in dpi = dots per inch\n",
    "# for the screen 75 to 120 dpi isfine\n",
    "# for a publication you'd need to use a higher resolution of 150 or 300 dpi\n",
    "dpi = 150\n",
    "# height in inch\n",
    "height = 3 \n",
    "# width in inch\n",
    "width = 4\n",
    "\n",
    "# initalize the new figure\n",
    "fig = plt.figure(figsize=(width, height), dpi=dpi)\n",
    "\n",
    "# Here you could specify multiple plots aside or in a matrix configurationn\n",
    "# we just want one plot in the figure, \n",
    "# thats why we set 111 = number of rows, number of columns, total num of plots\n",
    "ax = fig.add_subplot(111)\n",
    "\n",
    "# plots a histogram\n",
    "h=ax.hist(x, bins=100, color=\"black\")\n",
    "ax.set_ylabel(\"count\");\n",
    "ax.set_xlabel(\"x\");\n",
    "ax.set_title(\"A simple histogram\")\n",
    "ax.grid(which=\"both\",color=\"gray\",linewidth=0.5,linestyle=\"--\")"
   ]
  },
  {
   "cell_type": "markdown",
   "metadata": {},
   "source": [
    "<font size=\"3\">For further options to customize plots, have also a look at the predefined <a href=\"https://matplotlib.org/3.1.0/gallery/color/named_colors.html\">color</a> and <a href=\"https://matplotlib.org/3.3.1/api/_as_gen/matplotlib.lines.Line2D.html#matplotlib.lines.Line2D.lineStyles\">linestyle</a> or <a href=\"https://matplotlib.org/3.3.1/api/_as_gen/matplotlib.lines.Line2D.html#matplotlib.lines.Line2D.lineStyles\">here</a> keywords on the matplotlib website.</b>\n",
    "</font>"
   ]
  },
  {
   "cell_type": "markdown",
   "metadata": {},
   "source": [
    "<font size=\"3\">\n",
    "<div class=\"alert alert-warning\"><b>Exercise 5:</b> Create a plot for the function f(x) = 3x + 2 in the interval [-2, 3] in <b>black</b>. Also plot a horizontal, <b>red</b>, <b>dashed</b> line in the same graph at y = 1.\n",
    "<br><br>\n",
    "<b>Hint:</b> Use np.arange or <a href=\"https://numpy.org/doc/stable/reference/generated/numpy.linspace.html\">np.linspace</a> to create an array with x values. Use the style keywords color and linestyle to change the appearance of the graphs. Use <a href=\"https://numpy.org/doc/stable/reference/generated/numpy.full.html\">np.full</a> to create an array filled with a given value.\n",
    "</div>\n",
    "</font>"
   ]
  },
  {
   "cell_type": "markdown",
   "metadata": {},
   "source": [
    "### Try it yourself:"
   ]
  },
  {
   "cell_type": "code",
   "execution_count": null,
   "metadata": {},
   "outputs": [],
   "source": []
  },
  {
   "cell_type": "markdown",
   "metadata": {},
   "source": [
    "### Example Solution:"
   ]
  },
  {
   "cell_type": "code",
   "execution_count": 78,
   "metadata": {},
   "outputs": [
    {
     "data": {
      "text/plain": [
       "[<matplotlib.lines.Line2D at 0x7f70f24f0940>]"
      ]
     },
     "execution_count": 78,
     "metadata": {},
     "output_type": "execute_result"
    },
    {
     "data": {
      "image/png": "[encoded data removed]",
      "text/plain": [
       "<Figure size 432x288 with 1 Axes>"
      ]
     },
     "metadata": {
      "needs_background": "light"
     },
     "output_type": "display_data"
    }
   ],
   "source": [
    "from matplotlib import pyplot\n",
    "\n",
    "# creates an array with 100 values between -2 and 3 \n",
    "x = np.linspace(-2,3,100)\n",
    "y = 3 * x + 2\n",
    "# creates an array with 100 elements filled with 1\n",
    "y2 = np.full(100, 1)\n",
    "\n",
    "plt.plot(x,y,color=\"black\")\n",
    "plt.plot(x,y2,color=\"red\",linestyle=\"--\")"
   ]
  }
 ],
 "metadata": {
  "kernelspec": {
   "display_name": "Python 3",
   "language": "python",
   "name": "python3"
  },
  "language_info": {
   "codemirror_mode": {
    "name": "ipython",
    "version": 3
   },
   "file_extension": ".py",
   "mimetype": "text/x-python",
   "name": "python",
   "nbconvert_exporter": "python",
   "pygments_lexer": "ipython3",
   "version": "3.8.3"
  },
  "varInspector": {
   "cols": {
    "lenName": 16,
    "lenType": 16,
    "lenVar": 40
   },
   "kernels_config": {
    "python": {
     "delete_cmd_postfix": "",
     "delete_cmd_prefix": "del ",
     "library": "var_list.py",
     "varRefreshCmd": "print(var_dic_list())"
    },
    "r": {
     "delete_cmd_postfix": ") ",
     "delete_cmd_prefix": "rm(",
     "library": "var_list.r",
     "varRefreshCmd": "cat(var_dic_list()) "
    }
   },
   "types_to_exclude": [
    "module",
    "function",
    "builtin_function_or_method",
    "instance",
    "_Feature"
   ],
   "window_display": false
  }
 },
 "nbformat": 4,
 "nbformat_minor": 4
}
