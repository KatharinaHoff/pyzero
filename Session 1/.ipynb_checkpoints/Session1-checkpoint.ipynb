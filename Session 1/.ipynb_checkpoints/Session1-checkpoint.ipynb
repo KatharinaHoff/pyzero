{
 "cells": [
  {
   "cell_type": "markdown",
   "metadata": {},
   "source": [
    "# Python from Zero: The absolute Beginner's course\n",
    "\n",
    "## Session 1 / 4 - 02.08.2021 9:00 - 12:30\n",
    "<br>\n",
    "<font size=\"3\">\n",
    "    <i>by Fabian Wilde, Katharina Hoff, Matthis Ebel & Mario Stanke<br></i><br>\n",
    "<b>Contact:</b> fabian.wilde@uni-greifswald.de\n",
    "<br>\n",
    "</font>\n",
    "<br>\n",
    "<center>\n",
    "    <a href=\"img/meme_python_xkcd353.png\"><img src=\"img/meme_python_xkcd353.png\" width=\"40%\"></a>\n",
    "</center>\n",
    "<br>\n",
    "<font size=\"2\"><i>Source: <a href=\"https://xkcd.com/353/\">https://xkcd.com/353/</a></i></font>\n",
    "<br>\n",
    "<br>\n",
    "<font size=\"3\">\n",
    "Python became one of the most popular and versatile programming languages in various scientific disciplines for data analysis and visualization. It is also one of the most demanded programming languages outside academia in particular for machine learning applications and business data analytics. Therefore it will be an invaluable skill once you've mastered this and other more advances courses in Python.<br>\n",
    "\n",
    "**Python is not translated to machine language before execution.** <br>\n",
    "In contrast to other popular programming languages like e.g. C++ or Java, the code is not precompiled which means the code is not translated from a human-readable version of the program to a so-called executable binary file (containing the binary machine language (assembler) version of the program) before it is executed. <br>\n",
    "\n",
    "**Python is an interpreted language.** <br>\n",
    "In simple words, the program is translated on-the-fly line by line while it is executed. Interpreted languages have a slight performance drawback, but this is negligible in most applications. In particular Python had a bad reputation regarding its execution speed in its infancy. But nowadays, its speed is even comparable to C(++) which is achieved by integrated precompiled libraries like numpy.<br>\n",
    "\n",
    "**Python is platform-independent.** <br>\n",
    "Python is available for various platform like Windows, Linux, but also Mac OS X and Android, even within a web browser as you can see here. As mentioned above, some libraries could be precompiled for a specific target platform. Therefore, it depends in the end on the 3rd party dependencies of your code whether it'll run flawlessly under all operating systems.<br>\n",
    "\n",
    "**In this course Python 3 is used.** <br>\n",
    "</font>\n",
    "    \n",
    "## Objective of this course\n",
    "\n",
    "<br>\n",
    "<font size=\"3\">\n",
    "This course doesn't aim at transforming you from an absolute beginner into a high-end professional. Instead, you'll become familiar with the core concepts of a programming language and how they are implemented in Python. You'll be enabled to write your own, first, simple Python scripts which is then the foundation for more advanced data handling and visualization and object-oriented programming.\n",
    "</font><br>\n",
    "\n",
    "## Usage modes for Python\n",
    "\n",
    "<br>\n",
    "<font size=\"3\">\n",
    "Python offers an interactive and a non-interactive usage mode. In this course, <b>we will only use the interactive usage mode.</b> This course uses the popular <b>Jupyter environment</b> and <b>Jupyter Notebooks</b> offering an interactive environment where we can enter commands and immediately see the results.\n",
    "\n",
    "Click for example in the empty cell below and enter `1 + 1` or `print(\"Hello world!\")` (or any other simple arithmetic expression) and **press Ctrl + Enter** to execute the content of the currently selected cell (The currenty selected cell has a blue left border which switches to green when being edited.):"
   ]
  },
  {
   "cell_type": "code",
   "execution_count": 1,
   "metadata": {},
   "outputs": [
    {
     "data": {
      "text/plain": [
       "2"
      ]
     },
     "execution_count": 1,
     "metadata": {},
     "output_type": "execute_result"
    }
   ],
   "source": [
    "1+1"
   ]
  },
  {
   "cell_type": "code",
   "execution_count": 2,
   "metadata": {},
   "outputs": [
    {
     "data": {
      "text/plain": [
       "256"
      ]
     },
     "execution_count": 2,
     "metadata": {},
     "output_type": "execute_result"
    }
   ],
   "source": [
    "2**8"
   ]
  },
  {
   "cell_type": "code",
   "execution_count": 3,
   "metadata": {},
   "outputs": [
    {
     "name": "stdout",
     "output_type": "stream",
     "text": [
      "Hello world!\n"
     ]
    }
   ],
   "source": [
    "print(\"Hello world!\")"
   ]
  },
  {
   "cell_type": "markdown",
   "metadata": {},
   "source": [
    "<font size=\"3\"><b>You should see the result or the output of the commands in the cell below.</b></font>\n",
    "\n",
    "### Useful Keyboard Shortcuts in a JupyterNotebook\n",
    "<br>\n",
    "\n",
    "<font size=\"3\">\n",
    "    \n",
    "| Shortcut | Function |\n",
    "| -------- | ----------- |\n",
    "| Esc      | Switch to command mode |\n",
    "| Enter    | Switch to edit mode |\n",
    "| B        | Creates new empty cell **B**elow |\n",
    "| H        | Show **H**elp   |\n",
    "| X        | Deletes currently selected cell|\n",
    "| Shift + Enter | Run cell and advance to next cell |\n",
    "| Ctrl  + Enter | Run cell |\n",
    "| Ctrl  + S     | Save notebook |\n",
    "\n",
    "<b>The frame color of the currently selected cell changes from blue in command mode to green in edit mode.</b>\n",
    "\n",
    "</font>"
   ]
  },
  {
   "cell_type": "markdown",
   "metadata": {},
   "source": [
    "## JupyterHub\n",
    "\n",
    "<br>\n",
    "<font size=\"3\">\n",
    "JupyterHub is a Jupyter environment running on a remote server of the university (which we're using right now).<br>\n",
    "<b>It is accessible from within the university network or remotely from home via the VPN client.</b><br>Therefore, a local installation is not necessary.<br>\n",
    "<div class=\"alert alert-warning\" role=\"alert\">\n",
    "    <b>If you're connected to eduroam, you can directly access the JupyterHub via</b>\n",
    "    <a href=\"https://jupyterhub.wolke.uni-greifswald.de/hub/login\">https://jupyterhub.wolke.uni-greifswald.de/hub/login</a> using your personal login credentials from the university data center.\n",
    "</div>\n",
    "\n",
    "<b>Open a terminal and run the following command to download (or clone) the course materials</b> to your Jupyter notebook instance:\n",
    "\n",
    "`git clone https://github.com/fwilde/pyzero`\n",
    "    \n",
    "<b>Alternatively, create a new notebook</b> and run the following commands in a new cell to download the course materials:"
   ]
  },
  {
   "cell_type": "code",
   "execution_count": null,
   "metadata": {
    "code_folding": []
   },
   "outputs": [],
   "source": [
    "%%bash\n",
    "git clone https://github.com/pyzero"
   ]
  },
  {
   "cell_type": "markdown",
   "metadata": {},
   "source": [
    "## Local Setup\n",
    "\n",
    "<br>\n",
    "<font size=\"3\">\n",
    "In case you prefer to use Jupyter Hub, you can skip the setup section. If you'd like to write and test your code independently from the university infrastructure <b> or in case you're an external participant without eduroam or VPN access</b>, then install the Jupyter environment locally on your machine, following the instructions below.\n",
    "\n",
    "### Linux\n",
    "\n",
    "The easiest way is to download and install the Anaconda distribution here: <br>\n",
    "https://repo.anaconda.com/archive/Anaconda3-2021.05-Linux-x86_64.sh\n",
    "\n",
    "### Mac OS X\n",
    "\n",
    "The easiest way is to download and install the Anaconda distribution here: <br>\n",
    "https://repo.anaconda.com/archive/Anaconda3-2021.05-MacOSX-x86_64.pkg\n",
    "\n",
    "### Windows\n",
    "\n",
    "The easiest way is to download and install the Anaconda distribution here: <br>\n",
    "https://repo.anaconda.com/archive/Anaconda3-2021.05-Windows-x86_64.exe\n",
    "    \n",
    "</font>"
   ]
  },
  {
   "cell_type": "markdown",
   "metadata": {},
   "source": [
    "# Variables\n",
    "<br>\n",
    "<font size=\"3\">\n",
    "    \n",
    "**A computer stores all kind of data which is processed in a program in the random-access memory (RAM). The areas in the memory have so-called addresses represented by sequences of bits (zeros and ones), hence binary numbers.** \n",
    "<br>To improve readability for humans (since the binary memory addresses are 32 or 64 digits long for a modern computer system), the memory addresses are converted to hexadecimal numbers leading to shorter sequences.\n",
    "\n",
    "<div class=\"alert alert-info\">Since it would be very incovenient and error-prone to use memory addresses in computer programs, <b>variable names are introduced as human-readable aliases for the memory addresses.</b></div>\n",
    "\n",
    "**A data type of a variable defines the size of the address block reserved in the RAM. In case of numerical data, the size defines the maximum value range for the data type.**<br>\n",
    "    \n",
    "<b>Below you see an illustration of the memory allocation of a variable in the RAM:</b>\n",
    "\n",
    "<br>\n",
    "<center>\n",
    "<img src=\"img/ram_repr2.png\" width=\"67%\">    \n",
    "</center>\n",
    "<br>\n",
    "<font size=\"2\"><i>Modified version from source: <a href=\"https://microchipdeveloper.com/tls2101:data-pointers\">https://microchipdeveloper.com/tls2101:data-pointers</a></i></font>\n",
    "<br>"
   ]
  },
  {
   "cell_type": "markdown",
   "metadata": {},
   "source": [
    "<font size=\"3\"><b>\n",
    "Examples for numerical data types are</b>\n",
    "\n",
    "| Name            | Short Name | Size                      | Value Range                  |\n",
    "| --------------- | ---------- | ------------------------- |------------------------------|\n",
    "| boolean         | bool       | 1 bit                     | 0 (False) or 1 (True)        |\n",
    "| unsigned int    | uint8      | 8 bits                    | 0 to 255 = $2^8$             |\n",
    "| signed int      | int8       | (7 + 1 =) 8 bits          | -127 = $-2^7$ to 127 = $2^7$ |\n",
    "| float or single | float32    | (1 + 8 + 23 =) 32 bits    | $\\sim \\pm 1 \\cdot 10^{-38}$ to $\\pm3 \\cdot 10^{38}$ |\n",
    "| double          | float64    | (1 + 11 + 52 =) 64 bits   | $\\sim \\pm 2 \\cdot 10^{-308}$ to $\\pm 1 \\cdot 10^{308}$ |\n",
    "\n",
    "<br>\n",
    "In most programming languages like C(++) or Java, the data type of the variable is static and has to be defined in advance. **In contrast, Python is much easier and tries to guess the data type of the variable during the runtime at its first appearance. A specific data type can also be explicitly defined or changed (casted) later.**\n",
    "\n",
    "**Below you see examples of various variables where different values where assigned:**\n",
    "</font>"
   ]
  },
  {
   "cell_type": "code",
   "execution_count": 6,
   "metadata": {},
   "outputs": [
    {
     "name": "stdout",
     "output_type": "stream",
     "text": [
      "Hello world! \n",
      "\n",
      "Hello world! \\n\n"
     ]
    }
   ],
   "source": [
    "var1  = False              # Definition of a boolean variable\n",
    "var2  = 4                  # Definition of an integer variable\n",
    "var3  = 123.456            # Definition of floating point number variable\n",
    "var4  = 9.1e-31            # Python supports the scientific notation for floats\n",
    "\n",
    "# Definition of a string with double quotes -> special escape sequences / string literals are replaced\n",
    "# which are characters which are non-visible e.g. \\n (ASCII linefeed) causes a line break in the output\n",
    "var5  = \"Hello world! \\n\"\n",
    "print(var5)\n",
    "# Definition of a string with single quotes and preceding r \n",
    "# -> string without handling of escape sequences is used\n",
    "var10 = r'Hello world! \\n'\n",
    "print(var10)\n",
    "\n",
    "var6 = var7 = 3.14159      # Multiple Assignments in one line\n",
    "var8, var9 = \"Python\", 4   # Multiple Assignments in one line"
   ]
  },
  {
   "cell_type": "markdown",
   "metadata": {},
   "source": [
    "<div class=\"alert alert-info\"><font size=\"3\"><b>Info: Single-line or in-line comments in Python begin with the hash character \"#\".</b></font></div>"
   ]
  },
  {
   "cell_type": "markdown",
   "metadata": {},
   "source": [
    "# Functions\n",
    "\n",
    "<center>\n",
    "    <img src=\"img/function.png\" width=\"33%\">\n",
    "</center>\n",
    "<br>\n",
    "<font size=\"2\"><i>Source: <a href=\"https://www.blogit.nl/functional-programming-modern-complexity/\">https://www.blogit.nl/functional-programming-modern-complexity/</a></i></font>\n",
    "<br>\n",
    "\n",
    "<font size=\"3\">\"<i>Functions are <b>self-contained</b> modules of code that accomplish a specific task. Functions usually <b>take in</b> data, process it, and <b>return</b> a result. Once a function is written, it can be used over and over and over again. Functions can be <b>called</b> from the inside of other functions.</i>\" (<a href=\"https://www.cs.utah.edu/~germain/PPS/Topics/functions.html#:~:text=Functions%20are%20%22self%20contained%22%20modules,the%20inside%20of%20other%20functions\">www.cs.utah.edu</a>).<br>\n",
    "    \n",
    "<b>In fact, we already made use of functions:</b><br> We can see the <b>content</b> and the <b>type</b> of the variables defined above with the functions <i><b>print()</b></i> and <i><b>type()</b></i>.<br> <br>\n",
    "<b>A function call is performed with <i>function_name</i>(<i>argument(s)</i>)</b>. Today, we will not write our own functions. Instead, we will use existing functions. The type of a Python variable is retrieved with the <i>type()</i> function. <b>The content</b> of a Python variable is printed with the <i>print()</i> function.</font>"
   ]
  },
  {
   "cell_type": "code",
   "execution_count": 7,
   "metadata": {},
   "outputs": [
    {
     "name": "stdout",
     "output_type": "stream",
     "text": [
      "<class 'bool'>\n",
      "False\n",
      "<class 'int'>\n",
      "4\n",
      "<class 'float'>\n",
      "123.456\n",
      "<class 'float'>\n",
      "9.1e-31\n",
      "<class 'str'>\n",
      "Hello world! \n",
      "\n",
      "<class 'str'>\n",
      "Hello world! \\n\n"
     ]
    }
   ],
   "source": [
    "print(type(var1))    # Outputs data type or class of the variable var1\n",
    "print(var1)          # Outputs content of the variable var1\n",
    "print(type(var2))    # Outputs data type or class of the variable var2\n",
    "print(var2)          # Outputs content of the variable var2\n",
    "print(type(var3))    # Outputs data type or class of the variable var3\n",
    "print(var3)          # Outputs content of the variable var3\n",
    "print(type(var4))    # Outputs data type or class of the variable var4\n",
    "print(var4)          # Outputs content of the variable var4\n",
    "\n",
    "print(type(var5))    # Outputs data type or class of the variable var5\n",
    "print(var5)          # Outputs content of the variable var5, the escape sequence \"\\n\" is replaced by line break\n",
    "print(type(var10))    # Outputs data type or class of the variable var10\n",
    "print(var10)          # Outputs content of the variable var10, the escape sequence \"\\n\" is just printed"
   ]
  },
  {
   "cell_type": "markdown",
   "metadata": {},
   "source": [
    "<font size = \"3\">So Python automatically assigned adequate data types to the variables based on the assigned values. But it is also possible to explicitly use or convert to a specific data type, if possible:</font>"
   ]
  },
  {
   "cell_type": "code",
   "execution_count": 8,
   "metadata": {},
   "outputs": [
    {
     "name": "stdout",
     "output_type": "stream",
     "text": [
      "<class 'bool'>\n",
      "False\n",
      "<class 'int'>\n",
      "0\n"
     ]
    }
   ],
   "source": [
    "print(type(var1))    # Outputs data type or class of the variable var1\n",
    "print(var1)          # Outputs the content of the variable var1\n",
    "var9 = int(var1)     # Converts var1 of type boolean to integer and stores result in variable var9\n",
    "print(type(var9))    # Outputs data type or class of the variable var9\n",
    "print(var9)          # Outputs the content of the variable var9"
   ]
  },
  {
   "cell_type": "code",
   "execution_count": 9,
   "metadata": {},
   "outputs": [
    {
     "name": "stdout",
     "output_type": "stream",
     "text": [
      "<class 'int'>\n",
      "4\n",
      "<class 'float'>\n",
      "4.0\n",
      "<class 'str'>\n",
      "4.0\n"
     ]
    }
   ],
   "source": [
    "print(type(var2))    # Outputs data type or class of the variable var2\n",
    "print(var2)          # Outputs content of the variable var2\n",
    "\n",
    "var10 = float(var2)  # Converts var2 of type integer to float and stores result in variable var10\n",
    "print(type(var10))   # Outputs data type or class of the variable var10\n",
    "print(var10)         # Outputs content of the variable var10\n",
    "\n",
    "var11 = str(var10)   # Converts var10 of type float to string and stores result in variable var11\n",
    "print(type(var11))   # Outputs data type or class of the variable var11\n",
    "print(var11)         # Outputs content of the variable var11"
   ]
  },
  {
   "cell_type": "markdown",
   "metadata": {},
   "source": [
    "<font size=3>In contrast to programming languages with static typing, it is not a problem in Python to mix different data types in arithmetic operations, since integers are implicitly converted to float:</font>"
   ]
  },
  {
   "cell_type": "code",
   "execution_count": 10,
   "metadata": {},
   "outputs": [
    {
     "name": "stdout",
     "output_type": "stream",
     "text": [
      "<class 'float'>\n",
      "127.456\n"
     ]
    }
   ],
   "source": [
    "result = var2 + var3   # Adds var2 of type integer to var3 of type float\n",
    "print(type(result))    # Outputs the data type or class of the variable result\n",
    "print(result)          # Outputs "
   ]
  },
  {
   "cell_type": "markdown",
   "metadata": {},
   "source": [
    "<font size=\"3\"><b>In some cases the implicit data type conversion fails</b> and a specific data type is required:</font>"
   ]
  },
  {
   "cell_type": "code",
   "execution_count": 11,
   "metadata": {},
   "outputs": [
    {
     "ename": "TypeError",
     "evalue": "can only concatenate str (not \"int\") to str",
     "output_type": "error",
     "traceback": [
      "\u001b[0;31m---------------------------------------------------------------------------\u001b[0m",
      "\u001b[0;31mTypeError\u001b[0m                                 Traceback (most recent call last)",
      "\u001b[0;32m<ipython-input-11-fa69ebb46120>\u001b[0m in \u001b[0;36m<module>\u001b[0;34m\u001b[0m\n\u001b[0;32m----> 1\u001b[0;31m \u001b[0mresult\u001b[0m \u001b[0;34m=\u001b[0m \u001b[0mvar5\u001b[0m \u001b[0;34m+\u001b[0m \u001b[0mvar2\u001b[0m   \u001b[0;31m# Attempts to add var5 of type string to var2 of type integer\u001b[0m\u001b[0;34m\u001b[0m\u001b[0;34m\u001b[0m\u001b[0m\n\u001b[0m",
      "\u001b[0;31mTypeError\u001b[0m: can only concatenate str (not \"int\") to str"
     ]
    }
   ],
   "source": [
    "result = var5 + var2   # Attempts to add var5 of type string to var2 of type integer"
   ]
  },
  {
   "cell_type": "markdown",
   "metadata": {},
   "source": [
    "<font size=\"3\">Converting var2 (of type integer) to a string solves the problem and the strings are simply concatenated using the addition operator \"+\":</font>"
   ]
  },
  {
   "cell_type": "code",
   "execution_count": 17,
   "metadata": {},
   "outputs": [
    {
     "name": "stdout",
     "output_type": "stream",
     "text": [
      "<class 'str'>\n",
      "Hello world! \n",
      "4\n"
     ]
    }
   ],
   "source": [
    "result = var5 + str(var2) # Concatenates the string var5 with the string representation of var2\n",
    "print(type(result))       # Outputs data type or class of the variable result\n",
    "print(result)             # Outputs content of the variable result"
   ]
  },
  {
   "cell_type": "markdown",
   "metadata": {},
   "source": [
    "<font size=\"3\">\n",
    "Another example for number to string conversion:\n",
    "</font>"
   ]
  },
  {
   "cell_type": "code",
   "execution_count": 18,
   "metadata": {},
   "outputs": [
    {
     "name": "stdout",
     "output_type": "stream",
     "text": [
      "<class 'str'>\n",
      "<class 'float'>\n"
     ]
    },
    {
     "data": {
      "text/plain": [
       "246.246"
      ]
     },
     "execution_count": 18,
     "metadata": {},
     "output_type": "execute_result"
    }
   ],
   "source": [
    "var11 = \"123.123\"\n",
    "print(type(var11))\n",
    "var11 = float(var11)\n",
    "print(type(var11))\n",
    "var11 + var11"
   ]
  },
  {
   "cell_type": "markdown",
   "metadata": {},
   "source": [
    "<font size=\"3\"><div class=\"alert alert-warning\"><b>Exercise:</b> <br> Write some code which defines 3 numbers, sums them and outputs the three numbers seperated by commas in one line and their sum in a new line.</div>\n",
    "\n",
    "<b>Try it yourself:</b></font>"
   ]
  },
  {
   "cell_type": "code",
   "execution_count": null,
   "metadata": {},
   "outputs": [],
   "source": []
  },
  {
   "cell_type": "markdown",
   "metadata": {
    "heading_collapsed": true
   },
   "source": [
    "### Example Solution:"
   ]
  },
  {
   "cell_type": "code",
   "execution_count": 20,
   "metadata": {
    "hidden": true
   },
   "outputs": [
    {
     "name": "stdout",
     "output_type": "stream",
     "text": [
      "2,5,6\n",
      "13\n"
     ]
    }
   ],
   "source": [
    "a = 2\n",
    "b = 5\n",
    "c = 6\n",
    "result = a + b + c\n",
    "print(str(a) + \",\" + str(b) + \",\" + str(c))\n",
    "print(str(result))"
   ]
  },
  {
   "cell_type": "markdown",
   "metadata": {},
   "source": [
    "## Writing Your Own Functions\n",
    "\n",
    "<br>\n",
    "<center>\n",
    "    <img src=\"img/python-function.svg\" width=\"60%\">\n",
    "</center>\n",
    "<br>\n",
    "<font size=\"2\"><i>Source: <a href=\"https://swcarpentry.github.io/python-novice-inflammation/08-func/index.html\">https://swcarpentry.github.io/python-novice-inflammation/08-func/index.html</a></i></font>\n",
    "<br>\n",
    "<br>\n",
    "<font size=\"3\">\n",
    "Writing our own function is quick and easy. Similar to a function in the mathematical sense, we have input variables, statements where we do something with those variables and an output value which is returned with the <b><i>return</i></b> statement at the end of the function block. The beginning and the end of a block is indicated by an indentation, either using tabs (the key with the two arrows) or (white)spaces.\n",
    "    \n",
    "<b>Functions are particularily useful to improve readability and maintainability of your code if code blocks repeat and changes are required. Using a function, you only need to change the code at one place to change all occurrences or calls of your function in your program. Therefore functions are a good way to structure your code.</b>\n",
    "\n",
    "\n",
    "### Example:\n",
    "\n",
    "</font>"
   ]
  },
  {
   "cell_type": "code",
   "execution_count": 21,
   "metadata": {},
   "outputs": [
    {
     "name": "stdout",
     "output_type": "stream",
     "text": [
      "1 + 1 = 2\n",
      "bar( 1 , 0 ) called\n",
      "bar( 2 , 3 ) called\n"
     ]
    }
   ],
   "source": [
    "# function with just one expected argument\n",
    "def foo(a):\n",
    "    # the argument variable name can be used within the function body\n",
    "    return a + 1\n",
    "\n",
    "b = foo(1)\n",
    "print(\"1 + 1 =\", b)\n",
    "\n",
    "# function with one mandatory and one optional argument\n",
    "# a default value was set for parameter d\n",
    "def bar(c, d=0):\n",
    "    print (\"bar(\", c, \",\", d, \") called\")\n",
    "    \n",
    "# function call with just one parameter (default value is used for parameter d)\n",
    "bar(1)\n",
    "# function call where parameter values are explicitly defined\n",
    "bar(d=3, c=2)"
   ]
  },
  {
   "cell_type": "markdown",
   "metadata": {},
   "source": [
    "<font size=\"3\"><div class=\"alert alert-warning\"><b>Exercise 2:</b> <br> Define a function to greet a person with his/her individual name. Use the print function to output the greeting. The function should expect one argument containing the person's name.</div>\n",
    "\n",
    "<b>Try it yourself:</b></font>"
   ]
  },
  {
   "cell_type": "code",
   "execution_count": null,
   "metadata": {},
   "outputs": [],
   "source": []
  },
  {
   "cell_type": "markdown",
   "metadata": {},
   "source": [
    "### Example Solution:"
   ]
  },
  {
   "cell_type": "code",
   "execution_count": 23,
   "metadata": {
    "scrolled": true
   },
   "outputs": [
    {
     "name": "stdout",
     "output_type": "stream",
     "text": [
      "Hello World !\n"
     ]
    }
   ],
   "source": [
    "def greet(name):\n",
    "    print(\"Hello \" + name + \" !\")\n",
    "greet(\"World\")"
   ]
  },
  {
   "cell_type": "markdown",
   "metadata": {},
   "source": [
    "# Python Datatypes\n",
    "<br>\n",
    "<font size=\"3\">\n",
    "Besides the universal data types Boolean, Integer, Float and String which can be found in most programming languages, Python offers a variety of Python specific data types (or data type classes). \n",
    "Among those <b>Tuples</b>, <b>Lists</b> and <b>Dictionaries</b> are the most frequent ones used in Python.\n",
    "</font>"
   ]
  },
  {
   "cell_type": "markdown",
   "metadata": {},
   "source": [
    "## Tuples\n",
    "<br>\n",
    "<font size=\"3\">\n",
    "A tuple in Python represents an <b>immutable</b> list (with fixed length) of objects or elements of variable data types e.g. Bool, Integer, Float, String or an arbitrary object of an user-defined class. Tuples are also <b>ordered</b>, hence two tuples containing the same elements, but in different order, are not considered equal.<br><br>\n",
    "    \n",
    "**A tuple is initialized using round brackets.**\n",
    "</font>\n",
    "\n",
    "### Example:"
   ]
  },
  {
   "cell_type": "code",
   "execution_count": null,
   "metadata": {},
   "outputs": [],
   "source": [
    "# a Python tuple is initialized with ROUND brackets\n",
    "t1 = (1,2,3,)\n",
    "print(\"t1 is of \" + str(type(t1)))  # Outputs the variable data type or object class\n",
    "print(\"t1 contains \" + str(t1))     # Outputs the content of the variable\n",
    "\n",
    "# or using the so-called constructor, a special function creating an object instance (instanciation) of a class\n",
    "t2 = tuple((4,5,6))\n",
    "print(\"t2 is of\" + str(type(t2)))  # Outputs the variable data type or object class\n",
    "print(\"t2 contains \" + str(t2))    # Outputs the content of the variable\n",
    "\n",
    "t3 = t1                            # Assign copy* of t1 to t3\n",
    "t4 = (3,1,2,)\n",
    "\n",
    "result = t3 == t1                  # Compare the tuples t1 and t3\n",
    "print(\"Is t3 == t1 ?\")\n",
    "print(result)                      # Output the result of the comparison\n",
    "\n",
    "result2 = t4 == t1                  # Compare the tuples t1 and t4\n",
    "print(\"Is t4 == t1 ?\")\n",
    "print(result2)                      # Output the result of the comparison"
   ]
  },
  {
   "cell_type": "markdown",
   "metadata": {},
   "source": [
    "<font size=\"3\">Alternatively, instead of using the built-in type function, **you can check the data type of a Python variable* with the isinstance() function.**</font> <br><br>\n",
    "\n",
    "<font size=\"3\"><i>* You can use the isinstance() function to check if an arbitrary Python object is of a specific Python class.</i></font>"
   ]
  },
  {
   "cell_type": "code",
   "execution_count": 1,
   "metadata": {},
   "outputs": [
    {
     "ename": "NameError",
     "evalue": "name 't1' is not defined",
     "output_type": "error",
     "traceback": [
      "\u001b[0;31m---------------------------------------------------------------------------\u001b[0m",
      "\u001b[0;31mNameError\u001b[0m                                 Traceback (most recent call last)",
      "\u001b[0;32m<ipython-input-1-c85f88414547>\u001b[0m in \u001b[0;36m<module>\u001b[0;34m\u001b[0m\n\u001b[0;32m----> 1\u001b[0;31m \u001b[0mresult1\u001b[0m \u001b[0;34m=\u001b[0m \u001b[0misinstance\u001b[0m\u001b[0;34m(\u001b[0m\u001b[0mt1\u001b[0m\u001b[0;34m,\u001b[0m \u001b[0mfloat\u001b[0m\u001b[0;34m)\u001b[0m   \u001b[0;31m# Check if Python variable t1 is of data type float, yields boolean (False / True)\u001b[0m\u001b[0;34m\u001b[0m\u001b[0;34m\u001b[0m\u001b[0m\n\u001b[0m\u001b[1;32m      2\u001b[0m \u001b[0mprint\u001b[0m\u001b[0;34m(\u001b[0m\u001b[0;34m\"t1 is of \"\u001b[0m\u001b[0;34m+\u001b[0m\u001b[0mstr\u001b[0m\u001b[0;34m(\u001b[0m\u001b[0mtype\u001b[0m\u001b[0;34m(\u001b[0m\u001b[0mt1\u001b[0m\u001b[0;34m)\u001b[0m\u001b[0;34m)\u001b[0m\u001b[0;34m)\u001b[0m\u001b[0;34m\u001b[0m\u001b[0;34m\u001b[0m\u001b[0m\n\u001b[1;32m      3\u001b[0m \u001b[0mprint\u001b[0m\u001b[0;34m(\u001b[0m\u001b[0;34m\"Is t1 an instance of float? -> \"\u001b[0m \u001b[0;34m+\u001b[0m \u001b[0mstr\u001b[0m\u001b[0;34m(\u001b[0m\u001b[0mresult1\u001b[0m\u001b[0;34m)\u001b[0m\u001b[0;34m)\u001b[0m    \u001b[0;31m# Outputs content of result1\u001b[0m\u001b[0;34m\u001b[0m\u001b[0;34m\u001b[0m\u001b[0m\n\u001b[1;32m      4\u001b[0m \u001b[0;34m\u001b[0m\u001b[0m\n\u001b[1;32m      5\u001b[0m \u001b[0mresult2\u001b[0m \u001b[0;34m=\u001b[0m \u001b[0misinstance\u001b[0m\u001b[0;34m(\u001b[0m\u001b[0mt1\u001b[0m\u001b[0;34m,\u001b[0m \u001b[0mtuple\u001b[0m\u001b[0;34m)\u001b[0m\u001b[0;34m\u001b[0m\u001b[0;34m\u001b[0m\u001b[0m\n",
      "\u001b[0;31mNameError\u001b[0m: name 't1' is not defined"
     ]
    }
   ],
   "source": [
    "result1 = isinstance(t1, float)   # Check if Python variable t1 is of data type float, yields boolean (False / True)\n",
    "print(\"t1 is of \"+str(type(t1)))\n",
    "print(\"Is t1 an instance of float? -> \" + str(result1))    # Outputs content of result1\n",
    "\n",
    "result2 = isinstance(t1, tuple)\n",
    "print(\"Is t1 an instance of tuple? -> \" + str(result2))    # Outputs content of result2"
   ]
  },
  {
   "cell_type": "markdown",
   "metadata": {},
   "source": [
    "<font size=\"3\">A very useful function is <b><i>len()</i></b> giving the length of a tuple, list or string:</font>"
   ]
  },
  {
   "cell_type": "code",
   "execution_count": null,
   "metadata": {},
   "outputs": [],
   "source": [
    "t3 = (\"foo\",\"bar\",5,)  # Defines a tuple t3\n",
    "print(\"Length of t3:\") \n",
    "print(len(t3))         # Outputs the length of the tuple t3\n",
    "\n",
    "t4 = ()\n",
    "print(\"Length of t4:\") \n",
    "print(len(t4))         # Outputs the length of the tuple t4\n",
    "\n",
    "s1 = \"Hello world!\"\n",
    "print(\"Length of s1:\") \n",
    "print(len(s1))         # Outputs the length of the string s1"
   ]
  },
  {
   "cell_type": "markdown",
   "metadata": {},
   "source": [
    "## Addressing Tuple Elements\n",
    "<br>\n",
    "<font size=\"3\">\n",
    "The individual elements in a Python Tuple are adressed with an integer index starting from zero. A negative integer can be used to address the tuple elements in reversed order where an index of -1 yields the last element in the tuple. The figure illustrates the element indexing:\n",
    "</font>\n",
    "<br>\n",
    "<br>\n",
    "<div align=\"center\">\n",
    "<img src=\"img/python_list_tuple_negindex.png\" width=\"66%\">\n",
    "</div>\n",
    "<br>\n",
    "<br>\n",
    "<font size=\"2\"><i>Source: <a href=\"https://www.pybloggers.com/2018/07/lists-and-tuples-in-python/\">https://www.pybloggers.com/2018/07/lists-and-tuples-in-python/</a></i></font>\n",
    "<br><br>\n",
    "\n",
    "<font size=\"3\">\n",
    "    <b>Square brackets</b> around the integer index following the tuple's variable name are used <b>to select a specific element of the tuple</b>: \n",
    "</font>\n",
    "<br>\n",
    "\n",
    "### Example:"
   ]
  },
  {
   "cell_type": "code",
   "execution_count": null,
   "metadata": {},
   "outputs": [],
   "source": [
    "t3 = (7, \"orange\", 3.141, \"bread\", \"leite\", 42)    # Assigns tuple containing elements of various data types\n",
    "\n",
    "print(\"Element with index 0 in t3:\")\n",
    "print(t3[0])  # An index of 0 yields the first element of the tuple\n",
    "print(\"Last element in t3:\")\n",
    "print(t3[-1]) # An index of -1 yields the last element of the tuple"
   ]
  },
  {
   "cell_type": "markdown",
   "metadata": {},
   "source": [
    "<font size=\"3\">\n",
    "You can simply query with the \"in\"-operator (which returns a boolean) if a certain element is at least contained once in the tuple:\n",
    "</font>"
   ]
  },
  {
   "cell_type": "code",
   "execution_count": null,
   "metadata": {},
   "outputs": [],
   "source": [
    "t3 = (7, \"orange\", 3.141, \"bread\", \"leite\", 42)    # Assigns tuple containing elements of various data types\n",
    "\n",
    "result = \"orange\" in t3\n",
    "print(\"Is \\\"orange\\\" in t3?\")\n",
    "print(result)\n",
    "\n",
    "result2 = \"paprika\" in t3\n",
    "print(\"Is \\\"paprika\\\" in t3?\")\n",
    "print(result2)"
   ]
  },
  {
   "cell_type": "markdown",
   "metadata": {},
   "source": [
    "<font size=\"3\">If you attempt to access a tuple element with an invalid index e.g. <br>\n",
    "<ul>\n",
    "    <li><b>the index is bigger than len(tuple) - 1<b></li>\n",
    "        <li><b>the index is of the wrong data type</b></li>\n",
    "</ul>\n",
    "an error ocurrs:\n",
    "</font>"
   ]
  },
  {
   "cell_type": "code",
   "execution_count": null,
   "metadata": {},
   "outputs": [],
   "source": [
    "t3 = (7, \"orange\", 3.141, \"bread\", \"leite\", 42) \n",
    "\n",
    "print(\"Length of t3:\")\n",
    "print(len(t3))\n",
    "\n",
    "print(\"Element with index 6:\")\n",
    "print(t3[6])                       # Attempting to access tuple element with invalid index (index out of range)"
   ]
  },
  {
   "cell_type": "markdown",
   "metadata": {},
   "source": [
    "<font size=\"3\">\n",
    "When you attempt to modify an element of the tuple, an exception is thrown, since the tuple is <b>immutable</b>:\n",
    "</font>"
   ]
  },
  {
   "cell_type": "code",
   "execution_count": null,
   "metadata": {},
   "outputs": [],
   "source": [
    "t3 = (7, \"orange\", 3.141, \"bread\", \"leite\", 42) \n",
    "\n",
    "t3[1] = \"apple\""
   ]
  },
  {
   "cell_type": "markdown",
   "metadata": {},
   "source": [
    "<font size = \"3\">\n",
    "    <b>Subsets (called slices in Python)</b> of tuples can be selected using the <font size=\"4\"><b>slice notation</b></font> of Python:\n",
    "</font>\n",
    "<center>\n",
    "<img src=\"img/python_slice.png\" width=\"75%\">\n",
    "</center>\n",
    "<br>\n",
    "<font size=\"2\">\n",
    "<i>Source: <a href=\"https://railsware.com/blog/python-for-machine-learning-indexing-and-slicing-for-lists-tuples-strings-and-other-sequential-types/\">https://railsware.com/blog/python-for-machine-learning-indexing-and-slicing-for-lists-tuples-strings-and-other-sequential-types/</a> </i>\n",
    "</font>\n",
    "<br>\n",
    "<font size=\"3\">\n",
    "Be var e.g. a Python tuple or list, then <br><br>\n",
    "<ul>\n",
    "<li><b>var[start:stop] yields the elements with indices >=start (including start) to < stop (excluding stop)<br></li>\n",
    "<li>var[start:stop:n] yields every n-th element with indices >=start (including start) to < stop (excluding stop)<br></li>\n",
    "<li>var[::-1] yields the elements in reversed order</b></li>\n",
    "</ul>\n",
    "</font>\n",
    "\n",
    "### Example:"
   ]
  },
  {
   "cell_type": "code",
   "execution_count": 2,
   "metadata": {},
   "outputs": [
    {
     "name": "stdout",
     "output_type": "stream",
     "text": [
      "Slice 1:\n",
      "(3.141, 'apple')\n",
      "Slice 2:\n",
      "(3.141, 'apple')\n",
      "Slice 3:\n",
      "(1, 6.626e+23)\n",
      "Slice 4:\n",
      "(6.626e+23, 1, 0, 'milk', 'apple', 3.141)\n",
      "Slice 5:\n",
      "(3.141, 'milk', 1)\n"
     ]
    }
   ],
   "source": [
    "t4 = (3.141, \"apple\", \"milk\", 0, 1, 6.626E23)\n",
    "\n",
    "print(\"Slice 1:\")\n",
    "print(t4[:2])   # yields the slice up to (but not including!) element with index 2\n",
    "\n",
    "print(\"Slice 2:\")\n",
    "print(t4[0:2])  # equivalent to the expression above\n",
    "\n",
    "print(\"Slice 3:\")\n",
    "print(t4[-2:])  # yields the last two elements of the tuple (the first element of the slice has index -2)\n",
    "\n",
    "print(\"Slice 4:\")\n",
    "print(t4[::-1]) # yields every element of the tuple, but in reversed order\n",
    "\n",
    "print(\"Slice 5:\")\n",
    "print(t4[::2])  # yields every 2nd element of the tuple in normal order"
   ]
  },
  {
   "cell_type": "markdown",
   "metadata": {},
   "source": [
    "### Nested Tuples\n",
    "<br>\n",
    "\n",
    "<font size=\"3\">\n",
    "Tuples can also be (arbitrarily) <b>nested</b>, hence a tuple can be an element of another tuple.<br><br>\n",
    "</font>\n",
    "\n",
    "<center>\n",
    "<img src=\"img/python_nested_lists_tuples.png\" width=\"75%\">\n",
    "</center>\n",
    "<font size=\"2\"><i>Source: <a href=\"https://www.pybloggers.com/2018/07/lists-and-tuples-in-python/\">https://www.pybloggers.com/2018/07/lists-and-tuples-in-python/</a></i></font>\n",
    "<br>\n",
    "\n",
    "### Example:"
   ]
  },
  {
   "cell_type": "code",
   "execution_count": null,
   "metadata": {},
   "outputs": [],
   "source": [
    "t1 = (4, 5, \"foo\")\n",
    "t2 = (\"bar\", \"cu\", \"afk\", t1)\n",
    "t3 = (3.141, t2, 1337, 42)\n",
    "print(t3)\n",
    "# t3 = (3.141, t2, 1337, 42)\n",
    "#              |\n",
    "#           (\"bar\", \"cu\", \"afk\", t1)\n",
    "#                                 |\n",
    "#                           (4, 5, \"foo\")"
   ]
  },
  {
   "cell_type": "markdown",
   "metadata": {},
   "source": [
    "<font size=\"3\">\n",
    "In order to access individual elements in a nested tuple, reapply indexing as often as required:\n",
    "</font>"
   ]
  },
  {
   "cell_type": "code",
   "execution_count": null,
   "metadata": {},
   "outputs": [],
   "source": [
    "print(t3[0])\n",
    "print(t3[1])\n",
    "print(t3[1][0])\n",
    "print(t3[1][3])\n",
    "print(t3[1][3][2])"
   ]
  },
  {
   "cell_type": "markdown",
   "metadata": {},
   "source": [
    "<font size=\"3\"><div class=\"alert alert-warning\"><b>Exercise:</b> <br> Define a shopping list as nested tuples. Group vegetables, fruits and diary products in seperate tuples. Then query, if \"Fennel\" is in one of the tuples and count the total number of items on the shopping list.<br><br>\n",
    "<b>The shopping list:</b>\n",
    "<ul>\n",
    "    <li>Tomatoes</li>\n",
    "    <li>Yoghurt</li>\n",
    "    <li>Butter</li>\n",
    "    <li>Apples</li>\n",
    "    <li>Oranges</li>\n",
    "    <li>Fennel</li>\n",
    "    <li>Bananas</li>\n",
    "    <li>Milk</li>\n",
    "    <li>Paprikas</li>\n",
    "</ul>\n",
    "</div>\n",
    "\n",
    "<b>Try it yourself:</b></font>"
   ]
  },
  {
   "cell_type": "code",
   "execution_count": null,
   "metadata": {},
   "outputs": [],
   "source": []
  },
  {
   "cell_type": "markdown",
   "metadata": {},
   "source": [
    "### Example Solution:"
   ]
  },
  {
   "cell_type": "code",
   "execution_count": 3,
   "metadata": {},
   "outputs": [
    {
     "name": "stdout",
     "output_type": "stream",
     "text": [
      "(('Paprika', 'Tomatoes', 'Fennel'), ('Oranges', 'Bananas', 'Apples'), ('Milk', 'Yoghurt', 'Butter'))\n",
      "True\n",
      "False\n",
      "False\n",
      "9\n"
     ]
    }
   ],
   "source": [
    "# assemble grouped shopping list with nested tuples\n",
    "vegetables = (\"Paprika\", \"Tomatoes\", \"Fennel\")\n",
    "fruits = (\"Oranges\", \"Bananas\", \"Apples\")\n",
    "dairy_products = (\"Milk\", \"Yoghurt\", \"Butter\")\n",
    "shopping_list = (vegetables, fruits, dairy_products)\n",
    "print(shopping_list)\n",
    "\n",
    "# ask if \"Fennel\" is in one of the tuples\n",
    "print(\"Fennel\" in vegetables)\n",
    "print(\"Fennel\" in fruits)\n",
    "print(\"Fennel\" in dairy_products)\n",
    "\n",
    "# count the items on the shopping list\n",
    "num_items = len(vegetables) + len(fruits) + len(dairy_products)\n",
    "print(num_items)"
   ]
  },
  {
   "cell_type": "markdown",
   "metadata": {},
   "source": [
    "## Lists\n",
    "<br>\n",
    "\n",
    "<font size=\"3\">\n",
    "    A list in Python behaves similar to the tuple, but it is <b>mutable</b> and <b>dynamic</b>, hence its length and elements can be both changed.<br> Like tuples, lists are also <b>ordered</b>, hence two lists containing the same elements, but in different order, are not considered equal.<br> <b>Slicing</b> works the same way for lists as it does for tuples in Python.\n",
    "<br><br>\n",
    "    <b>A list is initialized using square brackets.</b>\n",
    "</font>\n",
    "\n",
    "### Example:"
   ]
  },
  {
   "cell_type": "code",
   "execution_count": null,
   "metadata": {},
   "outputs": [],
   "source": [
    "cities = ['Greifswald', 'Berlin', 'Hamburg', 'Hannover']   # Definition of a list\n",
    "print(cities)                                              # Output the list\n",
    "cities2 = cities                                           # Assign cities to cities2\n",
    "cities3 = ['Hannover', 'Greifswald', 'Berlin', 'Hamburg']  # Define cities3 as permutation of cities\n",
    "\n",
    "result = cities == cities2                                 # Compare the lists cities and cities2\n",
    "print(\"Is cities == cities2?\")\n",
    "print(result)                                              # Output the result of the comparison\n",
    "\n",
    "result2 = cities == cities3                                # Compare the lists cities and cities3\n",
    "print(\"Is cities == cities3?\")\n",
    "print(result2)                                             # Output the result of the comparison"
   ]
  },
  {
   "cell_type": "markdown",
   "metadata": {},
   "source": [
    "<font size=\"3\">The list content and its length can be easily modified using the assigment via index and the <b>list methods:</b> <b><i>pop()</i></b>, <b><i>append()</i></b> and <b><i>extend()</i></b>. <br>\n",
    "<ul>\n",
    "    <li>The list method <b><i>pop(n)</b></i> removes the n-th element from the list.</li>\n",
    "    <li>The list method <b><i>append(elem)</b></i> adds the element elem to the list.</li>\n",
    "    <li>The list method <b><i>extend(list)</b></i> extends the list with the content of another list.</li>\n",
    "    <li>The list method <b><i>index(elem)</b></i> yields the integer index of the element in the list, if present. <b>Otherwise the list method yields -1.</b></li>\n",
    "</ul>\n",
    "    <b>A method is a function bound to a specific object and acts on the object itself.</b><br>\n",
    "    <b>A method of the list or any object in Python in general is invoked via the \".\" / dot-operator.</b>\n",
    "</font>\n",
    "\n",
    "### Examples:"
   ]
  },
  {
   "cell_type": "code",
   "execution_count": null,
   "metadata": {},
   "outputs": [],
   "source": [
    "# Definition of a list\n",
    "cities = ['Greifswald', 'Berlin', 'Hamburg', 'Hannover']   \n",
    "\n",
    "# Remove element with index 1 from list by invoking the pop() method\n",
    "cities.pop(1)                                              \n",
    "\n",
    "# Output modified list with one element removed\n",
    "print(cities)         "
   ]
  },
  {
   "cell_type": "markdown",
   "metadata": {},
   "source": [
    "<font size=\"3\">\n",
    "    In this case, the method <i>pop()</i> acted on the list \"cities\" itself. The result, the modified list, is accessible using the same variable name and no explicit assignment of the method's result is required.\n",
    "</font>\n",
    "<br>\n",
    "<div class=\"alert alert-info\"><font size = \"4\"><b>Background:</b></font><br>\n",
    "<center>\n",
    "<img src=\"img/python_meme_objs.png\" width=\"20%\">\n",
    "</center>\n",
    "<br>\n",
    "<font size=\"3\">\n",
    "In Python, all entities are objects, hence independent instances of an abstract class. Every object can have functions bound to the object, called <i>methods</i>. The methods of an object can be invoked using the dot-operator. In this case, the lists we create are instances of a List class.</div></font>\n",
    "<br>\n",
    "<font size=\"3\">\n",
    "    <b>An element of the list can be easily modified via the assignment of a new element:</b>\n",
    "</font>"
   ]
  },
  {
   "cell_type": "code",
   "execution_count": null,
   "metadata": {},
   "outputs": [],
   "source": [
    "cities = ['Greifswald', 'Berlin', 'Hamburg', 'Hanover']    # Definition of a list\n",
    "cities[0] = \"Rostock\"                                       # Modification of an element\n",
    "print(cities)"
   ]
  },
  {
   "cell_type": "markdown",
   "metadata": {},
   "source": [
    "<font size=\"3\"><b>You can query the index of a list element, if it is present in the list:</b></font>"
   ]
  },
  {
   "cell_type": "code",
   "execution_count": null,
   "metadata": {},
   "outputs": [],
   "source": [
    "# query an element which is present in the list\n",
    "print(cities.index(\"Rostock\"))\n",
    "# attempt to query an element which is not present in the list\n",
    "# leads to a ValueError exception\n",
    "print(cities.index(\"Munich\"))"
   ]
  },
  {
   "cell_type": "markdown",
   "metadata": {},
   "source": [
    "<font size=\"3\"><b>A list can be extended or concatenated:</b></font>"
   ]
  },
  {
   "cell_type": "code",
   "execution_count": null,
   "metadata": {},
   "outputs": [],
   "source": [
    "cities  = ['Greifswald', 'Berlin', 'Hamburg', 'Hanover']         # Definition of a list\n",
    "cities2 = ['Paris', \"New York\", \"Moscow\", \"Tokyo\", \"Sao Paolo\"]   # Definition of another list\n",
    "# extends the list cities with the elements in list cities2\n",
    "cities.extend(cities2)\n",
    "\n",
    "print(\"Extended list:\")\n",
    "print(cities)\n",
    "\n",
    "# appends an element to the list cities\n",
    "cities.append(cities2)\n",
    "print(cities)"
   ]
  },
  {
   "cell_type": "markdown",
   "metadata": {},
   "source": [
    "<div class=\"alert alert-warning\"><font size = \"4\"><b>Warning:</b></font><font size=\"3\"> Note that assigning a variable to another variable does not (always) mean that an independent copy (of the object) is created, but it can be a mere reference to the original object!</div></font>\n",
    "<br>\n",
    "<font size=\"3\">\n",
    "    <b>This circumstance is illustrated with the following example using lists:</b>\n",
    "</font>"
   ]
  },
  {
   "cell_type": "code",
   "execution_count": null,
   "metadata": {},
   "outputs": [],
   "source": [
    "import copy                                                       # Imports the module copy: includes more functions\n",
    "\n",
    "cities  = ['Greifswald', 'Berlin', 'Hamburg', 'Hanover']         # Definition of a list\n",
    "cities2 = cities                                                  # cities2 falsely assumed to be a copy of cities\n",
    "\n",
    "# Real copy of cities assigned to cities4\n",
    "cities4 = copy.deepcopy(cities)                                   \n",
    "# alternatively, we can just create / instantiate a new list object to have an independent copy\n",
    "cities5 = list(cities)                                            \n",
    "\n",
    "cities3 = ['Paris', \"New York\", \"Moscow\", \"Tokyo\", \"Sao Paolo\"]   # Definition of another list\n",
    "cities.extend(cities3)                                            # Extend list cities with list cities3\n",
    "\n",
    "print(\"cities = \" + str(cities)+\"\\n\")\n",
    "\n",
    "print(\"Shallow copy of / reference to cities:\")\n",
    "print(\"cities2 = \" + str(cities2)+\"\\n\")\n",
    "\n",
    "print(\"Real (deep) copy:\")\n",
    "print(\"cities4 = \" + str(cities4))"
   ]
  },
  {
   "cell_type": "markdown",
   "metadata": {},
   "source": [
    "<font size=\"3\">\n",
    "    Although the list method <b><i>extend()</i></b> was invoked on <i>cities</i>, both, <i>cities</i> and <i>cities2</i> have the same content in the end.<br>\n",
    "<b>That's because <i>cities2</i> is not a full, but just a shallow copy / reference to the original object <i>cities</i>!</b><br><br>\n",
    "    <b>So beware of this pitfall in your future Python programming career!</b>\n",
    "</font>"
   ]
  },
  {
   "cell_type": "markdown",
   "metadata": {},
   "source": [
    "## Dictionaries\n",
    "<br>\n",
    "<font size=\"3\">\n",
    "    A dictionary in Python is a so-called <b>associative array</b> or <b>key-value mapping</b>. In contrast to the list data type in Python, <b>the dictionary has</b> no numerical index, but <b>a set of unique strings</b>, called <b><i>keys</i></b> here, <b>to address its elements</b>. This circumstance is illustrated below:\n",
    "</font>\n",
    "<center>\n",
    "<img src=\"img/python_dicts2.png\" width=\"50%\">\n",
    "</center>\n",
    "<font size=\"2\"><i>Source: <a href=\"https://www.faceprep.in/python/python-nested-dictionaries/\">https://www.faceprep.in/python/python-nested-dictionaries/</a></i></font>\n",
    "<br>\n",
    "<br>\n",
    "<font size=\"3\">Each element of the dictionary has its own, unique key. Like tuples or lists, <b>dictionaries are mutable and dynamic</b>, hence their elements and the size of the dictionary are changeable during runtime. Of course, dictionaries can be also arbitrarily nested.<br>\n",
    "<ul>\n",
    "    <li> <b>A dictionary is initialized using braces {}, following the convention {key : value, key2 : value2, ...} or using the dict constructor dict(key = value, key2 = value2, ...).</b></li>\n",
    "    <li><b>Dictionary elements are addressed with unique keys (strings).</b></li>\n",
    "    <li><b>Multiple existing keys can be updated (effectively replaced) using the dict method <i>update()</i>.</b></li>\n",
    "    <li><b>Keys can be deleted using the dict method <i>pop()</i> or the builtin function <i>del</i>.</b></li>\n",
    "    <li><b>The dictionary can be deep copied using the dict method <i>copy()</i>.</b></li>\n",
    "    <li><b>The dict method <i>keys()</i> yields a list of the dictionary keys.</b></li>\n",
    "    </ul>\n",
    "</font>\n",
    "\n",
    "### Example:"
   ]
  },
  {
   "cell_type": "code",
   "execution_count": null,
   "metadata": {},
   "outputs": [],
   "source": [
    "vegetables_list = [\"paprikas\", \"carrots\"]\n",
    "fruits_list     = [\"apples\", \"bananas\", \"cherries\"]\n",
    "diary_list      = [\"milk\", \"butter\", \"yoghurt\"]\n",
    "\n",
    "# Definition of the dictionary\n",
    "shopping_list = {'vegetables' : vegetables_list, 'fruits' : fruits_list, 'diary' : diary_list}\n",
    "\n",
    "# Output original dictionary\n",
    "print(\"The content of the dictionary shoppping_list:\")\n",
    "print(shopping_list)\n",
    "print(\"\\n\")\n",
    "\n",
    "# Adds a new item to the vegetable list\n",
    "shopping_list[\"vegetables\"].append(\"celery\")\n",
    "\n",
    "# Removes item\n",
    "shopping_list.pop(\"diary\")     #or alternatively to delete single element: del shopping_list[\"diary\"]\n",
    "\n",
    "# Updates entry for key \"fruits\"\n",
    "shopping_list.update({\"fruits\" : [\"maracuja\", \"papaya\"]}) #or alternatively: shopping_list[\"fruits\"] = [\"maracuja\", \"papaya\"]\n",
    "\n",
    "# Output changed dictionary\n",
    "print(\"Changed dict:\")\n",
    "print(shopping_list)\n",
    "\n",
    "# Output dict keys\n",
    "print(\"Dictionary keys:\")\n",
    "# Note that the method keys() yields a dict_keys object, but can be treated as list\n",
    "print(type(shopping_list.keys()))   \n",
    "print(shopping_list.keys())\n",
    "print(list(shopping_list.keys()))"
   ]
  },
  {
   "cell_type": "markdown",
   "metadata": {},
   "source": [
    "<font size=\"3\"><div class=\"alert alert-warning\"><b>Exercise:</b> <br> Define a data structure to store the information of the following table:<br>\n",
    "    \n",
    "| Name | Surname | Age |\n",
    "| ---- | ------- | --- |\n",
    "| Rosalind | Franklin | 100 |\n",
    "| Jane | Doe     | 41  |\n",
    "| John | Doe     | 44  |\n",
    "| Albert | Einstein | 141 |\n",
    "| Marie | Curie | 153 |\n",
    "\n",
    "</div>\n",
    "    \n",
    "\n",
    " \n",
    "<b>Try it yourself:</b></font>"
   ]
  },
  {
   "cell_type": "code",
   "execution_count": null,
   "metadata": {},
   "outputs": [],
   "source": []
  },
  {
   "cell_type": "markdown",
   "metadata": {},
   "source": [
    "### Example Solution 1 (column-wise):"
   ]
  },
  {
   "cell_type": "code",
   "execution_count": null,
   "metadata": {},
   "outputs": [],
   "source": [
    "table = {\"Name\" : [\"Rosalind\", \"Jane\", \"John\", \"Albert\", \"Marie\"], \n",
    "         \"Surname\" : [\"Franklin\", \"Doe\", \"Doe\", \"Einstein\", \"Curie\"],\n",
    "         \"Age\" : [100, 41, 44, 141, 153]}\n",
    "print(table)"
   ]
  },
  {
   "cell_type": "markdown",
   "metadata": {},
   "source": [
    "### Example Solution 2 (row-wise):"
   ]
  },
  {
   "cell_type": "code",
   "execution_count": null,
   "metadata": {},
   "outputs": [],
   "source": [
    "table = []\n",
    "table.append({\"Name\" : \"Rosalind\", \"Surname\" : \"Franklin\", \"Age\" : 100})\n",
    "table.append({\"Name\" : \"Jane\", \"Surname\" : \"Doe\", \"Age\" : 41})\n",
    "table.append({\"Name\" : \"John\", \"Surname\" : \"Doe\", \"Age\" : 41})\n",
    "table.append({\"Name\" : \"Albert\", \"Surname\" : \"Einstein\", \"Age\" : 141})\n",
    "table.append({\"Name\" : \"Marie\", \"Surname\" : \"Curie\", \"Age\" : 153})\n",
    "print(table)"
   ]
  },
  {
   "cell_type": "markdown",
   "metadata": {},
   "source": [
    "<div class=\"alert alert-info\"><font size = \"3\"><b>Info:</b></font><font size=\"3\"> There are more elegant and efficient solutions to handle data in tables, e.g. named arrays in the package numpy or even better DataFrames in the popular package pandas.</div></font>\n"
   ]
  }
 ],
 "metadata": {
  "kernelspec": {
   "display_name": "Python 3",
   "language": "python",
   "name": "python3"
  },
  "language_info": {
   "codemirror_mode": {
    "name": "ipython",
    "version": 3
   },
   "file_extension": ".py",
   "mimetype": "text/x-python",
   "name": "python",
   "nbconvert_exporter": "python",
   "pygments_lexer": "ipython3",
   "version": "3.8.3"
  },
  "varInspector": {
   "cols": {
    "lenName": 16,
    "lenType": 16,
    "lenVar": 40
   },
   "kernels_config": {
    "python": {
     "delete_cmd_postfix": "",
     "delete_cmd_prefix": "del ",
     "library": "var_list.py",
     "varRefreshCmd": "print(var_dic_list())"
    },
    "r": {
     "delete_cmd_postfix": ") ",
     "delete_cmd_prefix": "rm(",
     "library": "var_list.r",
     "varRefreshCmd": "cat(var_dic_list()) "
    }
   },
   "types_to_exclude": [
    "module",
    "function",
    "builtin_function_or_method",
    "instance",
    "_Feature"
   ],
   "window_display": false
  }
 },
 "nbformat": 4,
 "nbformat_minor": 5
}
